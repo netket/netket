{
 "cells": [
  {
   "cell_type": "markdown",
   "id": "04ab0f8e",
   "metadata": {},
   "source": [
    "\n",
    "# Part 1: Hamiltonians and Operators\n",
    "\n",
    "The goal of this tutorial series is to guide you through writing a simple VMC code from (almost) scratch to compute the ground-state of a paradigmatic spin model: the transverse-field Ising model in 2 dimensions.\n",
    "\n",
    "In this first tutorial, we will focus on:\n",
    "- Understanding NetKet's graph and operator system\n",
    "- Defining Hamiltonians using building blocks\n",
    "- Working with different operator formats\n",
    "- Validating our implementation with exact diagonalization\n",
    "\n",
    "The hamiltonian we will study is the transverse-field Ising model in 2 dimensions:\n",
    "\n",
    "$$\n",
    "\\mathcal{H}=-h\\sum_{i}\\sigma_{i}^{(x)}+J\\sum_{\\langle i,j \\rangle}\\sigma_{i}^{(z)}\\sigma_{j}^{(z)}.\n",
    "$$\n",
    "\n",
    "In the following we assume periodic boundary conditions with $h=1$ and $J=1$."
   ]
  },
  {
   "cell_type": "markdown",
   "id": "4bec40d7",
   "metadata": {},
   "source": [
    ":::{note}\n",
    "If you are executing this notebook on **Colab**, you will need to install NetKet.\n",
    "You can do so by uncommenting and running the following cell.\n",
    "\n",
    "Keep in mind that this notebook was designed for NetKet version `3.9.1`, which requires Python >=3.8.\n",
    ":::"
   ]
  },
  {
   "cell_type": "code",
   "execution_count": 1,
   "id": "7a63c4c4",
   "metadata": {
    "execution": {
     "iopub.execute_input": "2025-07-13T14:51:30.957994Z",
     "iopub.status.busy": "2025-07-13T14:51:30.957715Z",
     "iopub.status.idle": "2025-07-13T14:51:30.963295Z",
     "shell.execute_reply": "2025-07-13T14:51:30.962834Z"
    },
    "mystnb": {
     "code_prompt_hide": "Hide",
     "code_prompt_show": "Show and uncomment to install NetKet on colab"
    }
   },
   "outputs": [],
   "source": [
    "# %pip install --quiet netket"
   ]
  },
  {
   "cell_type": "markdown",
   "id": "81a05bca",
   "metadata": {},
   "source": [
    "Please verify that you are running on the correct version of NetKet:"
   ]
  },
  {
   "cell_type": "code",
   "execution_count": 2,
   "id": "49284d82",
   "metadata": {
    "execution": {
     "iopub.execute_input": "2025-07-13T14:51:30.965482Z",
     "iopub.status.busy": "2025-07-13T14:51:30.965311Z",
     "iopub.status.idle": "2025-07-13T14:51:32.199408Z",
     "shell.execute_reply": "2025-07-13T14:51:32.199096Z"
    }
   },
   "outputs": [
    {
     "name": "stdout",
     "output_type": "stream",
     "text": [
      "Python version (requires >=3.9) 3.12.11\n",
      "NetKet version (requires >=3.9.1) 3.19.dev26+gd94cf4597.d20250713\n"
     ]
    }
   ],
   "source": [
    "import platform\n",
    "import netket as nk\n",
    "\n",
    "print(\"Python version (requires >=3.9)\", platform.python_version())\n",
    "print(\"NetKet version (requires >=3.9.1)\", nk.__version__)"
   ]
  },
  {
   "cell_type": "code",
   "execution_count": 3,
   "id": "ede28c64",
   "metadata": {
    "execution": {
     "iopub.execute_input": "2025-07-13T14:51:32.200869Z",
     "iopub.status.busy": "2025-07-13T14:51:32.200715Z",
     "iopub.status.idle": "2025-07-13T14:51:32.202645Z",
     "shell.execute_reply": "2025-07-13T14:51:32.202347Z"
    },
    "tags": [
     "hide-cell"
    ]
   },
   "outputs": [],
   "source": [
    "# Import necessary libraries\n",
    "import netket as nk\n",
    "import numpy as np"
   ]
  },
  {
   "cell_type": "markdown",
   "id": "06118047",
   "metadata": {},
   "source": [
    "## 1. What is NetKet?\n",
    "\n",
    "[NetKet](http://www.netket.org) is a comprehensive package developed to perform Variational Monte Carlo calculations, while hiding varying degrees of complexity from researchers who don't want to get their hands too dirty with nitty gritty details.\n",
    "\n",
    "NetKet is thoroughly documented in [its publication](https://scipost.org/SciPostPhysCodeb.7/pdf) and partly in its [online documentation](https://netket.readthedocs.io/en/latest/index.html). When in doubt, check those, and if you find no answer, ask on our official [discussion forum](https://github.com/orgs/netket/discussions)."
   ]
  },
  {
   "cell_type": "markdown",
   "id": "c512c6b6",
   "metadata": {},
   "source": [
    "## 2. Defining Graphs and Lattices\n",
    "\n",
    "NetKet covers quite a few standard lattices, so let's use this to quickly define a 2D square lattice with periodic boundary conditions.\n",
    "For the moment we assume $L=4$ ($N=16$ sites total)."
   ]
  },
  {
   "cell_type": "code",
   "execution_count": 4,
   "id": "75c90430",
   "metadata": {
    "execution": {
     "iopub.execute_input": "2025-07-13T14:51:32.204028Z",
     "iopub.status.busy": "2025-07-13T14:51:32.203927Z",
     "iopub.status.idle": "2025-07-13T14:51:32.207115Z",
     "shell.execute_reply": "2025-07-13T14:51:32.206810Z"
    }
   },
   "outputs": [],
   "source": [
    "# Define a 2D square lattice\n",
    "L = 4\n",
    "g = nk.graph.Hypercube(length=L, n_dim=2, pbc=True)"
   ]
  },
  {
   "cell_type": "markdown",
   "id": "e5ba214d",
   "metadata": {},
   "source": [
    "The graph object is handy to quickly write the hamiltonian because it gives you easy access to the vertices (called nodes) and edges of the graph:"
   ]
  },
  {
   "cell_type": "code",
   "execution_count": 5,
   "id": "a3bfe098",
   "metadata": {
    "execution": {
     "iopub.execute_input": "2025-07-13T14:51:32.208516Z",
     "iopub.status.busy": "2025-07-13T14:51:32.208409Z",
     "iopub.status.idle": "2025-07-13T14:51:32.210645Z",
     "shell.execute_reply": "2025-07-13T14:51:32.210385Z"
    }
   },
   "outputs": [
    {
     "name": "stdout",
     "output_type": "stream",
     "text": [
      "g.n_nodes: 16\n",
      "g.nodes: [0, 1, 2, 3, 4, 5, 6, 7, 8, 9, 10, 11, 12, 13, 14, 15]\n",
      "g.n_edges: 32\n",
      "g.edges: [(3, 7), (12, 13), (8, 9), (8, 12), (2, 14), (13, 14), (4, 5), (5, 6), (4, 8), (12, 15), (5, 9), (14, 15), (3, 15), (8, 11), (0, 1), (9, 10), (1, 2), (0, 4), (9, 13), (10, 11), (1, 5), (10, 14), (6, 7), (6, 10), (4, 7), (0, 3), (0, 12), (2, 3), (1, 13), (2, 6), (11, 15), (7, 11)]\n"
     ]
    }
   ],
   "source": [
    "# The number of sites (called nodes):\n",
    "print(\"g.n_nodes:\", g.n_nodes)\n",
    "# You can iterate through the nodes:\n",
    "print(\"g.nodes:\", [node for node in g.nodes()])\n",
    "# You can check the number of edges:\n",
    "print(\"g.n_edges:\", g.n_edges)\n",
    "# You can iterate through the edges, which are stored as a 2-tuple with the start and end node:\n",
    "print(\"g.edges:\", list(g.edges()))"
   ]
  },
  {
   "cell_type": "markdown",
   "id": "013624fa",
   "metadata": {},
   "source": [
    "You can also visualize the lattice:"
   ]
  },
  {
   "cell_type": "code",
   "execution_count": 6,
   "id": "755ad54b",
   "metadata": {
    "execution": {
     "iopub.execute_input": "2025-07-13T14:51:32.211845Z",
     "iopub.status.busy": "2025-07-13T14:51:32.211756Z",
     "iopub.status.idle": "2025-07-13T14:51:32.368203Z",
     "shell.execute_reply": "2025-07-13T14:51:32.367909Z"
    }
   },
   "outputs": [
    {
     "data": {
      "image/png": "[encoded data removed]",
      "text/plain": [
       "<Figure size 640x480 with 1 Axes>"
      ]
     },
     "metadata": {},
     "output_type": "display_data"
    },
    {
     "data": {
      "text/plain": [
       "<Axes: title={'center': '2D Lattice (Distance Order: 1)'}, xlabel='X', ylabel='Y'>"
      ]
     },
     "execution_count": 6,
     "metadata": {},
     "output_type": "execute_result"
    }
   ],
   "source": [
    "g.draw()"
   ]
  },
  {
   "cell_type": "markdown",
   "id": "44de18dc",
   "metadata": {},
   "source": [
    "## 3. Defining the Hilbert Space\n",
    "\n",
    "Next, NetKet asks us to define the computational space (or basis) for this calculation."
   ]
  },
  {
   "cell_type": "code",
   "execution_count": 7,
   "id": "bd9106b0",
   "metadata": {
    "execution": {
     "iopub.execute_input": "2025-07-13T14:51:32.369598Z",
     "iopub.status.busy": "2025-07-13T14:51:32.369469Z",
     "iopub.status.idle": "2025-07-13T14:51:32.372902Z",
     "shell.execute_reply": "2025-07-13T14:51:32.372617Z"
    }
   },
   "outputs": [],
   "source": [
    "# Define the Hilbert space based on this graph\n",
    "# We have spin-1/2 particles on each site\n",
    "hi = nk.hilbert.Spin(s=1 / 2, N=g.n_nodes)"
   ]
  },
  {
   "cell_type": "markdown",
   "id": "786c1fdf",
   "metadata": {},
   "source": [
    "This is a fundamental object that defines how many degrees of freedom you have and how you store configurations. In this case, the hilbert space stores them as local variables +1 or -1."
   ]
  },
  {
   "cell_type": "markdown",
   "id": "42fcf319",
   "metadata": {},
   "source": [
    "## 4. Building Operators\n",
    "\n",
    "In NetKet you can build individual operators acting on a site by calling the following functions:"
   ]
  },
  {
   "cell_type": "code",
   "execution_count": 8,
   "id": "cf84cb23",
   "metadata": {
    "execution": {
     "iopub.execute_input": "2025-07-13T14:51:32.374344Z",
     "iopub.status.busy": "2025-07-13T14:51:32.374251Z",
     "iopub.status.idle": "2025-07-13T14:51:32.377076Z",
     "shell.execute_reply": "2025-07-13T14:51:32.376817Z"
    }
   },
   "outputs": [],
   "source": [
    "sx_1 = nk.operator.spin.sigmax(hi, 1)\n",
    "sy_2 = nk.operator.spin.sigmay(hi, 2)\n",
    "sz_2 = nk.operator.spin.sigmaz(hi, 2)"
   ]
  },
  {
   "cell_type": "markdown",
   "id": "ee5d34dd",
   "metadata": {},
   "source": [
    "The functions in `nk.operator.spin` and `nk.operator.boson` are used to create the fundamental operators that can be used to build arbitrary observables and Hamiltonians.\n",
    "Those functions return an object of type [LocalOperator](https://netket.readthedocs.io/en/latest/api/_generated/operator/netket.operator.LocalOperator.html#netket.operator.LocalOperator), which behaves as some sort of sparse matrix optimized for Variational Monte Carlo.\n",
    "\n",
    ":::{note}\n",
    "A `LocalOperator` can efficiently represent only operators that have a small domain in the computational basis: this means that an operator acting on 1 or 2 qubits will be efficiently represented, but one that acts on many qubits at once will not be.\n",
    ":::\n",
    "\n",
    "A LocalOperator can be printed and has the following representation:"
   ]
  },
  {
   "cell_type": "code",
   "execution_count": 9,
   "id": "9cba600a",
   "metadata": {
    "execution": {
     "iopub.execute_input": "2025-07-13T14:51:32.378386Z",
     "iopub.status.busy": "2025-07-13T14:51:32.378295Z",
     "iopub.status.idle": "2025-07-13T14:51:32.380271Z",
     "shell.execute_reply": "2025-07-13T14:51:32.380010Z"
    }
   },
   "outputs": [
    {
     "name": "stdout",
     "output_type": "stream",
     "text": [
      "LocalOperator(dim=16, acting_on=[(1,)], constant=0.0, dtype=float64)\n"
     ]
    }
   ],
   "source": [
    "print(sx_1)"
   ]
  },
  {
   "cell_type": "markdown",
   "id": "ef08a5e3",
   "metadata": {},
   "source": [
    "The information tells you that:\n",
    " * `dim`: The hilbert space has 16 local degrees of freedom\n",
    " * `acting_on`: this specific operator is composed by terms that act on the single site 1\n",
    " * `constant`: this is a diagonal shift proportional to the identity. In this case it is 0\n",
    " * `dtype`: the numpy data-type of the matrix elements"
   ]
  },
  {
   "cell_type": "markdown",
   "id": "2c174f9d",
   "metadata": {},
   "source": [
    "## 5. Exercise: Building the Transverse Field Ising Hamiltonian\n",
    "\n",
    "You can combine operators by multiplying, adding or subtracting them. Let's build the Transverse field Ising hamiltonian:\n",
    "\n",
    "$$\n",
    "\\mathcal{H}=-h\\sum_{i}\\sigma_{i}^{(x)}+J\\sum_{\\langle i,j \\rangle}\\sigma_{i}^{(z)}\\sigma_{j}^{(z)}.\n",
    "$$\n",
    "\n",
    "where $h=1$ and $J=1$.\n",
    "\n",
    "Try to convert the equation above to code, using the operators that were discussed before (`nk.operator.spin.sigmax` and `nk.operator.spin.sigmaz`).\n",
    "\n",
    "Complete the code below:\n"
   ]
  },
  {
   "cell_type": "markdown",
   "id": "20b8c68c",
   "metadata": {
    "lines_to_next_cell": 0
   },
   "source": []
  },
  {
   "cell_type": "code",
   "execution_count": 10,
   "id": "46fc8781",
   "metadata": {
    "execution": {
     "iopub.execute_input": "2025-07-13T14:51:32.381643Z",
     "iopub.status.busy": "2025-07-13T14:51:32.381552Z",
     "iopub.status.idle": "2025-07-13T14:51:32.383405Z",
     "shell.execute_reply": "2025-07-13T14:51:32.383148Z"
    },
    "lines_to_next_cell": 2,
    "tags": [
     "placeholder",
     "hide-input",
     "hide-output"
    ]
   },
   "outputs": [],
   "source": [
    "# This creates an empty operator (or zero) to which you can add others.\n",
    "# hamiltonian = nk.operator.LocalOperator(hi)\n",
    "#\n",
    "# now add all terms acting on single sites\n",
    "# for site in g.nodes():  # every node (take the list of nodes from the graph object g)\n",
    "#     # TODO: Add the transverse field term -h * sigma_x\n",
    "#     pass\n",
    "#\n",
    "# now add all terms acting on multiple sites\n",
    "# for i, j in g.edges():  # every edge (take the list of edges from the graph object)\n",
    "#     # TODO: Add the Ising interaction term J * sigma_z_i * sigma_z_j\n",
    "#     pass"
   ]
  },
  {
   "cell_type": "code",
   "execution_count": 11,
   "id": "931d5051",
   "metadata": {
    "execution": {
     "iopub.execute_input": "2025-07-13T14:51:32.384598Z",
     "iopub.status.busy": "2025-07-13T14:51:32.384511Z",
     "iopub.status.idle": "2025-07-13T14:51:32.398250Z",
     "shell.execute_reply": "2025-07-13T14:51:32.397965Z"
    },
    "tags": [
     "solution"
    ]
   },
   "outputs": [],
   "source": [
    "# This creates an empty operator to which you can add others.\n",
    "hamiltonian = nk.operator.LocalOperator(hi)\n",
    "\n",
    "# the list of nodes is given by g.nodes()\n",
    "for site in g.nodes():\n",
    "    hamiltonian = hamiltonian - 1.0 * nk.operator.spin.sigmax(hi, site)\n",
    "\n",
    "for (i,j) in g.edges():\n",
    "    # you can multiply operators by using the @ operator\n",
    "    hamiltonian = hamiltonian + nk.operator.spin.sigmaz(hi, i)@nk.operator.spin.sigmaz(hi, j)"
   ]
  },
  {
   "cell_type": "markdown",
   "id": "a4949ae6",
   "metadata": {},
   "source": [
    "To check if your implementation is correct, you can run the following validation.\n",
    "It will error if your implementation is wrong."
   ]
  },
  {
   "cell_type": "code",
   "execution_count": 12,
   "id": "9f2ffaa3",
   "metadata": {
    "execution": {
     "iopub.execute_input": "2025-07-13T14:51:32.399611Z",
     "iopub.status.busy": "2025-07-13T14:51:32.399507Z",
     "iopub.status.idle": "2025-07-13T14:51:35.294104Z",
     "shell.execute_reply": "2025-07-13T14:51:35.293808Z"
    }
   },
   "outputs": [
    {
     "name": "stdout",
     "output_type": "stream",
     "text": [
      "Hamiltonian implementation is correct!\n"
     ]
    }
   ],
   "source": [
    "# Validation - test to verify your code is correct\n",
    "hamiltonian_correct = nk.operator.Ising(hi, g, h=1.0, J=1.0)\n",
    "assert np.sum(np.abs(hamiltonian_correct.to_sparse() - hamiltonian.to_sparse())**2) < 1e-5\n",
    "print(\"Hamiltonian implementation is correct!\")"
   ]
  },
  {
   "cell_type": "markdown",
   "id": "f12c2dfc",
   "metadata": {},
   "source": [
    "## 6. Converting Operator Formats\n",
    "\n",
    "Most operators in NetKet are implemented in Numba and are not compatible with `jax.jit`. However, some particular operator formats are implemented both in `numba` and in a `jax.jit`-compatible format.\n",
    "\n",
    "To make future tutorials easier, we will convert the operator to a JAX-friendly format. First we convert from the `LocalOperator` format to the `PauliStrings` format, then to the jax format:"
   ]
  },
  {
   "cell_type": "code",
   "execution_count": 13,
   "id": "e173d831",
   "metadata": {
    "execution": {
     "iopub.execute_input": "2025-07-13T14:51:35.295461Z",
     "iopub.status.busy": "2025-07-13T14:51:35.295360Z",
     "iopub.status.idle": "2025-07-13T14:51:36.628593Z",
     "shell.execute_reply": "2025-07-13T14:51:36.628260Z"
    }
   },
   "outputs": [],
   "source": [
    "hamiltonian_jax = hamiltonian.to_pauli_strings().to_jax_operator()"
   ]
  },
  {
   "cell_type": "markdown",
   "id": "b6cb58b2",
   "metadata": {},
   "source": [
    "## 7. Exact Diagonalization (Validation)\n",
    "\n",
    "As a matter of comparison for future tutorials, let's compute the exact ground-state energy using scipy's sparse eigensolver.\n",
    "\n",
    "You can convert your operator to a sparse matrix with the method `.to_sparse()`. Use scipy to diagonalize it and extract the lowest eigenvalue."
   ]
  },
  {
   "cell_type": "code",
   "execution_count": 14,
   "id": "6b03cc0c",
   "metadata": {
    "execution": {
     "iopub.execute_input": "2025-07-13T14:51:36.630265Z",
     "iopub.status.busy": "2025-07-13T14:51:36.630150Z",
     "iopub.status.idle": "2025-07-13T14:51:36.632069Z",
     "shell.execute_reply": "2025-07-13T14:51:36.631814Z"
    },
    "tags": [
     "placeholder",
     "hide-input",
     "hide-output"
    ]
   },
   "outputs": [],
   "source": [
    "# TODO: Import scipy.sparse.linalg.eigsh and use it to find the ground state\n",
    "# from scipy.sparse.linalg import eigsh\n",
    "\n",
    "# Compute the exact ground state energy and wavefunction\n",
    "# e_gs, psi_gs = ..."
   ]
  },
  {
   "cell_type": "code",
   "execution_count": 15,
   "id": "b740bded",
   "metadata": {
    "execution": {
     "iopub.execute_input": "2025-07-13T14:51:36.633557Z",
     "iopub.status.busy": "2025-07-13T14:51:36.633459Z",
     "iopub.status.idle": "2025-07-13T14:51:37.029898Z",
     "shell.execute_reply": "2025-07-13T14:51:37.029326Z"
    },
    "tags": [
     "solution"
    ]
   },
   "outputs": [],
   "source": [
    "# use scipy.sparse.linalg.eigsh instead of numpy.linalg.eigh because\n",
    "# the sparse version is much faster as it uses sparsity!\n",
    "from scipy.sparse.linalg import eigsh\n",
    "\n",
    "# k=1 to only get one eigenvalue\n",
    "e_gs, psi_gs = eigsh(hamiltonian.to_sparse(), k=1)\n",
    "# get ground state energy and\n",
    "e_gs = e_gs[0]\n",
    "# ground state\n",
    "psi_gs = psi_gs.reshape(-1)"
   ]
  },
  {
   "cell_type": "markdown",
   "id": "50d3ff93",
   "metadata": {},
   "source": [
    "## 8. Validation Test\n",
    "\n",
    "If you implemented everything correctly, this validation should pass:"
   ]
  },
  {
   "cell_type": "code",
   "execution_count": 16,
   "id": "14fa35a7",
   "metadata": {
    "execution": {
     "iopub.execute_input": "2025-07-13T14:51:37.032870Z",
     "iopub.status.busy": "2025-07-13T14:51:37.032361Z",
     "iopub.status.idle": "2025-07-13T14:51:37.035854Z",
     "shell.execute_reply": "2025-07-13T14:51:37.035335Z"
    }
   },
   "outputs": [
    {
     "name": "stdout",
     "output_type": "stream",
     "text": [
      "Exact ground state energy: -34.010598\n"
     ]
    }
   ],
   "source": [
    "assert e_gs.shape == ()\n",
    "assert psi_gs.shape == (hi.n_states, )\n",
    "assert -34.01060 < e_gs < -34.01059\n",
    "print(f\"Exact ground state energy: {e_gs:.6f}\")"
   ]
  },
  {
   "cell_type": "markdown",
   "id": "caad3613",
   "metadata": {},
   "source": [
    "In the next tutorial, we will use these tools to implement variational ansätze and compute energies using full summation over the Hilbert space."
   ]
  },
  {
   "cell_type": "code",
   "execution_count": null,
   "id": "8b7bdee7",
   "metadata": {},
   "outputs": [],
   "source": []
  }
 ],
 "metadata": {
  "jupytext": {
   "formats": "ipynb,py:percent"
  },
  "kernelspec": {
   "display_name": "Python 3 (ipykernel)",
   "language": "python",
   "name": "python3"
  },
  "language_info": {
   "codemirror_mode": {
    "name": "ipython",
    "version": 3
   },
   "file_extension": ".py",
   "mimetype": "text/x-python",
   "name": "python",
   "nbconvert_exporter": "python",
   "pygments_lexer": "ipython3",
   "version": "3.12.11"
  }
 },
 "nbformat": 4,
 "nbformat_minor": 5
}
