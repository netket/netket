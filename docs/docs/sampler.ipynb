{
 "cells": [
  {
   "cell_type": "code",
   "execution_count": null,
   "id": "a1bdf6b8",
   "metadata": {},
   "outputs": [],
   "source": [
    "# Try to load netket, and install it if the import fails\n",
    "try:\n",
    "    import netket as nk\n",
    "except ImportError:\n",
    "    !pip install --quiet --upgrade netket\n",
    "    \n",
    "import netket as nk\n",
    "import jax\n",
    "import jax.numpy as jnp\n",
    "\n",
    "import matplotlib.pyplot as plt"
   ]
  },
  {
   "cell_type": "code",
   "execution_count": 14,
   "id": "301f68e3-392f-4411-b440-683e86c9926d",
   "metadata": {},
   "outputs": [],
   "source": []
  },
  {
   "cell_type": "markdown",
   "id": "acaf72ba-cc1b-4b9f-b603-e092c539e796",
   "metadata": {},
   "source": [
    "(Sampler)=\n",
    "# The Sampler module\n",
    "\n",
    "```{eval-rst}\n",
    ".. currentmodule:: netket.sampler\n",
    "```\n",
    "\n",
    "The [Sampler](netket_sampler_api) module contains several Monte-Carlo samplers that can be used to generate samples distributed according to a certain $\\log$-probability distribution function. \n",
    "The samplers defined here can be used together with the [Variational State](varstate) interface or stand-alone in your jax code. They are all fully-`jax.jit` compatible, and they can be differentiated in forward mode.\n",
    "\n",
    "The sampler module also contains infrastructure necessary to define your own samplers that are compatible with the existing API, as well as custom transition rules for the Metropolis-Hastings sampler.\n",
    "\n",
    "The inheritance diagram of the classes in this module is shown below:\n",
    "```{eval-rst}\n",
    ".. inheritance-diagram:: netket.sampler netket.sampler.rules\n",
    "\t:top-classes: netket.sampler.AbstractSampler\n",
    "\t:parts: 1\n",
    "\n",
    "```\n",
    "\n",
    "Following the purely functional design of Jax, we define the sampler to be a stateless collection of settings and parameters inheriting from the abstract base class {class}`Sampler`, while storing all mutable state such as the PRNG key and the statistics of acceptances in an immutable sampler state object inheriting from {class}`SamplerState`.\n",
    "\n",
    "In the documentation below we will first discuss how to construct Monte-Carlo samplers and what are their common options, then in ... we will show how to use samplers directly so that you can use them in your own projects. \n",
    "Note that if you are using the Variational State interface, you only need to know how to define samplers, because the Variational State will take care of sampling. "
   ]
  },
  {
   "cell_type": "markdown",
   "id": "424968d9-caef-44aa-9c0c-4356ccd17319",
   "metadata": {},
   "source": [
    "## Constructing Samplers\n",
    "\n",
    "NetKet's samplers will generate a set of samples $\\sigma$ that respects the following condition:\n",
    "\n",
    "$$\n",
    "    \\sigma \\in \\mathcal{H} \\ \\ \\ \\ \\ \\vert\\ \\ \\ \\  p(\\sigma) \\sim \\frac{\\exp[\\alpha\\ \\Re[\\log\\text{pdf}(\\sigma)]]}{\\sum_{\\eta\\in\\mathcal{H}} \\exp[\\alpha\\ \\Re[\\log\\text{pdf}(\\eta)]]}\n",
    "$$\n",
    "\n",
    "All NetKet samplers generate samples from an [Hilbert space](Hilbert) object, which must be passed as the first positional argument.\n",
    "Other options that can be specified are:\n",
    "\n",
    " - The sampler's `dtype`, which is the data type used to store the arrays of samples. When working with discrete hilbert spaces such as \n",
    "{class}`nk.hilbert.Spin` and {class}`nk.hilbert.Fock` the dtype is not particularly important, and you might reduce your memory consumption by using some short \n",
    "types such as `np.int8`. By default `dtype=float64`.\n",
    "When working with discrete spaces samples are usually made up of strings of integers, therefore if you use low-precision types such as `np.int8`\n",
    "or `jnp.bfloat16` you will not be losing precision in the number you're representing. Moreover, as soon as you will feed the low-precision samples\n",
    "to your model, it will be promoted to a wider type matching the `dtype` used for the model's parameters.\n",
    "\n",
    " - The sampler's `machine_power`, which is the $\\alpha$ in the formula above specifying what power of the probability distribution $\\text{pdf}(\\sigma)$ we are sampling."
   ]
  },
  {
   "cell_type": "code",
   "execution_count": 2,
   "id": "2e47fabb-845e-4261-8941-088e0ddbc301",
   "metadata": {},
   "outputs": [
    {
     "name": "stdout",
     "output_type": "stream",
     "text": [
      "ExactSampler(hilbert=Spin(s=1/2, N=5), machine_pow=2, dtype=<class 'numpy.float64'>)\n"
     ]
    }
   ],
   "source": [
    "hilbert = nk.hilbert.Spin(0.5, 5)\n",
    "\n",
    "sampler = nk.sampler.ExactSampler(hilbert)\n",
    "\n",
    "print(sampler)"
   ]
  },
  {
   "cell_type": "markdown",
   "id": "90225849-8cf0-4450-a3e0-cbe4a5eb5ee4",
   "metadata": {},
   "source": [
    "The sampler itself is a [_frozen dataclass_ ](https://stackoverflow.com/questions/66194804/what-does-frozen-mean-for-dataclasses), meaning that you cannot change it's attributes once it's created.\n",
    "To change an attribute of the sampler, you must use the function {meth}`~SamplerState.replace` which returns a new sampler object with that setting changed.\n",
    "The old sampler will be unchanged"
   ]
  },
  {
   "cell_type": "code",
   "execution_count": 3,
   "id": "bec30e45-d7f4-4d21-9e2b-00b9d8fde3d1",
   "metadata": {},
   "outputs": [
    {
     "name": "stdout",
     "output_type": "stream",
     "text": [
      "this is the old one, unchanged:  ExactSampler(hilbert=Spin(s=1/2, N=5), machine_pow=2, dtype=<class 'numpy.float64'>)\n",
      "this is the new one:             ExactSampler(hilbert=Spin(s=1/2, N=5), machine_pow=3, dtype=<class 'numpy.float64'>)\n"
     ]
    }
   ],
   "source": [
    "new_sampler = sampler.replace(machine_pow=3)\n",
    "\n",
    "print(\"this is the old one, unchanged: \", sampler)\n",
    "print(\"this is the new one:            \", new_sampler)"
   ]
  },
  {
   "cell_type": "markdown",
   "id": "0a80b8e1-6e76-46ec-a44d-48d356ae82d7",
   "metadata": {},
   "source": [
    "This (sometimes annoying) behaviour is needed to make our sampler objects completely jax-compatible. You can freely pass a NetKet sampler to a jax function and jit it without worrying!"
   ]
  },
  {
   "cell_type": "markdown",
   "id": "6182794f-b390-47dd-b9d5-a6af10c9387b",
   "metadata": {},
   "source": [
    "## Using Samplers \n",
    "\n",
    "The core sampler's API interface is made up of 3 functions:\n",
    " - {meth}`Sampler.init_state(log_pdf, parameters, seed) <Sampler.init_state>`, which constructs a structure holding the state of the sampler with the provided seed. The seed can either be an integer or a {func}`jax.random.PRNGKey` object. When running distributed computations on different MPI nodes, this function automatically generates a different seed on every MPI node, so you do not need to take care of that (only the seed on rank 0 will be considered).\n",
    " - {meth}`Sampler.reset(log_pdf, parameters, state) <Sampler.reset>`, is a function that should be called every time the variational parameters of the log_pdf have changed, and in some cases to reset the chain. _NOTE: The state is not valid unless you call reset at least once_\n",
    " - {meth}`Sampler.sample(log_pdf, parameters, state, chain_length=1) <Sampler.sample>`, which samples a sequence of samples with `chain_length` samples. If you are using a direct sampler like {class}`ExactSampler` or {class}`ARDirectSampler` this determines how many samples you generate. If you are using a Markov-Chain sampler you will get `Sampler.n_chains * chain_length` total samples.\n",
    "\n",
    "In general, the `log_pdf` must be a function with the signature `log_pdf(PyTree, jnp.Array[...,Sampler.hilbert.size]) -> jnp.Array[...]` or a flax Module. (Note: Some samplers such as {class}`ARDirectSampler` only work with a flax Module.)\n",
    "\n",
    "To build an example, first we must define a log-pdf from which we want to sample. \n",
    "In this case we construct an RBM with real parameters, and initialise some random parameters which will give a roughly flat distribution:"
   ]
  },
  {
   "cell_type": "code",
   "execution_count": 4,
   "id": "b0d60111-8f59-46d7-a624-13050b94987c",
   "metadata": {},
   "outputs": [
    {
     "name": "stderr",
     "output_type": "stream",
     "text": [
      "WARNING:absl:No GPU/TPU found, falling back to CPU. (Set TF_CPP_MIN_LOG_LEVEL=0 and rerun for more info.)\n"
     ]
    }
   ],
   "source": [
    "# We define an Hilbert space of 3 Spin-1/2\n",
    "hilbert = nk.hilbert.Spin(0.5, 4)\n",
    "\n",
    "# We define our variational ansatz\n",
    "log_pdf = nk.models.RBM(param_dtype=float)\n",
    "\n",
    "# and we initialize it's parameters\n",
    "param_seed = jax.random.key(0)\n",
    "\n",
    "pars = log_pdf.init(param_seed, hilbert.random_state(param_seed, 3))"
   ]
  },
  {
   "cell_type": "markdown",
   "id": "d1cbac34-ac46-47fc-9cdf-7d834f3ebc40",
   "metadata": {},
   "source": [
    "Now we can plot the probability distribution by computing it over the whole Hilbert space. Of course this is expensive, but if we have a small set of variables it's possible to do it."
   ]
  },
  {
   "cell_type": "code",
   "execution_count": 5,
   "id": "c41b45e4-3354-4a2b-9cdc-0edbdbf1088a",
   "metadata": {},
   "outputs": [
    {
     "data": {
      "text/plain": [
       "Text(0, 0.5, 'pdf')"
      ]
     },
     "execution_count": 5,
     "metadata": {},
     "output_type": "execute_result"
    },
    {
     "data": {
      "image/png": "[encoded data removed]",
      "text/plain": [
       "<Figure size 432x288 with 1 Axes>"
      ]
     },
     "metadata": {
      "needs_background": "light"
     },
     "output_type": "display_data"
    }
   ],
   "source": [
    "pdf_unnormalized = jnp.exp(2*log_pdf.apply(pars, hilbert.all_states()))\n",
    "pdf = pdf_unnormalized / jnp.sum(pdf_unnormalized)\n",
    "\n",
    "plt.plot(pdf)\n",
    "plt.ylim(0,0.1)\n",
    "plt.xlabel(\"hilbert space index\")\n",
    "plt.ylabel(\"pdf\")"
   ]
  },
  {
   "cell_type": "markdown",
   "id": "ed684118-9783-4b5c-a7a5-82a6bcc6ff15",
   "metadata": {},
   "source": [
    "{class}`ExactSampler` builds exactly this same probability distribution (which has an exponentially large cost in the number of variables) and generates samples from it. \n",
    "To use it we can do:"
   ]
  },
  {
   "cell_type": "code",
   "execution_count": 6,
   "id": "e5d15127-1c38-43e1-ac1f-edb4b1551e02",
   "metadata": {},
   "outputs": [
    {
     "name": "stdout",
     "output_type": "stream",
     "text": [
      "The shape of the samples is: (10, 1, 4), and the dtype is int8\n",
      "[-1 -1  1  1]\n"
     ]
    }
   ],
   "source": [
    "# We construct an Exact Sampler\n",
    "sampler = nk.sampler.ExactSampler(hilbert, dtype=jnp.int8)\n",
    "\n",
    "# We create the state of the sampler\n",
    "sampler_state = sampler.init_state(log_pdf, pars, jax.random.key(1))\n",
    "\n",
    "# We call reset (this will pre-compute the log_pdf on the whole hilbert space)\n",
    "sampler_state = sampler.reset(log_pdf, pars, sampler_state)\n",
    "\n",
    "# generate samples\n",
    "samples, sampler_state = sampler.sample(log_pdf, pars, state=sampler_state, chain_length=10)\n",
    "\n",
    "print(f\"The shape of the samples is: {samples.shape}, and the dtype is {samples.dtype}\")\n",
    "print(samples[0,0])"
   ]
  },
  {
   "cell_type": "markdown",
   "id": "6aa28e1c-31c7-4497-a04e-1a21a8e798c3",
   "metadata": {},
   "source": [
    "Notice that samplers return a 3-tensor of samples where the first dimension is `chain_length`, the second is the number of parallel chains (or 1 in non Markov-Chain samplers such as ExactSampler) and the last dimension is the hilbert space size.\n",
    "\n",
    "We could verify that those samples are distributed according to the correct distribution by running the following code:"
   ]
  },
  {
   "cell_type": "code",
   "execution_count": 7,
   "id": "25efb614-b56f-4fa6-bfee-bf805070794d",
   "metadata": {},
   "outputs": [
    {
     "data": {
      "image/png": "[encoded data removed]",
      "text/plain": [
       "<Figure size 432x288 with 1 Axes>"
      ]
     },
     "metadata": {
      "needs_background": "light"
     },
     "output_type": "display_data"
    }
   ],
   "source": [
    "def estimate_pdf(n_samples):\n",
    "    samples, _ = sampler.sample(log_pdf, pars, state=sampler_state, chain_length=n_samples)\n",
    "\n",
    "    # Convert the samples to indices in the space\n",
    "    idxs = hilbert.states_to_numbers(samples)\n",
    "\n",
    "    # count the occurrences of all indices\n",
    "    return jnp.sum(idxs == jnp.arange(hilbert.n_states), axis=0) / idxs.shape[0]\n",
    "\n",
    "plt.plot(pdf, label=\"exact\")\n",
    "plt.plot(estimate_pdf(2**10), label=\"2^10 samples\")\n",
    "plt.plot(estimate_pdf(2**14), '--', label=\"2^14 samples\")\n",
    "\n",
    "plt.ylim(0,0.1)\n",
    "plt.xlabel(\"hilbert space index\")\n",
    "plt.ylabel(\"pdf\")\n",
    "plt.legend();"
   ]
  },
  {
   "cell_type": "markdown",
   "id": "9381b83d-c827-436e-a2eb-7e88341830f8",
   "metadata": {},
   "source": [
    "\n",
    "## Metropolis-Hastings Markov-Chain Samplers\n",
    "\n",
    "NetKet also implements a very flexible class of Markov Chain samplers that use the Metropolis-Hastings algorithm and is called {class}`MetropolisSampler`.\n",
    "The Metropolis--Hastings algorithm is used to generate samples from an arbitrary probability distribution. \n",
    "In each step, it suggests a transition from the current configuration $s$ to a proposed configuration $s'$.\n",
    "The proposal is accepted with probability\n",
    "\n",
    "$$\n",
    "    P_\\text{acc}(s \\rightarrow s') = \\min\\left( 1, \\frac{P(s')}{P(s)} \\frac{g(s \\mid s')}{g(s' \\mid s)} \\right),\n",
    "$$\n",
    "\n",
    "where $P$ is the distribution being sampled from and $g(s' \\mid s)$ is the conditional probability of proposing $s'$ given the current $s$. \n",
    "\n",
    "We call $L(s, s') = \\log [g(s \\mid s')/g(s' \\mid s)]$ to denote the correcting factor to the log probability due to the transition kernel. \n",
    "This factor is needed for asymmetric kernels that might propose one move with higher probability than its reverse.\n",
    "Simple kernels, such as a local spin flip or exchange, are symmetric, therefore $L(s,s') = L(s', s) = 1$, but other proposals, such as Hamiltonian sampling, are not necessarily symmetric and need this factor.\n",
    "\n",
    "The transition rules (or kernels) that NetKet implements for discrete hilbert spaces are the following:\n",
    " - {class}`rules.LocalRule`: A transition rule acting on the local degree of freedom. This selects a random degree of freedom `i` and then proposes a different local configuration with uniform probability. For example, for Spin-1/2, this will flip a random spin. **Note: This transition rule ignores constraints on the hilbert space, such as total magnetization, and might produce states that do not respect it**\n",
    " - {class}`rules.ExchangeRule`: A Rule exchanging the value of the local degree of freedom between two sites $i$ and $j$, chosen from a list of\n",
    "    possible couples (clusters). To construct it, the user must provide a graph object or a list of edges. **This sampler does respect constraints on Hilbert spaces, but might not explore the whole hilbert space because it preserves the total number of excitations/magnetization.**\n",
    " - {class}`rules.HamiltonianRule`: which transitions the configuration according to the off-diagonal elements of the Hamiltonian. As this rule might not be symmetric, this uses the factor $L(s,s')$ to reweight the transition probability.\n",
    " \n",
    "For Continuous Hilbert spaces, the only rule that we implement (at the moment is the following:\n",
    " - {class}`rules.GaussianRule` which proposes a move by adding a normally-distributed random number to a single degree of freedom. The standard deviation of the Gaussian distribution can be modified.\n",
    "\n",
    "The standard syntax to build a MCMC sampler with a certain rule is to pass an instance of the rule as the second argument of the Metropolis Sampler: \n"
   ]
  },
  {
   "cell_type": "code",
   "execution_count": 8,
   "id": "e620e865-0d2f-4f74-993d-807fac593025",
   "metadata": {},
   "outputs": [
    {
     "name": "stdout",
     "output_type": "stream",
     "text": [
      "MetropolisSampler(rule = LocalRule(), n_chains = 10, n_sweeps = 4, reset_chains = False, machine_power = 2, dtype = <class 'numpy.float64'>)\n"
     ]
    }
   ],
   "source": [
    "rule = nk.sampler.rules.LocalRule()\n",
    "sampler = nk.sampler.MetropolisSampler(hilbert, rule, n_chains = 10)\n",
    "print(sampler)"
   ]
  },
  {
   "cell_type": "markdown",
   "id": "794fd8e9-194e-41a9-a52f-f3288aebe568",
   "metadata": {},
   "source": [
    "The Metropolis Sampler takes as the first two positional arguments the hilbert space to sample and the transition rule. \n",
    "Additional options that can be specified are the `dtype` and `machine_power`, like all other samplers, but also:\n",
    " - `n_chains: int` or `n_chains_per_rank:int `: The number of parallel Markov Chains to sample from. Depending on the complexity of the log-pdf and the size of the system, sampling from 1 chain or 10 might take the same time on CPU. Usually on GPUs you can sample from ~1000 of chains at the same cost of sampling from 1 chain. Only one of those 2 options can be specified at a given time, and they are equivalent when not using MPI. When using MPI, the first controls the total number of chains (and must be $>$ than the total number of MPI ranks) while the latter controls the number of chains per MPI rank. Defaults to `n_chains_per_rank=16`\n",
    " - `sweep_size: int`: The number of sub-sampling sweeps per sample. This integer controls how many Metropolis-Hastings steps are taken before returning a valid sampling. Effectively, this means that when sampling a chain of length `chain_length`, the effective chain length is `chain_length*sweep_size`, but only $1$ sample every `sweep_size` is returned. The default value is the number of degrees of freedom in the hilbert space ({attr}`AbstractHilbert.size <netket.hilbert.AbstractHilbert.size>`).\n",
    " -`reset_chains : bool`: If True, resets the chain state when `Sampler.reset` is called. By default this is `False`, meaning that during a run the chain is never completely reset (when you reset the chain, a configuration is drawn with uniform probability from the hilbert space unless a special rule is used). \n",
    "\n",
    "Other than those additional settings at constructions, Metropolis Samplers follow the same API as all other samplers:"
   ]
  },
  {
   "cell_type": "code",
   "execution_count": 9,
   "id": "d39c18a1-904e-4399-ad00-0f0f24e44ddb",
   "metadata": {},
   "outputs": [
    {
     "name": "stdout",
     "output_type": "stream",
     "text": [
      "The shape of the samples is: (100, 10, 4), and the dtype is float64\n",
      "[-1.  1. -1.  1.]\n"
     ]
    }
   ],
   "source": [
    "# We create the state of the sampler\n",
    "sampler_state = sampler.init_state(log_pdf, pars, jax.random.key(1))\n",
    "\n",
    "# We call reset (this will pre-compute the log_pdf on the whole hilbert space)\n",
    "sampler_state = sampler.reset(log_pdf, pars, sampler_state)\n",
    "\n",
    "# generate samples\n",
    "samples, sampler_state = sampler.sample(log_pdf, pars, state=sampler_state, chain_length=100)\n",
    "\n",
    "print(f\"The shape of the samples is: {samples.shape}, and the dtype is {samples.dtype}\")\n",
    "print(samples[0,0])"
   ]
  },
  {
   "cell_type": "markdown",
   "id": "c854424b-be86-4a50-925e-c4857e234414",
   "metadata": {},
   "source": [
    "However, notice that this time the samples returned are a tensor of shape `(chain_length, n_chains_per_rank, hilbert.size)`. \n",
    "\n",
    "For ease of use, we provide some shorthands such as {func}`MetropolisLocal`, {func}`MetropolisHamiltonian` and so on, which automatically build the relevant rule."
   ]
  },
  {
   "cell_type": "markdown",
   "id": "2727bece-30e4-4033-87c4-a60bf92afe21",
   "metadata": {},
   "source": [
    "## Defining custom Transition Rules for Metropolis Sampler\n",
    "\n",
    "A transition kernel is a NetKet dataclass inheriting from {class}`rules.MetropolisRule` that must define the following two methods:\n",
    "\n",
    " - {meth}`MetropolisRule.init_state(self, sampler, log_pdf, params, rng) -> Optional[Any] <rules.MetropolisRule.init_state>`: which can be used to initialise some arbitrary state or cache. This will be stored inline inside of `MetropolisState`.\n",
    " - {meth}`MetropolisRule.random_state(rule, sampler, log_pdf, parameters, state, rng, σ: jnp.ndarray[n_chains, hilbert.size]) -> jnp.Array[n_chains, hilbert.size] <rules.MetropolisRule.random_state>`: this function is called when the chain is initialised or resetted, and should return a valid configuration for the Markov Chain state. The default implementation returns a state sampled with `hilbert.random_state`. \n",
    "  - {meth}`MetropolisRule.transition(rule, sampler, log_pdf, parameters, state, rng: PRNGKeyT) -> jnp.Array[n_chains, hilbert.size] <rules.MetropolisRule.transition>`: this function is called when the chain is initialised or resetted, and should return a valid configuration for the Markov Chain state. The default implementation returns a state sampled with {meth}`AbstractHilbert.random_state <netket.hilbert.AbstractHilbert.random_state>`. \n",
    "  \n",
    "As an example, I will define below a custom Metropolis Transition rule that flips not one, but two spins at a time"
   ]
  },
  {
   "cell_type": "code",
   "execution_count": 10,
   "id": "6a6c5124-5cc2-4335-8c1d-471041ed0d5c",
   "metadata": {},
   "outputs": [],
   "source": [
    "@nk.utils.struct.dataclass\n",
    "class TwoLocalRule(nk.sampler.rules.MetropolisRule):\n",
    "    \n",
    "    def transition(self, sampler, machine, parameters, state, key, σ):\n",
    "        # Deduce the number of MCMC chains from input shape\n",
    "        n_chains = σ.shape[0]\n",
    "        \n",
    "        # Load the Hilbert space of the sampler\n",
    "        hilb = sampler.hilbert\n",
    "        \n",
    "        # Split the rng key into 2: one for each random operation\n",
    "        key_indx, key_flip = jax.random.split(key, 2)\n",
    "        \n",
    "        # Pick two random sites on every chain\n",
    "        indxs = jax.random.randint(\n",
    "            key_indx, shape=(n_chains, 2), minval=0, maxval=hilb.size\n",
    "        )\n",
    "        \n",
    "        # flip those sites\n",
    "        σp, _ = nk.hilbert.random.flip_state(hilb, key_flip, σ, indxs)\n",
    "        \n",
    "        # If this transition had a correcting factor L, it's possible\n",
    "        # to return it as a vector in the second value\n",
    "        return σp, None\n",
    "\n",
    "    #\n",
    "    # random_state is inherited from the base class, so no need to define it\n",
    "    #\n",
    "    #def random_state(self, sampler, machine, pars, state, key):\n",
    "    #    return sampler.hilbert.random_state(\n",
    "    #        key, size=sampler.n_batches, dtype=sampler.dtype\n",
    "    #    )\n"
   ]
  },
  {
   "cell_type": "markdown",
   "id": "e6f449d5-5fee-43d7-ad0a-995bd64e8380",
   "metadata": {},
   "source": [
    "And then, in order to use this transition kernel we can follow the same procedure as before:"
   ]
  },
  {
   "cell_type": "code",
   "execution_count": 11,
   "id": "dd055941-54ad-445b-9f0f-bde76a27fdfb",
   "metadata": {},
   "outputs": [],
   "source": [
    "sampler = nk.sampler.MetropolisSampler(hilbert, TwoLocalRule())"
   ]
  },
  {
   "cell_type": "code",
   "execution_count": 13,
   "id": "f4e1c353-4ad7-4f3e-b01d-ad8bd53f68ab",
   "metadata": {},
   "outputs": [],
   "source": [
    "# We create the state of the sampler\n",
    "sampler_state = sampler.init_state(log_pdf, pars, jax.random.key(1))\n",
    "\n",
    "# We call reset (this will pre-compute the log_pdf on the whole hilbert space)\n",
    "sampler_state = sampler.reset(log_pdf, pars, sampler_state)\n",
    "\n",
    "# generate samples\n",
    "samples, sampler_state = sampler.sample(log_pdf, pars, state=sampler_state, chain_length=100)"
   ]
  }
 ],
 "metadata": {
  "kernelspec": {
   "display_name": "Python (Netket development)",
   "language": "python",
   "name": "dev-netket"
  },
  "language_info": {
   "codemirror_mode": {
    "name": "ipython",
    "version": 3
   },
   "file_extension": ".py",
   "mimetype": "text/x-python",
   "name": "python",
   "nbconvert_exporter": "python",
   "pygments_lexer": "ipython3",
   "version": "3.9.12"
  }
 },
 "nbformat": 4,
 "nbformat_minor": 5
}
