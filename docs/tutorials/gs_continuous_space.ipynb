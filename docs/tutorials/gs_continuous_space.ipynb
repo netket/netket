{
 "cells": [
  {
   "cell_type": "markdown",
   "id": "bcc1a161",
   "metadata": {},
   "source": [
    "# Continous Space Ground-State Variational Search for Bosonic systems with NetKet\n",
    "\n",
    "## Gabriel Pescia (EPFL-CQSL)\n",
    "\n",
    "13 September, 2023"
   ]
  },
  {
   "cell_type": "markdown",
   "id": "ae721781-2989-46c5-a92b-ca528b145e6c",
   "metadata": {},
   "source": [
    "In this Tutorial we will explore the capabilities of NetKet to study the ground-state of bosonic many-body quantum systems in continuous space. As a first step we will consider an easy problem of non-interacting harmonic oscillators in free, three dimensional space, to introduce and explain the moving parts needed to perform a VMC optimization. Subsequently a more challenging example of interacting bosons in one dimensions with periodic boundary conditions will be studied. \n",
    "\n",
    "Specifically, we will study the following two Hamiltonians: \n",
    "\n",
    "$$ \n",
    "\\mathcal{H}= -\\frac{1}{2m}\\sum_i \\nabla_{\\mathbf{x}_i}^2 + \\frac{1}{2}\\sum_i |\\mathbf{x}_i|^2\n",
    "$$\n",
    "and \n",
    "$$ \n",
    "\\mathcal{H}= -\\frac{1}{2m}\\sum_i \\nabla_{\\mathbf{x}_i}^2 + \\sum_{i<j} \\exp\\left[-\\frac{1}{2}|\\mathbf{r}_{ij}|^2\\right]\n",
    "$$\n",
    ",where the first term represents the kinetic energy contribution of particles of mass $m$, and the second term is the potential (interaction) energy ($\\mathbf{r}_{ij} = \\mathbf{x}_i-\\mathbf{x}_j$)."
   ]
  },
  {
   "cell_type": "markdown",
   "id": "39bddf19",
   "metadata": {},
   "source": [
    "## 0. Installing Netket \n",
    "\n",
    "Installing NetKet is relatively straightforward. For this Tutorial, if you are running it locally on your machine, we recommend that you create a clean virtual environment and install NetKet within: \n",
    "\n",
    "```bash\n",
    "python3 -m venv netket\n",
    "source netket/bin/activate\n",
    "pip install --upgrade \"netket>=3.2\"\n",
    "```\n",
    "\n",
    "**If you are on Google Colab**, uncomment the following cell and run it to install the required packages."
   ]
  },
  {
   "cell_type": "code",
   "execution_count": 1,
   "id": "43e97750",
   "metadata": {},
   "outputs": [],
   "source": [
    "#!pip install --upgrade netket"
   ]
  },
  {
   "cell_type": "code",
   "execution_count": 1,
   "id": "5a4c83c9",
   "metadata": {},
   "outputs": [
    {
     "name": "stderr",
     "output_type": "stream",
     "text": [
      "No GPU/TPU found, falling back to CPU. (Set TF_CPP_MIN_LOG_LEVEL=0 and rerun for more info.)\n"
     ]
    }
   ],
   "source": [
    "import netket as nk"
   ]
  },
  {
   "cell_type": "markdown",
   "id": "7deb0afe-29e4-40e0-b650-b6480a46a8ae",
   "metadata": {},
   "source": [
    "You should also check that your version of netket is at least 3.1"
   ]
  },
  {
   "cell_type": "code",
   "execution_count": 2,
   "id": "53d59c56-3a27-4f8b-a4fb-a9dde50e9bc5",
   "metadata": {},
   "outputs": [
    {
     "name": "stdout",
     "output_type": "stream",
     "text": [
      "NetKet version: 3.4.3.dev171+g7bdf6a95.d20230619\n"
     ]
    }
   ],
   "source": [
    "print(f\"NetKet version: {nk.__version__}\")"
   ]
  },
  {
   "cell_type": "markdown",
   "id": "d8b7effe",
   "metadata": {},
   "source": [
    "## 1. Defining The Hilbert Space and Sampler\n",
    "\n",
    "The first ingredient in defining our problem in NetKet, consists of defining the Hilbert Space to study. \n",
    "For continuous space systems, the Hilbert space takes information about the number of particles, the size of the system and the type of boundary conditions: open or periodic. The dimensionality of space is inferred from the size of the system.\n",
    "The species of particles (bosonic or fermionic) is not relevant for the Hilbert space but only in defining the variational Ansatz (symmetric or antisymmetric).\n",
    "In the following the Hilbert space for $N=10$ particles in open (infinite) space is defined."
   ]
  },
  {
   "cell_type": "code",
   "execution_count": 3,
   "id": "65e5273d",
   "metadata": {},
   "outputs": [],
   "source": [
    "import jax.numpy as jnp\n",
    "N = 10\n",
    "\n",
    "#10 particles in 3D space without periodic boundary conditions. The length of the L-tuple indicates the spatial dimension of space.\n",
    "hi = nk.hilbert.Particle(N=N, L=(jnp.inf, jnp.inf, jnp.inf), pbc=False)"
   ]
  },
  {
   "cell_type": "markdown",
   "id": "fa84f3e3-5a80-4d9e-91d0-6b13e3924839",
   "metadata": {},
   "source": [
    "We can now expect random states in the Hilbert space, we just defined. For the above specifications the random state will consists of a vector of $N*d = 10*3$ numbers ($d$ number of spatial dimensions), representing the 10 3D positions of the particles under consideration."
   ]
  },
  {
   "cell_type": "code",
   "execution_count": 4,
   "id": "4b2bf39c-ae7f-4cb0-b141-093c448138e5",
   "metadata": {},
   "outputs": [
    {
     "name": "stdout",
     "output_type": "stream",
     "text": [
      "[[-0.28371066  0.9368162  -1.0050073 ]\n",
      " [ 1.4165013   1.0543301   0.9108127 ]\n",
      " [-0.42656708  0.986188   -0.5575324 ]\n",
      " [ 0.01532502 -2.078568    0.5548371 ]\n",
      " [ 0.91423655  0.5744596   0.7227863 ]\n",
      " [ 0.12106175 -0.3237354   1.6234998 ]\n",
      " [ 0.24500391 -1.3809781  -0.6111237 ]\n",
      " [ 0.1403725   0.84100425 -1.0943578 ]\n",
      " [-1.077502   -1.1396457  -0.593338  ]\n",
      " [-0.15576515 -0.38321444 -1.1144515 ]]\n"
     ]
    }
   ],
   "source": [
    "import jax\n",
    "state = hi.random_state(jax.random.PRNGKey(0), 1)\n",
    "print(state.reshape(N, -1)) #make it more readible, -1 = number of spatial dimensions"
   ]
  },
  {
   "cell_type": "markdown",
   "id": "67bdd81a-b602-47be-a584-1592c8b4c7db",
   "metadata": {},
   "source": [
    "Of course we are not particularily interested in random states of our Hilbert space, but we rather want to be able to sample from a probability distribution, defined in the Hilbert space. To do this, NetKet provides the so-called Metropolis-Hasting sampler. This sampler uses an initial state in the Hilbert space (e.g. a random state) and produces a new state according to a transtition rule. The new state is accepted (e.g. becomes the initial state for another update according to the transition rule) if its probability is high enough (the probability of the state is determined by the variational Ansatz, see later). While you can write your own transition rule, NetKet already implements a common transition rule, that often is sufficient to run a VMC optimization.\n",
    "The transition rule is given by adding normally distributed noise to the initial state:\n",
    "$$\n",
    "\\mathbf{X} = (\\mathbf{x}_1,...,\\mathbf{x}_N) \\mapsto \\mathbf{X} + \\mathbf{\\Delta} = (\\mathbf{x}_1 + \\mathbf{\\delta}_1,...,\\mathbf{x}_N +\\mathbf{\\delta}_N)\n",
    "$$\n",
    ",where $\\mathbf{\\delta}_i \\sim \\mathcal{N}(0,\\sigma^2)$ and $\\sigma$ is chosen by the user, dependent on the system under consideration.\n",
    "To decorrelate samples, the sampler provides functionality to insert more substeps of the above rule (e.g. add Gaussian noise multiple times). You can also specify how many parallel chains of the above rule you want to run. In the following, we initialize the sampler, with $\\sigma=0.1$, 16 parallel chains, with 32 substeps of the transition rule."
   ]
  },
  {
   "cell_type": "code",
   "execution_count": 5,
   "id": "46cbd4f6-fd75-4886-a5e5-833a2479e9c3",
   "metadata": {},
   "outputs": [],
   "source": [
    "sa = nk.sampler.MetropolisGaussian(hi, sigma=0.1, n_chains=16, n_sweeps=32)"
   ]
  },
  {
   "cell_type": "markdown",
   "id": "6ec6a212-501a-46a0-8308-75261b191735",
   "metadata": {},
   "source": [
    "## 2. Defining The Hamiltonian\n",
    "\n",
    "Now that the Hilbert space is defined, we also have to specify the Hamiltonian the particles are subject to. As written above we will start with a simple example of non-interacting particles, confined by a harmonic potential e.g. a collection of harmonic oscillators. \n",
    "A Hamiltonian in continuous space usually consists of two parts: kinetic and potential energy. The form of the kinetic energy is always the same and only depends on the mass of the particles. NetKet provides a full implementation of the the kinetic energy. In the following we initialize the kinetic energy operator for particles of masses $m=1$ (one could also provide a tuple of different masses for each particle)."
   ]
  },
  {
   "cell_type": "code",
   "execution_count": 6,
   "id": "af038a91-76dd-401b-b1af-4ada588de369",
   "metadata": {},
   "outputs": [],
   "source": [
    "ekin = nk.operator.KineticEnergy(hi, mass=1.0)"
   ]
  },
  {
   "cell_type": "markdown",
   "id": "59025d8c-dede-496f-b2f0-6ad63966be1d",
   "metadata": {},
   "source": [
    "The potential energy part changes when changing from one system to another and therefore needs to be implemented from scratch. In NetKet this amounts to writing a function that takes a single sample $\\mathbf{X}$ and outputs a single number representing the potential energy of the given configuration. For a harmonic confinement we have: \n",
    "$$\n",
    "\\mathbf{X} \\mapsto \\frac{1}{2}\\sum_i |\\mathbf{x}_i|^2\n",
    "$$\n",
    "or in code (we leave away the factor of 1/2 and multiply it later):"
   ]
  },
  {
   "cell_type": "code",
   "execution_count": 7,
   "id": "fca27abf-6920-4ec6-b014-30d9363b8215",
   "metadata": {},
   "outputs": [],
   "source": [
    "def v(x):\n",
    "    return jnp.linalg.norm(x) ** 2"
   ]
  },
  {
   "cell_type": "markdown",
   "id": "0ea6a83f-6766-4449-8462-6ec218764aaf",
   "metadata": {},
   "source": [
    "To use this function as an operator, NetKet provides a potential energy operator:"
   ]
  },
  {
   "cell_type": "code",
   "execution_count": 8,
   "id": "46782f67-cde8-448c-bafe-f59c4d15f784",
   "metadata": {},
   "outputs": [],
   "source": [
    "pot = nk.operator.PotentialEnergy(hi, v)"
   ]
  },
  {
   "cell_type": "markdown",
   "id": "1d3eedb3-40f3-4620-b8fa-fc8884d2750f",
   "metadata": {},
   "source": [
    "All left to do to define the complete Hamiltonian, is combine the kinetic and potential energy operators into a single operator object (note the factor of 1/2 that was omitted in the above definition of the potential energy):"
   ]
  },
  {
   "cell_type": "code",
   "execution_count": 9,
   "id": "59723a64-37d4-40a5-9c0e-71ccbd969e7e",
   "metadata": {},
   "outputs": [],
   "source": [
    "ha = ekin + 0.5 * pot"
   ]
  },
  {
   "cell_type": "markdown",
   "id": "8e51cc79",
   "metadata": {},
   "source": [
    "## 3. Exact Ansatz\n",
    "\n",
    "The most important thing for every VMC simulation is the variational Ansatz to the problem. If the Ansatz is capable of representing the true ground-state, the VMC results will be significantly better compared to a poorly chosen Ansatz that cannot represent the ground-state. \n",
    "For the case of non-interacting harmonic oscillators we know exactly what the many-body ground-state looks like:\n",
    "$$\n",
    "\\psi(\\mathbf{X}) = \\prod_i \\exp\\left[-\\frac{1}{2} |\\mathbf{x}_i|^2\\right].\n",
    "$$\n",
    "with associated probability distribution $P(\\mathbf{X}) = \\prod_i \\exp\\left[-|\\mathbf{x}_i|^2\\right]$.\n",
    "To provide some first experience with NetKet in continuous space, we first choose a variational parameterization that can exactly represent the above state:\n",
    "$$\n",
    "\\psi(\\mathbf{X}) = \\exp\\left[-\\frac{1}{2} \\mathbf{X}^T\\Sigma^{-1}\\mathbf{X}\\right].\n",
    "$$\n",
    "which is the ground-state for $\\Sigma^{-1} = -\\mathbb{I}$.\n",
    "\n",
    "The Model can be defined using one of the several *functional* jax frameworks such as Jax/Stax, Flax or Haiku. \n",
    "NetKet includes several pre-built models and layers built with [Flax](https://github.com/google/flax), including the above multivariate Gaussian Ansatz. For completeness the model definition is copied below (to make sure that $\\Sigma^{-1}$ is a proper covariance matrix (positive definite), we parameterize it as $\\Sigma^{-1} = T T^T$):"
   ]
  },
  {
   "cell_type": "code",
   "execution_count": 10,
   "id": "967e1611",
   "metadata": {},
   "outputs": [],
   "source": [
    "import flax.linen as nn\n",
    "import jax.numpy as jnp\n",
    "\n",
    "from flax.linen.dtypes import promote_dtype\n",
    "from flax.linen.initializers import normal\n",
    "\n",
    "from netket.utils import deprecate_dtype\n",
    "from netket.utils.types import DType, Array, NNInitFunc\n",
    "\n",
    "class Gaussian(nn.Module):\n",
    "    r\"\"\"\n",
    "    Multivariate Gaussian function with mean 0 and parametrised covariance matrix\n",
    "    :math:`\\Sigma_{ij}`.\n",
    "\n",
    "    The wavefunction is given by the formula: :math:`\\Psi(x) = \\exp(\\sum_{ij} x_i \\Sigma_{ij} x_j)`.\n",
    "    The (positive definite) :math:`\\Sigma_{ij} = AA^T` matrix is stored as\n",
    "    non-positive definite matrix A.\n",
    "    \"\"\"\n",
    "\n",
    "    param_dtype: DType = jnp.float64\n",
    "    \"\"\"The dtype of the weights.\"\"\"\n",
    "    kernel_init: NNInitFunc = normal(stddev=1.0)\n",
    "    \"\"\"Initializer for the weights.\"\"\"\n",
    "\n",
    "    @nn.compact\n",
    "    def __call__(self, x_in: Array):\n",
    "        nv = x_in.shape[-1]\n",
    "\n",
    "        kernel = self.param(\"kernel\", self.kernel_init, (nv, nv), self.param_dtype)\n",
    "        kernel = jnp.dot(kernel.T, kernel)\n",
    "\n",
    "        kernel, x_in = promote_dtype(kernel, x_in, dtype=None)\n",
    "        y = -0.5 * jnp.einsum(\"...i,ij,...j\", x_in, kernel, x_in)\n",
    "\n",
    "        return y"
   ]
  },
  {
   "cell_type": "markdown",
   "id": "c1ccb969-487e-43e6-ac87-50cde68c68e1",
   "metadata": {},
   "source": [
    "The model above gives instructions on how to initialize the variational parameters and evaluate the model. To use it in the context of the VMC optimization, NetKet provides the Monte-Carlo-sampled Variational State `netket.vqs.MCState`, which requires a sampler and a model from which to sample from. We also have to provide the number of samples from which expectation values of operators are computed, at each iteration of the VMC optimization.\n",
    "In the following we construct the variational state from the multivariate Gaussian Ansatz above, using the Gaussian sampler to sample from it and we choose a total of 10000 samples per iteration."
   ]
  },
  {
   "cell_type": "code",
   "execution_count": 12,
   "id": "c2cb0ac3-bc4c-4743-adec-03bb4e2d7c55",
   "metadata": {},
   "outputs": [],
   "source": [
    "# Create an instance of the model. \n",
    "# Notice that this does not create the parameters.\n",
    "Gauss = Gaussian()\n",
    "\n",
    "# Construct the variational state using the model and the sampler above.\n",
    "# n_samples specifies how many samples should be used to compute expectation\n",
    "# values.\n",
    "vstate = nk.vqs.MCState(sa, Gauss, n_samples=10**4, n_discard_per_chain=100)"
   ]
  },
  {
   "cell_type": "markdown",
   "id": "75f68957-2ea1-4405-b742-7ae5eb009c35",
   "metadata": {},
   "source": [
    "You can play around with the variational state: for example, you can compute expectation values yourself or inspect it's parameters"
   ]
  },
  {
   "cell_type": "code",
   "execution_count": 13,
   "id": "578fae25-6b39-41c1-a25e-51de791b7aa3",
   "metadata": {},
   "outputs": [
    {
     "data": {
      "text/plain": [
       "<matplotlib.colorbar.Colorbar at 0x7fb7901b7cd0>"
      ]
     },
     "execution_count": 13,
     "metadata": {},
     "output_type": "execute_result"
    },
    {
     "data": {
      "image/png": "[encoded data removed]",
      "text/plain": [
       "<Figure size 640x480 with 2 Axes>"
      ]
     },
     "metadata": {},
     "output_type": "display_data"
    }
   ],
   "source": [
    "import matplotlib.pyplot as plt\n",
    "\n",
    "# you can inspect the parameters which form a N*dxN*d matrix\n",
    "plt.imshow(vstate.parameters['kernel'])\n",
    "plt.colorbar()"
   ]
  },
  {
   "cell_type": "code",
   "execution_count": 14,
   "id": "0ea20c03-dcfa-4cda-8f2f-b1d86a95872b",
   "metadata": {},
   "outputs": [
    {
     "name": "stdout",
     "output_type": "stream",
     "text": [
      "237.0 ± 1.8 [σ²=6751.0, R̂=1.0075]\n"
     ]
    }
   ],
   "source": [
    "# Expectation value: notice that it also provides an error estimate.\n",
    "E = vstate.expect(ha)\n",
    "print(E)"
   ]
  },
  {
   "cell_type": "code",
   "execution_count": 15,
   "id": "df25e787-deb1-4c3c-a6a8-5150948a6f3f",
   "metadata": {},
   "outputs": [
    {
     "name": "stdout",
     "output_type": "stream",
     "text": [
      "Mean                  : 236.96463359049122\n",
      "Error                 : 1.7872113993224767\n",
      "Variance              : 6750.965926151942\n",
      "Convergence indicator : 1.0075157250409907\n",
      "Correlation time      : 1.8656796825879254\n"
     ]
    }
   ],
   "source": [
    "# the energy (expectation value) is a structure with a lot of fields:\n",
    "print(\"Mean                  :\", E.mean)\n",
    "print(\"Error                 :\", E.error_of_mean)\n",
    "print(\"Variance              :\", E.variance)\n",
    "print(\"Convergence indicator :\", E.R_hat)\n",
    "print(\"Correlation time      :\", E.tau_corr)\n",
    "\n"
   ]
  },
  {
   "cell_type": "code",
   "execution_count": 16,
   "id": "c161f0a6-3f95-4f6e-9dd2-d2a71527efce",
   "metadata": {},
   "outputs": [
    {
     "data": {
      "text/plain": [
       "(237.0 ± 1.8 [σ²=6751.0, R̂=1.0075],\n",
       " FrozenDict({\n",
       "     kernel: Array([[ 0.26976868,  1.25210882,  0.24335274,  0.08090613, -0.20557206,\n",
       "              1.60179439,  1.09276763, -0.55548402,  0.9230611 ,  0.29338964,\n",
       "              1.16749565,  1.03538353, -0.69770493,  1.34773614, -0.16869114,\n",
       "             -0.29395145,  0.23658292, -0.57500023,  0.17074176,  0.0264977 ,\n",
       "             -0.63318461,  0.2591558 , -0.22538297,  0.56572065, -0.24944728,\n",
       "              0.6843734 ,  0.45015386,  1.16081459, -0.55551881, -0.87155793],\n",
       "            [-2.79252668, -0.97012124,  2.70863653, -0.57654631, -0.90816987,\n",
       "              0.49291861,  3.37205826, -1.53583448,  2.42988745, -0.81948894,\n",
       "             -1.76063675,  2.13601312, -3.85566634, -0.00678623,  0.03486243,\n",
       "             -1.1681916 , -0.4532524 , -0.39903173,  0.97823953,  0.26821204,\n",
       "             -0.9879186 ,  0.11947523, -1.01981825, -1.56799778, -2.63012502,\n",
       "             -0.24982732,  1.07963763, -0.12605492, -0.3551896 ,  2.15283142],\n",
       "            [-0.81627472, -1.46116007,  0.25988347, -1.28969614,  1.92253565,\n",
       "              0.11694074,  1.54846941,  0.1254631 ,  1.91699588, -0.36839077,\n",
       "             -1.11887555, -0.42157325, -1.44119749, -0.97751417,  0.70439683,\n",
       "              0.37282173,  0.3780406 ,  1.10885761,  0.21193009, -0.86959014,\n",
       "              0.88278264, -0.47900644,  1.15129072, -0.62099699, -1.56302913,\n",
       "             -0.82607207,  2.68489178, -0.20081887, -0.37893413,  0.82282663],\n",
       "            [ 0.13813769,  1.32655598, -2.94396183,  1.06544818, -2.31921105,\n",
       "             -0.68609003, -1.42426578, -1.51989803, -1.94148913, -1.88460274,\n",
       "              2.26609228,  0.36255788,  1.25721539,  0.52253709, -1.18972528,\n",
       "             -0.77797633,  0.20202172,  0.14375156, -0.33873426, -1.87718016,\n",
       "              0.61251964, -0.32263959, -0.5571837 ,  0.41788831,  2.55953421,\n",
       "              0.82696977, -1.52814833, -0.84532785,  0.71602793, -1.23829948],\n",
       "            [-0.76664427, -0.28175746,  3.03242405,  0.29064736,  1.69464376,\n",
       "              0.373941  ,  2.86975299, -1.67141071,  0.12160411,  1.08438792,\n",
       "             -4.73381313,  2.10318462,  0.45711977, -0.805677  ,  1.54498405,\n",
       "             -0.32963114, -0.12457586, -0.69891732,  1.96291121,  0.95628513,\n",
       "              0.99585613,  1.32570441,  1.25240434, -0.32937866, -0.92837647,\n",
       "             -1.95143917,  1.86347391,  0.69322609, -0.73087035,  0.83063555],\n",
       "            [ 0.73039625, -0.03928473, -0.7735679 , -1.01728108,  1.45139174,\n",
       "              1.43662699,  1.29464062,  1.52533942,  1.31444259, -1.58055089,\n",
       "              2.14463413, -0.91172492, -0.90260212, -0.19962294, -0.85160733,\n",
       "              0.32902551,  1.60622621,  1.6827303 , -1.43253354,  0.6015004 ,\n",
       "             -2.09782149,  1.26205818, -0.31679363,  0.04125365, -1.68423183,\n",
       "              0.30845537,  0.69001975, -1.36214034,  0.33491578,  0.20630676],\n",
       "            [-1.80982   , -0.56645348,  1.13838386, -0.25414895, -0.18775186,\n",
       "             -0.534524  ,  2.0058168 ,  0.52409203,  2.01773464, -2.11342227,\n",
       "              0.59981684, -0.84510135, -1.39539612, -1.39544175, -0.54319692,\n",
       "              0.14549051, -0.48594479,  0.26381325, -1.02568885, -0.34370903,\n",
       "             -1.63740461, -0.93636091, -0.49793196, -0.57777522, -1.11381226,\n",
       "             -0.02260975, -0.20613873, -0.04492988,  0.16488914,  2.05556116],\n",
       "            [-2.20316133,  0.1190964 , -0.4488527 ,  0.49561894, -2.86924395,\n",
       "             -0.33938862, -0.30796104, -1.45107506,  1.07497709, -2.33652308,\n",
       "              0.74428588, -0.74669361, -2.23466263,  0.56137985,  0.21532332,\n",
       "              0.15133931, -0.43760995, -1.06069327, -0.41916115, -0.69183996,\n",
       "             -0.93422293, -1.59065773,  0.14043307, -0.78054426, -0.63971277,\n",
       "              1.2989633 , -0.87747421,  0.05835934, -0.7518934 , -0.08673726],\n",
       "            [ 1.85001367,  0.15517699, -0.83801092, -0.89049503,  1.32317917,\n",
       "             -1.36762426,  1.34599829, -0.64863375, -3.8528696 , -0.0947316 ,\n",
       "             -2.95874919, -0.54171097,  2.47506348, -0.19233743,  0.0274537 ,\n",
       "              1.17886468,  0.27493038,  0.8773259 ,  2.03358668, -0.33454663,\n",
       "              1.57196528,  1.27974094,  0.53466823,  0.21126319,  0.58127563,\n",
       "             -1.59764535, -0.61248407,  0.65530767, -1.08883564,  0.64971873],\n",
       "            [-1.35300454, -1.11703895,  0.30530774, -1.14620934, -0.38256922,\n",
       "             -2.59347316, -0.03624239,  1.70766124,  2.3278864 , -2.10378116,\n",
       "             -0.53729155,  0.02481813, -3.08735757,  0.29237333, -0.19028964,\n",
       "             -0.41231524, -0.50414957,  1.50854787, -1.85569111, -0.18811296,\n",
       "             -1.20245309,  2.30172845,  0.32985797, -0.32380441, -1.1471843 ,\n",
       "             -1.3516204 ,  1.22319988, -2.23117772, -0.59152678,  2.51006436],\n",
       "            [-0.10729242,  1.62924368,  0.60062272,  0.59992748,  0.83805047,\n",
       "              0.53193243, -0.30009135, -0.46581695, -0.02144102,  1.04292864,\n",
       "             -0.56464509, -0.16710363,  1.65669482,  0.02838614,  0.17570968,\n",
       "              0.70947966, -0.29152034, -0.82738491,  1.61896214,  0.08548754,\n",
       "              0.8858719 , -1.05344751,  0.45792751,  0.00940226,  1.85052466,\n",
       "              0.86831802, -0.88434593,  0.75540994, -1.26402039, -0.91374097],\n",
       "            [-0.23100916, -0.20719442, -0.01383501, -1.22059797,  1.12946306,\n",
       "              0.34768117, -0.5897321 ,  0.73668852,  1.39108272, -1.38435576,\n",
       "             -1.11470075,  0.38391778, -2.2699909 ,  0.41637775,  0.54154637,\n",
       "             -0.87920283, -0.94588192,  0.31915891, -1.97706384, -0.07975955,\n",
       "             -1.36818428,  0.75491767, -1.27777096,  1.62485954, -1.36974658,\n",
       "              0.14277975,  0.97219131, -1.43133586, -0.46434257,  1.04768108],\n",
       "            [ 1.21362526, -0.53140961,  1.35484217, -3.09052622, -0.37401422,\n",
       "             -0.61358024,  0.09524514,  1.85800209,  2.96899549, -1.17081297,\n",
       "              0.58425272,  0.05940353, -2.48086117,  1.54288805,  1.78753418,\n",
       "             -0.99356726,  0.10595022,  2.46582005, -2.74373408, -1.59774917,\n",
       "             -0.41842513,  1.51267403, -1.46588806,  0.22979821, -0.75733216,\n",
       "             -1.48569526, -1.75815077, -0.63207319, -0.10731069,  1.30666948],\n",
       "            [-2.77259939, -0.78582382,  2.46295309,  1.69542838, -0.51797059,\n",
       "             -0.56244674,  0.43775132, -4.01572187, -1.78286364,  0.74004632,\n",
       "             -3.08535961,  2.17438657, -0.12863416, -0.18676899,  1.01146178,\n",
       "             -0.04755286, -1.81067092, -1.02899039,  3.08685611, -0.26208072,\n",
       "              1.08228641, -0.01306784, -0.68333319, -2.04096034, -0.32625475,\n",
       "             -1.19003945, -0.64214945,  1.17976294, -0.13302198,  0.31941198],\n",
       "            [ 0.32339991,  0.49436438,  0.91952471, -1.78914211, -0.24360517,\n",
       "              0.41544283,  1.35168543, -0.58132294,  1.19738564, -0.52537088,\n",
       "             -0.3083368 ,  0.01614984, -0.87037366, -0.42041843,  0.72582956,\n",
       "             -0.17582194,  0.29189911, -0.21402538, -0.1272867 ,  1.38828208,\n",
       "              0.07125998,  1.45435443, -0.99711744, -0.3973948 , -0.41929877,\n",
       "              0.69722426,  1.25111555,  0.65855864, -0.11043827, -0.09944824],\n",
       "            [ 0.60515337,  3.74647025, -4.41871447,  4.93875342, -3.48555818,\n",
       "             -0.94312277, -2.33046007, -3.17508424, -4.38255233,  2.06436186,\n",
       "              3.23959501,  0.85259147,  4.54256356, -0.13989597, -0.03058237,\n",
       "              0.8735033 , -1.74202891, -2.22282149,  2.08093265, -3.04086096,\n",
       "              0.77997612, -2.19423805,  0.44311945, -1.16470657,  3.96345398,\n",
       "              1.96340799, -1.96080773,  0.42722404,  1.85662285, -4.22181722],\n",
       "            [-1.81248115, -0.9084711 ,  1.22708947, -1.04758302,  0.70713187,\n",
       "              0.33294053,  2.9123069 , -1.07432363,  0.43509592,  0.40172402,\n",
       "             -3.50977423,  1.57573448, -0.73083441,  0.34470944,  0.47813388,\n",
       "             -0.93799027, -0.50783058,  0.11480346,  2.09954534,  2.08922125,\n",
       "              0.38924805,  1.84621848, -1.456894  , -1.3754376 , -0.65022708,\n",
       "             -1.36550061,  1.2234842 , -0.63705276, -1.17755167,  1.70415745],\n",
       "            [ 1.18531311,  1.80195481, -0.96678249,  1.90051387, -0.79948255,\n",
       "              0.45539061, -1.37529984, -1.14059486, -1.6050835 ,  0.69137508,\n",
       "              0.89958351, -0.47266157,  2.65443059,  0.13216943, -1.21093816,\n",
       "              0.2152657 , -0.09146357, -0.50544913,  1.05895884,  0.57610356,\n",
       "              1.24099215, -0.6338725 , -0.23091094, -1.8106102 ,  2.37385511,\n",
       "              0.0442679 , -1.15724588,  1.77803073, -0.36072264, -2.01696397],\n",
       "            [-0.66306593,  0.00858762,  1.28403427, -1.28256237, -1.61993836,\n",
       "              0.89054284,  0.45318174, -0.60192554,  2.6773862 , -2.26964671,\n",
       "              1.90060049,  0.36505975, -2.22282893,  1.95784578,  0.74249372,\n",
       "             -0.8108019 , -0.00679587,  1.20883102, -1.63023736, -0.34525461,\n",
       "             -1.94484143, -0.34762651, -1.73031937,  0.75066164, -1.43916159,\n",
       "              0.1987959 , -0.87146824, -0.5857187 , -0.66891703,  0.67288169],\n",
       "            [ 1.50423959, -0.01794379, -2.2060812 , -0.19048042, -0.70478653,\n",
       "             -0.12327625, -0.66622495,  1.44055687,  0.76029489, -0.21664533,\n",
       "              3.38885328,  1.03596858, -1.93478642,  0.54914154, -0.85968259,\n",
       "              0.22793262,  0.24070322,  0.1091579 , -1.6338396 , -0.50205815,\n",
       "             -0.73912353,  0.03132981, -1.16600831, -0.64361605,  0.28387513,\n",
       "              3.58139218, -0.76279953, -1.56074131,  1.47978494, -1.52760148],\n",
       "            [ 1.87003276,  0.57735931, -1.83315237, -0.95401964, -1.74406928,\n",
       "              2.04667626, -0.17780534,  1.32239994,  0.43136533,  0.48024362,\n",
       "              4.48151896,  0.22195176,  1.2347991 ,  0.87396299,  0.11703128,\n",
       "             -0.33645857,  1.24902406,  0.64719432, -1.26729311,  1.00892977,\n",
       "             -2.52797028,  0.65926057, -0.14680758, -0.36997576,  2.16894231,\n",
       "              1.82705224, -1.64197916, -0.59829812,  1.6265028 , -2.49610765],\n",
       "            [-1.05728348, -0.1264287 ,  0.38173215,  0.40086784,  0.9037048 ,\n",
       "             -1.10750525, -0.15170361, -1.71499985, -1.62358224, -0.18863426,\n",
       "             -2.52504095, -0.05387887,  0.33394759, -0.62936438,  1.66896818,\n",
       "              0.25992378, -0.07278721,  0.74480157,  1.12032314, -0.94465483,\n",
       "              1.76104019,  0.70965923,  1.34008453,  0.97695728, -0.28039167,\n",
       "             -2.48476889, -0.38789106, -0.01125457, -0.55731124,  0.77928717],\n",
       "            [ 0.87631677, -0.90237381,  1.28820827, -1.24048593,  0.92696916,\n",
       "              1.23772827,  0.19304167,  0.13119676,  1.53534657, -1.10784342,\n",
       "             -1.53411182, -0.44056772, -2.07401965,  0.27192047, -0.52487783,\n",
       "             -0.30529528,  1.01334626,  0.26096661, -1.76318021,  0.35931323,\n",
       "             -0.17420602,  0.77095015, -0.58850294,  0.59232648, -1.68160273,\n",
       "             -1.14713761,  1.23973426, -1.676106  , -2.0150432 , -0.01478078],\n",
       "            [-2.22670442, -0.10104423,  0.72103163, -1.05243848,  1.73075425,\n",
       "             -0.72069367,  1.51007243, -1.3670313 , -0.1201424 ,  0.52873191,\n",
       "             -2.98168415,  1.00771835,  0.13616014,  0.42982969,  1.56842506,\n",
       "             -0.06437692, -1.24000862,  0.51275682,  2.17976411,  0.75330514,\n",
       "              1.80612695,  2.31083265, -0.49820213, -1.18558974, -0.56313705,\n",
       "             -1.39381002,  0.92349974,  0.43240992, -1.49298669,  1.76658767],\n",
       "            [-1.78701697,  1.39971888, -0.78025847,  1.38489739, -1.11030043,\n",
       "             -0.03491841,  1.00756917, -2.1162631 , -0.01474347,  0.37748982,\n",
       "              0.45823575,  0.9943897 ,  0.18055177,  0.35333051, -0.4937239 ,\n",
       "             -1.25251181,  0.0295064 , -2.11397148,  1.38801735, -1.81626157,\n",
       "              1.17078504,  0.02213058, -0.18481113, -0.46814853,  0.32673459,\n",
       "              0.21710328,  0.25830943,  0.63382356,  0.46064747,  0.17719309],\n",
       "            [ 1.53896415, -0.06833223, -1.72194036,  0.19261438, -1.37313822,\n",
       "              1.30922219, -0.58246324,  1.05982138,  0.83409387,  1.01288957,\n",
       "              3.12270358, -0.52843729,  0.39938642,  1.3581195 , -0.7285142 ,\n",
       "              0.21490115,  0.72579443,  0.25919707, -2.2197711 ,  0.16371286,\n",
       "             -1.49135916, -0.29242479,  0.19036391,  0.7151742 ,  1.29331846,\n",
       "              3.12284502, -0.13826435,  0.18050141,  0.46207199, -2.31994984],\n",
       "            [ 3.24325343,  0.18752939, -1.62211478, -0.9201166 , -0.60225651,\n",
       "              0.1336108 , -0.69346908,  1.45563991,  1.36517512, -0.22654626,\n",
       "              2.53877955, -1.37458471, -0.46341055,  0.81680358,  0.74930358,\n",
       "             -0.72083865,  0.98760833,  0.19562052, -1.52260308,  0.08141948,\n",
       "             -1.01346794, -1.59096267, -0.72023097,  0.12721014, -0.01599037,\n",
       "              1.69954486,  0.1953407 ,  1.55719316,  1.489624  , -1.4215532 ],\n",
       "            [-0.99661141, -0.95323577,  0.44466728,  0.90743209, -0.57329094,\n",
       "              0.19888628,  0.4911834 , -3.09194028, -0.92016192,  1.05961586,\n",
       "             -2.5788201 ,  1.67318181,  1.47740947,  0.02094371,  0.68967001,\n",
       "              0.47271971, -2.03730005, -1.27653159,  3.08340158,  0.3624121 ,\n",
       "              1.25618656, -0.49986548, -0.17606884, -0.19658204,  0.20644392,\n",
       "             -0.53511079, -0.25736538, -0.13267729,  0.15644781,  0.09908007],\n",
       "            [ 1.73173233,  1.19660198, -1.55910135, -0.44196258, -1.45562605,\n",
       "              0.12000679, -2.74536683,  4.16650874,  0.04811758, -0.14939481,\n",
       "              3.83130699, -2.17629491,  1.06437228,  0.57828821, -0.4427726 ,\n",
       "             -0.50001307,  1.45881069, -0.92357418, -1.41356566, -0.59184539,\n",
       "             -0.52981588, -1.78312607, -0.45646799,  1.91179662,  0.86904279,\n",
       "              0.64038756,  0.17709437, -0.29260777,  0.88742847, -2.48968398],\n",
       "            [ 1.04737539,  0.16713062, -2.56827531,  1.52159715, -0.77768409,\n",
       "             -0.92220716, -1.68322194,  1.84925806, -1.96383952,  0.73592086,\n",
       "              2.87985048, -1.86721193,  0.74787036, -0.20625634, -0.25159028,\n",
       "              0.69496832,  1.06832171, -0.10762861, -2.33455793, -0.68013316,\n",
       "              0.46814521, -0.56189456,  0.53989584, -0.53703395,  0.66590321,\n",
       "              0.80267232, -0.65488749, -0.51146012,  0.8405822 , -1.62438051]],      dtype=float64),\n",
       " }))"
      ]
     },
     "execution_count": 16,
     "metadata": {},
     "output_type": "execute_result"
    }
   ],
   "source": [
    "vstate.expect_and_grad(ha)"
   ]
  },
  {
   "cell_type": "markdown",
   "id": "1b5b6302",
   "metadata": {
    "tags": []
   },
   "source": [
    "## 4. Variational Monte Carlo"
   ]
  },
  {
   "cell_type": "markdown",
   "id": "8ab77267-892e-48d2-97e2-eee6c8eae796",
   "metadata": {},
   "source": [
    "We will now try to optimise the covariance matrix $\\Sigma^{-1}$ in order to best approximate the ground state of the hamiltonian, which has a ground-state energy of $\\frac{1}{2}N*d=15$.\n",
    "\n",
    "At first, we'll try to do this by ourself by writing the training loop, but then we'll switch to using a pre-made\n",
    "solution provided by netket for simplicity."
   ]
  },
  {
   "cell_type": "markdown",
   "id": "d103e357-f079-4816-8323-d9a606748a04",
   "metadata": {},
   "source": [
    "### 4a. DIY Optimisation loop\n",
    "\n",
    "The optimisation (or training) loop must do a very simple thing: at every iteration it must compute the energy and it's gradient, then multiply the gradient by a certain learning rate $\\lambda = 0.05$ and lastly it must update the parameters with this rescaled gradient.\n",
    "\n",
    "You can do so as follows:"
   ]
  },
  {
   "cell_type": "code",
   "execution_count": 17,
   "id": "ef4b0687-1f78-4c2e-9f17-16c3fac2f064",
   "metadata": {},
   "outputs": [
    {
     "name": "stderr",
     "output_type": "stream",
     "text": [
      "100%|█████████████████████████████████████████| 150/150 [00:44<00:00,  3.34it/s]\n"
     ]
    }
   ],
   "source": [
    "from tqdm import tqdm\n",
    "\n",
    "energy_history = []\n",
    "n_steps = 150\n",
    "\n",
    "# For every iteration (tqdm is just a progress bar)\n",
    "for i in tqdm(range(n_steps)):\n",
    "    vstate.sample()\n",
    "    # compute energy and gradient of the energy\n",
    "    E, E_grad = vstate.expect_and_grad(ha)\n",
    "    # log the energy to a list\n",
    "    energy_history.append(E.mean.real)\n",
    "    # equivalent to vstate.parameters - 0.05*E_grad , but it performs this\n",
    "    # function on every leaf of the dictionaries containing the set of parameters\n",
    "    new_pars = jax.tree_util.tree_map(lambda x,y: x-0.05*y, vstate.parameters, E_grad)\n",
    "    # actually update the paramters\n",
    "    vstate.parameters = new_pars"
   ]
  },
  {
   "cell_type": "code",
   "execution_count": 18,
   "id": "747f2a0e-3408-443d-8f9b-13f70db15231",
   "metadata": {},
   "outputs": [
    {
     "data": {
      "text/plain": [
       "[<matplotlib.lines.Line2D at 0x7fb77c257bb0>]"
      ]
     },
     "execution_count": 18,
     "metadata": {},
     "output_type": "execute_result"
    },
    {
     "data": {
      "image/png": "[encoded data removed]",
      "text/plain": [
       "<Figure size 640x480 with 1 Axes>"
      ]
     },
     "metadata": {},
     "output_type": "display_data"
    }
   ],
   "source": [
    "# We now can plot the energy during those optimisation steps:\n",
    "import matplotlib.pyplot as plt\n",
    "\n",
    "plt.plot(energy_history)"
   ]
  },
  {
   "cell_type": "code",
   "execution_count": 19,
   "id": "f2ca96cc-0853-4299-a10e-8e66df874b4f",
   "metadata": {},
   "outputs": [
    {
     "data": {
      "text/plain": [
       "<matplotlib.colorbar.Colorbar at 0x7fb77c2f2770>"
      ]
     },
     "execution_count": 19,
     "metadata": {},
     "output_type": "execute_result"
    },
    {
     "data": {
      "image/png": "[encoded data removed]",
      "text/plain": [
       "<Figure size 640x480 with 2 Axes>"
      ]
     },
     "metadata": {},
     "output_type": "display_data"
    }
   ],
   "source": [
    "# as well as the resulting variational parameters, which indeed form the identity matrix now\n",
    "kernel = vstate.parameters['kernel']\n",
    "plt.imshow(jnp.dot(kernel.T, kernel))\n",
    "plt.colorbar()"
   ]
  },
  {
   "cell_type": "markdown",
   "id": "a10ade91-7ad7-4a8c-997d-e4ee9098b2d7",
   "metadata": {},
   "source": [
    "### 4b. Use NetKet's optimisation driver \n",
    "\n",
    "Of course NetKet provided functionality to do the above automatically:"
   ]
  },
  {
   "cell_type": "code",
   "execution_count": 20,
   "id": "4572b5c5",
   "metadata": {},
   "outputs": [
    {
     "name": "stdout",
     "output_type": "stream",
     "text": [
      "No output specified (out=[apath|nk.logging.JsonLogger(...)]).Running the optimization but not saving the output.\n"
     ]
    },
    {
     "name": "stderr",
     "output_type": "stream",
     "text": [
      "100%|█| 150/150 [00:45<00:00,  3.30it/s, Energy=15.000021 ± 0.000030 [σ²=0.00000\n"
     ]
    },
    {
     "name": "stdout",
     "output_type": "stream",
     "text": [
      "Optimized energy and relative error:  15.000013 ± 0.000029 [σ²=0.000002, R̂=1.0047] 8.695687228055249e-07\n"
     ]
    }
   ],
   "source": [
    "# First we reset the parameters to run the optimisation again\n",
    "vstate.init_parameters(normal(stddev=1.0))\n",
    "\n",
    "# Then we create an optimiser from the standard library.\n",
    "# You can also use optax.\n",
    "optimizer = nk.optimizer.Sgd(learning_rate=0.05)\n",
    "\n",
    "# build the optimisation driver\n",
    "gs = nk.driver.VMC(ha, optimizer, variational_state=vstate)\n",
    "\n",
    "# run the driver for 150 iterations. This will display a progress bar\n",
    "# by default.\n",
    "gs.run(n_iter=150)\n",
    "\n",
    "energy=vstate.expect(ha)\n",
    "error = jnp.abs(energy.mean-15.)/15.\n",
    "print(\"Optimized energy and relative error: \",energy,error)"
   ]
  },
  {
   "cell_type": "code",
   "execution_count": 21,
   "id": "4f4b1a2d-fcbf-4248-ae18-d0f527ac67e5",
   "metadata": {},
   "outputs": [
    {
     "data": {
      "text/plain": [
       "<matplotlib.colorbar.Colorbar at 0x7fb77470a6b0>"
      ]
     },
     "execution_count": 21,
     "metadata": {},
     "output_type": "execute_result"
    },
    {
     "data": {
      "image/png": "[encoded data removed]",
      "text/plain": [
       "<Figure size 640x480 with 2 Axes>"
      ]
     },
     "metadata": {},
     "output_type": "display_data"
    }
   ],
   "source": [
    "# we can again inspect the parameter:\n",
    "kernel = vstate.parameters['kernel']\n",
    "plt.imshow(jnp.dot(kernel.T, kernel))\n",
    "plt.colorbar()"
   ]
  },
  {
   "cell_type": "markdown",
   "id": "d216a4d6",
   "metadata": {},
   "source": [
    "## 5. Neural-Network Quantum State \n",
    "\n",
    "Rarely do we know the functional form of the ground state wave-function. We therefore have to resort to highly flexible variational Ansaetze, capable of representing many different many-body states. We can for example use neural networks as universal function approximators. \n",
    "In the following, we use a neural network architecture called \"DeepSets\" to solve the more interesting case of bosons interacting via a repulsive Gaussian interaction:\n",
    "$$\n",
    "\\epsilon  \\sum_{i<j} \\exp\\left[-|\\mathbf{r}_{ij}|^2\\right].\n",
    "$$\n",
    "We study the bulk of the system by confining it into a box of length $L$ with periodic boundary conditions. In this extended system we define the particle density as $D = N/L^d$ and we study the case $D=1$ for $N=20$ particles in $d=1$ dimensions with $\\epsilon = 2$. To account for the periodicity we use the minimum image convention when evaluating the potential energy of the system. For more information see: \n",
    "\n",
    "The DeepSets architecture we use is defined as:\n",
    "$$\n",
    "\\mathrm{DS}(\\mathbf{X}) = \\rho\\left[\\sum_{i,j} \\phi \\left( \\mathbf{y}_{ij}\\right) \\right]\n",
    "$$\n",
    "where the functions $\\phi$ and $\\rho$ are parameterized by simple feed-forward neural network with a GeLu activation function with one hidden layer.  To account for periodicity we choose as input $\\mathbf{y}_{ij} = (\\sin(\\frac{2\\pi}{L} \\mathbf{r}_{ij}),  \\cos(\\frac{2\\pi}{L} \\mathbf{r}_{ij}))$.\n",
    "\n",
    "See https://journals.aps.org/prresearch/pdf/10.1103/PhysRevResearch.4.023138 for more information."
   ]
  },
  {
   "cell_type": "markdown",
   "id": "021f6753-b90d-41e6-947e-44f6037972cc",
   "metadata": {},
   "source": [
    "First we define the Hilbert space, sampler and hamiltonian:"
   ]
  },
  {
   "cell_type": "code",
   "execution_count": 26,
   "id": "11b9e993-5d02-45d6-a982-9faf9583c4ce",
   "metadata": {},
   "outputs": [],
   "source": [
    "def minimum_distance(x, sdim):\n",
    "   \"\"\"Computes distances between particles using minimum image convention\"\"\"\n",
    "   n_particles = x.shape[0] // sdim\n",
    "   x = x.reshape(-1, sdim)\n",
    "\n",
    "   distances = (-x[jnp.newaxis, :, :] + x[:, jnp.newaxis, :])[\n",
    "       jnp.triu_indices(n_particles, 1)\n",
    "   ]\n",
    "   # minimum image convention \n",
    "   distances = jnp.remainder(distances + L / 2.0, L) - L / 2.0\n",
    "\n",
    "   return jnp.linalg.norm(distances, axis=1)\n",
    "\n",
    "\n",
    "def potential(x, epsilon, sdim):\n",
    "   dis = minimum_distance(x, sdim)\n",
    "   return epsilon * jnp.sum((jnp.exp(-(dis)**2)))\n",
    "\n",
    "\n",
    "N = 20\n",
    "D = 1.\n",
    "dim = 1\n",
    "epsilon = 2.\n",
    "L = (N / D)**(1/dim)\n",
    "\n",
    "\n",
    "hilb = nk.hilbert.Particle(N=N, L=(L,), pbc=True)\n",
    "sa = nk.sampler.MetropolisGaussian(hilbert=hilb, sigma=0.4, n_chains=16, n_sweeps=10)\n",
    "\n",
    "\n",
    "ekin = nk.operator.KineticEnergy(hilb, mass=1.0)\n",
    "pot = nk.operator.PotentialEnergy(hilb, lambda x: potential(x, epsilon, dim))\n",
    "ha = ekin + pot"
   ]
  },
  {
   "cell_type": "code",
   "execution_count": 30,
   "id": "2b5c30e7",
   "metadata": {},
   "outputs": [],
   "source": [
    "class DS(nn.Module):\n",
    "    \n",
    "    # You can define attributes at the module-level\n",
    "    # with a default. This allows you to easily change\n",
    "    # some hyper-parameter without redefining the whole \n",
    "    # flax module.\n",
    "    L: float\n",
    "    N: int\n",
    "    sdim: int\n",
    "    hidden_units : int = 8\n",
    "      \n",
    "    @nn.compact\n",
    "    def __call__(self, x):\n",
    "        x = x.reshape(-1,self.N, self.sdim)\n",
    "        xij = x[...,None,:] - x[...,None,:,:]\n",
    "        yij = jnp.concatenate((jnp.sin(2*jnp.pi/self.L * xij), jnp.cos(2*jnp.pi/self.L * xij)), axis=-1)\n",
    "        \n",
    "        ### PHI\n",
    "        # here we construct the first dense layer using a\n",
    "        # pre-built implementation in flax.\n",
    "        # features is the number of output nodes\n",
    "        y = nn.Dense(features=self.hidden_units)(yij)\n",
    "        # the non-linearity is a simple GeLu\n",
    "        y = nn.gelu(y)\n",
    "        # we apply the dense layer to the input\n",
    "        y = nn.Dense(features=self.hidden_units)(y)\n",
    "        # we sum over i,j\n",
    "        y = jnp.sum(y, axis=(-3,-2))\n",
    "        \n",
    "        ### RHO\n",
    "        # the function rho has a single output\n",
    "        y = nn.Dense(features=self.hidden_units)(y)\n",
    "        y = nn.gelu(y)\n",
    "        y = nn.Dense(features=1)(y)\n",
    "        return y.squeeze()\n",
    "    \n",
    "model = DS(L=L, N=N, sdim=dim)\n",
    "\n",
    "vstate = nk.vqs.MCState(sa, model, n_samples=10**3, n_discard_per_chain=16)"
   ]
  },
  {
   "cell_type": "markdown",
   "id": "f29016f4",
   "metadata": {},
   "source": [
    "We then proceed to the optimization as before. "
   ]
  },
  {
   "cell_type": "code",
   "execution_count": 31,
   "id": "279c052e",
   "metadata": {},
   "outputs": [
    {
     "name": "stderr",
     "output_type": "stream",
     "text": [
      "100%|█| 200/200 [10:22<00:00,  3.11s/it, Energy=24.7447 ± 0.0079 [σ²=0.0637, R̂=\n"
     ]
    },
    {
     "name": "stdout",
     "output_type": "stream",
     "text": [
      "Optimized energy and relative error:  24.7372 ± 0.0082 [σ²=0.0671, R̂=1.0051] 0.00019299165698484892\n"
     ]
    }
   ],
   "source": [
    "optimizer = nk.optimizer.Sgd(learning_rate=0.02)\n",
    "\n",
    "# Notice the use, again of Stochastic Reconfiguration, which considerably improves the optimisation\n",
    "gs = nk.driver.VMC(ha, optimizer, variational_state=vstate,preconditioner=nk.optimizer.SR(diag_shift=0.05))\n",
    "\n",
    "log=nk.logging.RuntimeLog()\n",
    "gs.run(n_iter=200,out=log)\n",
    "\n",
    "ds_energy=vstate.expect(ha)\n",
    "error=abs((ds_energy.mean-24.742)/24.742)\n",
    "print(\"Optimized energy and relative error: \",ds_energy,error)"
   ]
  },
  {
   "cell_type": "markdown",
   "id": "68f501c7",
   "metadata": {},
   "source": [
    "## 6. Measuring Other Properties\n",
    "\n",
    "Once the model has been optimized, we can of start to measure other observables than the energy as well. An interesting quantity could for example be the radial distribution function, which is related to the structure factor measured in scattering experiments. It is defined as:\n",
    "$$\n",
    "g(r) = C \\langle \\sum_{i<j} \\delta(r-r_{ij}) \\rangle\n",
    "$$\n",
    "where $\\langle \\cdot \\rangle$ denotes the expectation value w.r.t. the probability distribution defined by the optimized wave-function. The constant $C$ is chosen such that $\\int \\mathrm{d}r g(r) = N*(N-1)$.\n",
    "\n",
    "To evaluate the above expression we need samples from the optimized wave-function:"
   ]
  },
  {
   "cell_type": "code",
   "execution_count": 32,
   "id": "200d636f-a8e8-4b74-90d9-c38b956d788e",
   "metadata": {},
   "outputs": [],
   "source": [
    "samples = vstate.sample(chain_length=3*10**4)"
   ]
  },
  {
   "cell_type": "markdown",
   "id": "72986628-7bf3-4b52-b531-cfeedc772661",
   "metadata": {},
   "source": [
    "Then we compute the above observable by computing the distances $r_{ij}$ and computing a histogram of the result (the finer the histogram the closer we approximate the delta-distribution)."
   ]
  },
  {
   "cell_type": "code",
   "execution_count": 33,
   "id": "164f53f8-ab53-4b5f-99be-779186d49fd7",
   "metadata": {},
   "outputs": [],
   "source": [
    "import numpy as np\n",
    "import jax\n",
    "\n",
    "def minimum_distance(x, sdim, N, L):\n",
    "    \"\"\"Computes distances between particles using mimimum image convention\"\"\"\n",
    "    x = x.reshape(-1, N, sdim)\n",
    "    \n",
    "    idxs = jnp.triu_indices(N, 1)\n",
    "    \n",
    "    distances = (-x[...,jnp.newaxis, :, :] + x[...,:, jnp.newaxis, :])\n",
    "    distances = distances[...,idxs[0],idxs[1],:]\n",
    "\n",
    "    distances = jnp.remainder(distances + L / 2.0, L) - L / 2.0\n",
    "\n",
    "    return jnp.linalg.norm(distances, axis=-1)\n",
    "\n",
    "\n",
    "def gr(samples, n_particles, sdim, L, bins=80):\n",
    "    dists = minimum_distance(samples, sdim, n_particles, L)\n",
    "    \n",
    "    hist, bin_edges = np.histogram(dists.flatten(), bins=bins, range=(0,L/2))    \n",
    "    delta_r = bin_edges[1] - bin_edges[0]\n",
    "    centers = (bin_edges[1:] + bin_edges[:-1])/2\n",
    "\n",
    "    gC = hist / (dists.shape[0]*n_particles)\n",
    "\n",
    "    def get_jacobian():\n",
    "        if sdim == 1:\n",
    "            return np.ones_like(centers) \n",
    "        elif sdim == 2:\n",
    "            return 2*np.pi*centers\n",
    "        elif sdim == 3:\n",
    "            return 4*np.pi*centers**2\n",
    "        else:\n",
    "            raise NotImplementedError(f\"Jacobian factor not yet implemented for sdim={sdim}\")\n",
    "    \n",
    "    def get_volume():\n",
    "        return L**sdim\n",
    "    \n",
    "    def get_density():\n",
    "        return n_particles/get_volume()\n",
    "\n",
    "    gU = get_jacobian()*delta_r*get_density()\n",
    "\n",
    "    return centers, gC/gU"
   ]
  },
  {
   "cell_type": "code",
   "execution_count": 34,
   "id": "9add27da-af3c-406e-90f2-de46dad7261c",
   "metadata": {},
   "outputs": [
    {
     "data": {
      "text/plain": [
       "[<matplotlib.lines.Line2D at 0x7fb6e476f6a0>]"
      ]
     },
     "execution_count": 34,
     "metadata": {},
     "output_type": "execute_result"
    },
    {
     "data": {
      "image/png": "[encoded data removed]",
      "text/plain": [
       "<Figure size 640x480 with 1 Axes>"
      ]
     },
     "metadata": {},
     "output_type": "display_data"
    }
   ],
   "source": [
    "c, g = gr(samples, n_particles=N, sdim=dim, L=L)\n",
    "plt.plot(c, g)"
   ]
  },
  {
   "cell_type": "markdown",
   "id": "5a02b475-eff7-49f3-8406-8913d62194f7",
   "metadata": {},
   "source": [
    "# Extra: $^4He$ in one dimension"
   ]
  },
  {
   "cell_type": "code",
   "execution_count": null,
   "id": "92a0939c-2f00-4aec-aeb9-da69fd1403d3",
   "metadata": {},
   "outputs": [],
   "source": []
  }
 ],
 "metadata": {
  "kernelspec": {
   "display_name": "Python 3 (ipykernel)",
   "language": "python",
   "name": "python3"
  },
  "language_info": {
   "codemirror_mode": {
    "name": "ipython",
    "version": 3
   },
   "file_extension": ".py",
   "mimetype": "text/x-python",
   "name": "python",
   "nbconvert_exporter": "python",
   "pygments_lexer": "ipython3",
   "version": "3.10.12"
  }
 },
 "nbformat": 4,
 "nbformat_minor": 5
}
