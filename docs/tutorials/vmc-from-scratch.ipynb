{
 "cells": [
  {
   "cell_type": "markdown",
   "metadata": {},
   "source": [
    "# VMC-from-scratch: Finding Ground-States\n",
    "\n",
    "The goal of this tutorial is to try to write a simple VMC code from (almost) scratch to compute the ground-state of a paradigmatic spin model: the spin-$1/2$ Heisenberg antiferromagnetic chain.\n",
    "Normally, to write a VMC code you would have to implement yourself a way to compute matrix elements of the operators, as well as code to run a Monte-Carlo sampler, but for sanity and peace of mind in this tutorial we will use NetKet to do it.\n",
    "\n",
    "The hamiltonian we will study in this example is the transverse-field Ising model in 2 dimensions: \n",
    "\n",
    "$$ \n",
    "\\mathcal{H}=-h\\sum_{i}\\sigma_{i}^{(x)}+J\\sum_{\\langle i,j \\rangle}\\sigma_{i}^{(z)}\\sigma_{j}^{(z)}. \n",
    "$$\n",
    "\n",
    "In the following we assume periodic boundary conditions.\n",
    "\n",
    "The tutorial is structured in such a way that you need to fill in some parts by yourself to make it work. The solution is given below in hidden boxes, but try to solve the exercises without the help of the solutions, and only look after having thought at it for a while."
   ]
  },
  {
   "cell_type": "markdown",
   "metadata": {
    "tags": []
   },
   "source": [
    ":::{note}\n",
    "If you are executing this notebook on **Colab**, you will need to install NetKet. \n",
    "You can do so by uncommenting and running the following cell.\n",
    "\n",
    "Keep in mind that this notebook was designed for NetKet version `3.9.1`, which requires Python >=3.8. If you do not have access to a recent version of Python we strongly recomend to run this notebook on google Colab.\n",
    ":::"
   ]
  },
  {
   "cell_type": "code",
   "execution_count": 1,
   "metadata": {
    "mystnb": {
     "code_prompt_hide": "Hide",
     "code_prompt_show": "Show and uncomment to install NetKet on colab"
    },
    "tags": []
   },
   "outputs": [],
   "source": [
    "# %pip install --quiet netket"
   ]
  },
  {
   "cell_type": "markdown",
   "metadata": {},
   "source": [
    "Please verify that you are running on the correct version of NetKet. If the installation installed an older version of NetKet, it might be because your Python version is too old. \n",
    "In that case, you will need to upgrade python or use Colab.\n",
    "\n",
    "It might also be that in the future NetKet changes. This notebook was authored for the following version of NetKet:"
   ]
  },
  {
   "cell_type": "code",
   "execution_count": 134,
   "metadata": {
    "tags": []
   },
   "outputs": [
    {
     "name": "stdout",
     "output_type": "stream",
     "text": [
      "Python version (requires >=3.9) 3.11.2\n",
      "NetKet version (requires >=3.9.1) 3.9.3.dev19+g5b6e1f0e7\n"
     ]
    }
   ],
   "source": [
    "import platform\n",
    "import netket as nk\n",
    "\n",
    "print(\"Python version (requires >=3.9)\", platform.python_version())\n",
    "print(\"NetKet version (requires >=3.9.1)\", nk.__version__)"
   ]
  },
  {
   "cell_type": "markdown",
   "metadata": {
    "tags": [
     "hide-input"
    ]
   },
   "source": [
    "*After* having defined this environment variable, we can load netket and the various libraries that we will be using throughout the tutorial."
   ]
  },
  {
   "cell_type": "markdown",
   "metadata": {
    "tags": []
   },
   "source": [
    "## 0. What is NetKet?\n",
    "\n",
    "[NetKet](http://www.netket.org) is a comprehensive package that we (a group of approximately 10 researchers) developed over the years to perform Variational Monte Carlo calulations, while hiding varying degrees of complexity from the researchers that don't want to get their hands too dirty with nitty gritty details. \n",
    "Our idea is that if we lower the barrier to use variational monte carlo methods, more researchers will start playing with them, and, only if the want, they will get down to the little details.\n",
    "\n",
    "Remarkably, renowed researchers like Dr. Alessandro Lovato are large proponents of not using netket, wanting to kontrol every little detail in their codes. While I partly agree with Alessandro, I am a strong proponent of hiding complexity unless needed, and this exercise will reflect this idea.\n",
    "\n",
    "NetKet is throughly documented in [its publication](https://scipost.org/SciPostPhysCodeb.7/pdf) and partly in its [online documentation](https://netket.readthedocs.io/en/latest/index.html). When in doubt, check those, and if you find no answer, ask on our official [discussion forum](https://github.com/orgs/netket/discussions).\n",
    "\n",
    "I suggest you look at the first tutorial from NetKet, the Ising model ground state one, before adventuring in this one."
   ]
  },
  {
   "cell_type": "code",
   "execution_count": 4,
   "metadata": {
    "tags": [
     "hide-cell"
    ]
   },
   "outputs": [],
   "source": [
    "# Import netket library\n",
    "import netket as nk\n",
    "\n",
    "# Import Json, this will be needed to load log files\n",
    "import json\n",
    "\n",
    "# Helper libraries\n",
    "import numpy as np\n",
    "import matplotlib.pyplot as plt\n",
    "import time\n",
    "\n",
    "# jax and jax.numpy\n",
    "import jax\n",
    "import jax.numpy"
   ]
  },
  {
   "cell_type": "markdown",
   "metadata": {},
   "source": [
    "## 1. Defining the Hamiltonian\n",
    "\n",
    "NetKet covers quite a few standard Hamiltonians and lattices, so let's use this to quickly define the Ising model on a 2D lattice with PBC. \n",
    "For the moment we assume $L=4$ ($N=16$) and simply define a chain lattice in this way (using periodic boundary conditions for now). \n",
    "NetKet also implements many different lattices. Check them out in [the API reference](https://netket.readthedocs.io/en/latest/api/graph.html)."
   ]
  },
  {
   "cell_type": "code",
   "execution_count": 2,
   "metadata": {
    "tags": []
   },
   "outputs": [],
   "source": [
    "# We always shorten netket as nk\n",
    "import netket as nk\n",
    "\n",
    "# Define a 1d chain\n",
    "L = 4\n",
    "g = nk.graph.Hypercube(length=L, n_dim=2, pbc=True)"
   ]
  },
  {
   "cell_type": "markdown",
   "metadata": {},
   "source": [
    "For a comprehensive look at the functionalities of a graph object, you can look at the API reference of the [Graph](https://netket.readthedocs.io/en/latest/api/_generated/graph/netket.graph.Graph.html#netket.graph.Graph) and [Lattice](https://netket.readthedocs.io/en/latest/api/_generated/graph/netket.graph.Lattice.html#netket.graph.Lattice) objects. \n",
    "\n",
    "The graph object is handy to quickly write the hamiltonian because it gives you easy access to the vertices (called nodes) and edges of the graph:"
   ]
  },
  {
   "cell_type": "code",
   "execution_count": 3,
   "metadata": {
    "tags": []
   },
   "outputs": [
    {
     "name": "stdout",
     "output_type": "stream",
     "text": [
      "g.n_nodes: 16\n",
      "g.nodes: [0, 1, 2, 3, 4, 5, 6, 7, 8, 9, 10, 11, 12, 13, 14, 15]\n",
      "g.n_edges: 32\n",
      "g.edges: [(3, 7), (12, 13), (8, 9), (8, 12), (2, 14), (13, 14), (4, 5), (5, 6), (4, 8), (12, 15), (5, 9), (14, 15), (3, 15), (8, 11), (0, 1), (9, 10), (1, 2), (0, 4), (9, 13), (10, 11), (1, 5), (10, 14), (6, 7), (6, 10), (4, 7), (0, 3), (0, 12), (2, 3), (1, 13), (2, 6), (11, 15), (7, 11)]\n"
     ]
    }
   ],
   "source": [
    "# The number of sites (called nodes):\n",
    "print(\"g.n_nodes:\", g.n_nodes)\n",
    "# You can iterate through the nodes:\n",
    "print(\"g.nodes:\", [node for node in g.nodes()])\n",
    "# You can check the number of edges:\n",
    "print(\"g.n_edges:\", g.n_edges)\n",
    "# You can iterate through the edges, which are stored as a 2-tuple with the start and end node:\n",
    "print(\"g.edges:\", g.edges())"
   ]
  },
  {
   "cell_type": "markdown",
   "metadata": {},
   "source": [
    "Finally, you can also look at the lattice in all its glory"
   ]
  },
  {
   "cell_type": "code",
   "execution_count": 4,
   "metadata": {
    "tags": []
   },
   "outputs": [
    {
     "data": {
      "image/png": "[encoded data removed]",
      "text/plain": [
       "<Figure size 640x480 with 1 Axes>"
      ]
     },
     "metadata": {},
     "output_type": "display_data"
    }
   ],
   "source": [
    "g.draw();"
   ]
  },
  {
   "cell_type": "markdown",
   "metadata": {},
   "source": [
    "Remember about those things. They will be useful later."
   ]
  },
  {
   "cell_type": "markdown",
   "metadata": {},
   "source": [
    "Next, NetKet asks us to define the computational space (or basis) for this calculation."
   ]
  },
  {
   "cell_type": "code",
   "execution_count": 5,
   "metadata": {
    "tags": []
   },
   "outputs": [],
   "source": [
    "# Define the Hilbert space based on this graph\n",
    "# We impose to have a fixed total magnetization of zero \n",
    "hi = nk.hilbert.Spin(s=1/2, N=g.n_nodes)"
   ]
  },
  {
   "cell_type": "markdown",
   "metadata": {},
   "source": [
    "This is somewhat a fundamental object, and you must often declare it. Mainly, it defines how many degrees of freedom you have and how you store configurations. In this case, the hilbert space stores them as a local variable +1 or -1.\n",
    "\n",
    "Then we must define the Hamiltonian. In NetKet you can build individual operators acting on a site by calling the following three functions"
   ]
  },
  {
   "cell_type": "code",
   "execution_count": 6,
   "metadata": {
    "tags": []
   },
   "outputs": [],
   "source": [
    "sx_1 = nk.operator.spin.sigmax(hi, 1)\n",
    "sy_2 = nk.operator.spin.sigmay(hi, 2)\n",
    "sz_2 = nk.operator.spin.sigmaz(hi, 2)"
   ]
  },
  {
   "cell_type": "markdown",
   "metadata": {},
   "source": [
    "The functions in `nk.operator.spin` and `nk.operator.boson` are used to create the fundamental operators that can be used to build arbitrary observables and Hamiltonians. \n",
    "Those functions return an object of type [LocalOperator](https://netket.readthedocs.io/en/latest/api/_generated/operator/netket.operator.LocalOperator.html#netket.operator.LocalOperator), which behaves as some sort of sparse matrix that is optimised to be used in the context of Variational Monte Carlo.\n",
    "\n",
    ":::{note}\n",
    "A `LocalOperator` can efficiently represent only operators that have a small domain in the computational basis: this means that an operator acting on 1 or 2 qubits will be efficiently represented, but one that acts on many qubits at once will not be.\n",
    "\n",
    "This is particularly important for operators such as projectors on a single configuration, such as $ |\\sigma_1\\dots \\sigma_N\\rangle \\langle \\sigma_1\\dots \\sigma_N| $, or projectors on an arbitrary wave-function. \n",
    "Those cannot be efficiently represented as LocalOperators.\n",
    "\n",
    "NetKet also implements other types of operators, which have a different cost/complexity scaling. Look at the published paper for more informations.\n",
    ":::\n",
    "\n",
    "A LocalOperator can be printed, and has the following representation: "
   ]
  },
  {
   "cell_type": "code",
   "execution_count": 7,
   "metadata": {
    "tags": []
   },
   "outputs": [
    {
     "name": "stdout",
     "output_type": "stream",
     "text": [
      "LocalOperator(dim=16, acting_on=[(1,)], constant=0.0, dtype=float64)\n"
     ]
    }
   ],
   "source": [
    "print(sx_1)"
   ]
  },
  {
   "cell_type": "markdown",
   "metadata": {},
   "source": [
    "The informations you see tells you that:\n",
    " * `dim`: The hilbert space has 16 local degrees of freedom\n",
    " * `acting_on`: this specific operator is composed by terms that act on the single site 1\n",
    " * `constant`: this is a diagonal shift proportional to the identity. In this case it is 0\n",
    " * `dtype`: the numpy data-type of the matrix elements. This allows you to store operators in single or double precision, or as real or complex valued operators. For most use cases, you can not worry about this, but if you want to squeeze every last drop of performance from a GPU you should pay attention to this. "
   ]
  },
  {
   "cell_type": "markdown",
   "metadata": {},
   "source": [
    "You then can combine those operators together together by multiplying, adding them or subtracting them. Try to build the Transverse field ising hamiltonian by combining those operators while iterating through the edges in the lattice.\n",
    "\n",
    "$$ \n",
    "\\mathcal{H}=-h\\sum_{i}\\sigma_{i}^{(x)}+J\\sum_{\\langle i,j \\rangle}\\sigma_{i}^{(z)}\\sigma_{j}^{(z)}. \n",
    "$$\n",
    "\n",
    "where $h=1$ and $J=1$ .\n",
    "Now it's your turn. \n",
    "\n",
    "Try to convert the equation above to code, using the operators that were discussed before (`nk.operator.spin.sigmax` and `nk.operator.spin.sigmaz`). \n",
    "\n",
    "Try to complete the code below:"
   ]
  },
  {
   "cell_type": "code",
   "execution_count": null,
   "metadata": {
    "tags": []
   },
   "outputs": [],
   "source": [
    "# This creates an empty operator (or zero) to which you can add others.\n",
    "hamiltonian = nk.operator.LocalOperator(hi)\n",
    "\n",
    "# now add all terms acting on single sites\n",
    "for site in # every node (take the list of nodes from the graph object g that we constructed before)\n",
    "    # TODO\n",
    "\n",
    "    # now add all terms acting on multiple sites\n",
    "for (i,j) in # every edge (take the list of edges from the graph object)\n",
    "    hamiltonian = hamiltonian + # TODO\n"
   ]
  },
  {
   "cell_type": "markdown",
   "metadata": {
    "tags": []
   },
   "source": [
    ":::{dropdown} Show solution\n",
    "```python\n",
    "# This creates an empty operator to which you can add others.\n",
    "hamiltonian = nk.operator.LocalOperator(hi) \n",
    "\n",
    "# the list of nodes is given by g.nodes() \n",
    "for site in g.nodes():\n",
    "    hamiltonian = hamiltonian - 1.0 * nk.operator.spin.sigmax(hi, site)\n",
    "\n",
    "for (i,j) in g.edges():\n",
    "    # you can multiply operators by using the @ operator\n",
    "    hamiltonian = hamiltonian + nk.operator.spin.sigmaz(hi, i)@nk.operator.spin.sigmaz(hi, j)\n",
    "```\n",
    ":::"
   ]
  },
  {
   "cell_type": "markdown",
   "metadata": {},
   "source": [
    "To check if your implementation is correct, you can run this following line. \n",
    "It will error if your implementation is wrong."
   ]
  },
  {
   "cell_type": "code",
   "execution_count": 16,
   "metadata": {
    "tags": []
   },
   "outputs": [],
   "source": [
    "import numpy as np\n",
    "\n",
    "hamiltonian_correct = nk.operator.Ising(hi, g, h=1.0, J=1.0)\n",
    "assert np.sum(np.abs(hamiltonian_correct.to_sparse() - hamiltonian.to_sparse())**2) < 1e-5"
   ]
  },
  {
   "cell_type": "markdown",
   "metadata": {},
   "source": [
    "Most operators in NetKet are implemented in Numba and they are not compatible with `jax.jit`. However, some particular operator formats are implemented both in `numba`and in a `jax.jit-`compatible format. \n",
    "\n",
    "To make the rest of the tutorial easier on the reader, we will now convert the operator to a format that makes those operators jax-friendly, such that you can pass them to jax functions without problems.\n",
    "\n",
    "To do this, first we convert your hamiltonian from the `LocalOperator` format to the `PauliStrings` format by calling `.to_pauli_strings()`, and then we convert the `PauliStrings` operator to the jax format by calling `to_jax_operator()`.\n",
    "\n",
    "The reason why we have so many formats for operators is because they have different performance characteristics that even we don't fully understand completely. We give users several possible choices such that the user can try and find the best for his use-case."
   ]
  },
  {
   "cell_type": "code",
   "execution_count": 21,
   "metadata": {
    "tags": []
   },
   "outputs": [],
   "source": [
    "hamiltonian_jax = hamiltonian.to_pauli_strings().to_jax_operator()"
   ]
  },
  {
   "cell_type": "markdown",
   "metadata": {},
   "source": [
    "You can also convert those operators to sparse. You will get a `jax.experimental.sparse` matrix."
   ]
  },
  {
   "cell_type": "code",
   "execution_count": 22,
   "metadata": {
    "tags": []
   },
   "outputs": [
    {
     "data": {
      "text/plain": [
       "BCOO(float64[65536, 65536], nse=1114112)"
      ]
     },
     "execution_count": 22,
     "metadata": {},
     "output_type": "execute_result"
    }
   ],
   "source": [
    "hamiltonian_jax.to_sparse()"
   ]
  },
  {
   "cell_type": "markdown",
   "metadata": {},
   "source": [
    "## 2. Exact Diagonalization (as a testbed)\n",
    "\n",
    "Just as a matter of future comparison, let's compute the exact ground-state energy (since this is still possible for up to $N=24$ sites using brute-force exact diagonalization).\n",
    "\n",
    "You can convert your operator to a sparse matrix with the method `.to_sparse()`. Now use scipy to diagonalise it and extract the lowest eigenvalue.\n",
    "\n",
    "Note that the standard hamiltonian `hamiltonian` can be converted to a scipy sparse matrix easily, while the jax-hamiltonian `hamiltonian_jax` is converted to a jax sparse matrix. Therefore chose wisely what format you want to use for exact diagonalisation!"
   ]
  },
  {
   "cell_type": "code",
   "execution_count": null,
   "metadata": {
    "tags": []
   },
   "outputs": [],
   "source": [
    "# TODO\n",
    "\n",
    "# compute the two values\n",
    "e_gs, psi_gs"
   ]
  },
  {
   "cell_type": "markdown",
   "metadata": {
    "tags": []
   },
   "source": [
    ":::{dropdown} Show solution\n",
    "```python\n",
    "# use scipy.sparse.linalg.eigsh instead of numpy.linalg.eigh because\n",
    "# the sparse version is much faster as it uses sparsity!\n",
    "from scipy.sparse.linalg import eigsh\n",
    "\n",
    "# k=1 to only get one eigenvalue\n",
    "e_gs, psi_gs = eigsh(hamiltonian.to_sparse(), k=1)\n",
    "# get ground state energy and\n",
    "e_gs = e_gs[0]\n",
    "# ground state\n",
    "psi_gs = psi_gs.reshape(-1)\n",
    "```\n",
    ":::"
   ]
  },
  {
   "cell_type": "code",
   "execution_count": 61,
   "metadata": {
    "tags": []
   },
   "outputs": [
    {
     "data": {
      "text/plain": [
       "-34.010597550846256"
      ]
     },
     "execution_count": 61,
     "metadata": {},
     "output_type": "execute_result"
    }
   ],
   "source": [
    "# todelete\n",
    "from scipy.sparse.linalg import eigsh\n",
    "ha = hamiltonian.to_sparse()\n",
    "e_gs, psi_gs = eigsh(ha, k=1)\n",
    "e_gs = e_gs[0]\n",
    "psi_gs = psi_gs.reshape(-1)\n",
    "e_gs"
   ]
  },
  {
   "cell_type": "code",
   "execution_count": 66,
   "metadata": {
    "tags": []
   },
   "outputs": [],
   "source": [
    "# if all is good, this cell should validate\n",
    "assert e_gs.shape == ()\n",
    "assert psi_gs.shape == (hi.n_states, )\n",
    "assert -34.01060 < e_gs < -34.01059"
   ]
  },
  {
   "cell_type": "markdown",
   "metadata": {},
   "source": [
    "## 3. Variational Ansatz & variational energy\n",
    "\n",
    "In this section I would like to guide you to write a small code to compute the energy given a variational ansatz. \n",
    "The calculation should be done exactly, but structured in a set of functions as I will suggest you...\n",
    "\n",
    "First, let's define the variational ansatz. This time I write it. Later you will have to write one yourself.\n",
    "\n",
    "### 3.1 Mean-Field Ansatz\n",
    "\n",
    "We now would like to find a variational approximation of the ground state of this Hamiltonian. As a first step, we can try to use a very simple mean field ansatz: \n",
    "\n",
    "$$ \\langle \\sigma^{z}_1,\\dots \\sigma^{z}_N| \\Psi_{\\mathrm{mf}} \\rangle = \\Pi_{i=1}^{N} \\Phi(\\sigma^{z}_i), $$\n",
    "\n",
    "where the variational parameters are the single-spin wave functions, which we can further take to be normalized: \n",
    "\n",
    "$$ |\\Phi(\\uparrow)|^2 + |\\Phi(\\downarrow)|^2 =1, $$\n",
    "\n",
    "and we can further write $ \\Phi(\\sigma^z) = \\sqrt{P(\\sigma^z)}e^{i \\phi(\\sigma^z)}$. In order to simplify the presentation, we take here and in the following examples the phase $ \\phi=0 $. In this specific model this is without loss of generality, since it is known that the ground state is real and positive. \n",
    "\n",
    "For the normalized single-spin probability we will take a sigmoid form: \n",
    "\n",
    "$$ P(\\sigma_z; \\lambda) = 1/(1+\\exp(-\\lambda \\sigma_z)), $$\n",
    "\n",
    "thus depending on the real-valued variational parameter $\\lambda$. \n",
    "In NetKet one has to define a variational function approximating the **logarithm** of the wave-function amplitudes (or density-matrix values).\n",
    "We call this variational function _the Model_ (yes, caps on the M).\n",
    "\n",
    "$$ \\langle \\sigma^{z}_1,\\dots \\sigma^{z}_N| \\Psi_{\\mathrm{mf}} \\rangle = \\exp\\left[\\mathrm{Model}(\\sigma^{z}_1,\\dots \\sigma^{z}_N ; \\theta ) \\right], $$\n",
    "\n",
    "where $\\theta$ is a set of parameters. \n",
    "In this case, the parameter of the model will be just one: $\\lambda$.  \n",
    "\n",
    "The Model can be defined using one of the several *functional* jax frameworks such as Jax/Stax, Flax or Haiku. \n",
    "NetKet includes several pre-built models and layers built with [Flax](https://github.com/google/flax), so we will be using it for the rest of the notebook. "
   ]
  },
  {
   "cell_type": "code",
   "execution_count": 70,
   "metadata": {
    "tags": []
   },
   "outputs": [],
   "source": [
    "import jax\n",
    "\n",
    "# numerical operations in the model should always use jax.numpy \n",
    "# instead of numpy because jax supports computing derivatives. \n",
    "# If you want to better understand the difference between the two, check\n",
    "# https://flax.readthedocs.io/en/latest/notebooks/jax_for_the_impatient.html\n",
    "import jax.numpy as jnp\n",
    "\n",
    "# Flax is a framework to define models using jax\n",
    "import flax\n",
    "# we refer to `flax.linen` as `nn`. It's a repository of \n",
    "# layers, initializers and nonlinear functions.\n",
    "import flax.linen as nn\n",
    "\n",
    "# A Flax model must be a class subclassing `nn.Module`\n",
    "class MF(nn.Module):\n",
    "    \n",
    "    # The most compact way to define the model is this.\n",
    "    # The __call__(self, x) function should take as \n",
    "    # input a batch of states x.shape = (n_samples, N)\n",
    "    # and should return a vector of n_samples log-amplitudes\n",
    "    @nn.compact\n",
    "    def __call__(self, x):\n",
    "        \n",
    "        # A tensor of variational parameters is defined by calling\n",
    "        # the method `self.param` where the arguments will be:\n",
    "        # - arbitrary name used to refer to this set of parameters\n",
    "        # - an initializer used to provide the initial values. \n",
    "        # - The shape of the tensor\n",
    "        # - The dtype of the tensor.\n",
    "        lam = self.param(\n",
    "            \"lambda\", nn.initializers.normal(), (1,), float\n",
    "        )\n",
    "        \n",
    "        # compute the probabilities\n",
    "        p = nn.log_sigmoid(lam*x)\n",
    "\n",
    "        # sum the output\n",
    "        return 0.5 * jnp.sum(p, axis=-1)"
   ]
  },
  {
   "cell_type": "markdown",
   "metadata": {},
   "source": [
    "The model itself is only a set of instructions on how to initialise the parameters and how to compute the result. \n",
    "\n",
    "To initialise the parameters we do the following:"
   ]
  },
  {
   "cell_type": "code",
   "execution_count": 71,
   "metadata": {
    "tags": []
   },
   "outputs": [],
   "source": [
    "# create an instance of the model\n",
    "model = MF()\n",
    "\n",
    "# pick a RNG key to initialise the random parameters\n",
    "key = jax.random.key(0)\n",
    "\n",
    "# initialise the weights\n",
    "parameters = model.init(key, np.random.rand(hi.size))"
   ]
  },
  {
   "cell_type": "code",
   "execution_count": 72,
   "metadata": {
    "tags": []
   },
   "outputs": [],
   "source": [
    "# parameters are stored as a 'pytree', that is, a dictionary of dictionaries whose leafs are numerical arrays"
   ]
  },
  {
   "cell_type": "code",
   "execution_count": 73,
   "metadata": {
    "tags": []
   },
   "outputs": [
    {
     "data": {
      "text/plain": [
       "{'params': {'lambda': Array([-0.02033396], dtype=float64)}}"
      ]
     },
     "execution_count": 73,
     "metadata": {},
     "output_type": "execute_result"
    }
   ],
   "source": [
    "parameters"
   ]
  },
  {
   "cell_type": "markdown",
   "metadata": {},
   "source": [
    "Conceptually, parameters are vectors, even though they are stored in memory differently. You can apply mathematical operations to those vectors using `jax.tree.map(function, trees...)`, which calls the function on every element of the pytrees."
   ]
  },
  {
   "cell_type": "code",
   "execution_count": 74,
   "metadata": {
    "tags": []
   },
   "outputs": [
    {
     "name": "stdout",
     "output_type": "stream",
     "text": [
      "multiply_by_10:              {'a': 10, 'b': 20}\n",
      "multiply_by_10, with lambda: {'a': 10, 'b': 20}\n",
      "add dict1 and 2          : {'a': 2, 'b': 0}\n",
      "subtract dict1 and 2        : {'a': 0, 'b': 4}\n",
      "subtract dict1 and 2, lambda: {'a': 0, 'b': 4}\n"
     ]
    }
   ],
   "source": [
    "dict1 = {'a':1, 'b':2}\n",
    "dict2 = {'a':1, 'b':-2}\n",
    "\n",
    "def multiply_by_10(x):\n",
    "    return 10*x\n",
    "\n",
    "print(\"multiply_by_10:             \", jax.tree.map(multiply_by_10,  dict1))\n",
    "# this can also be done by defining the function as a lambda function, which is more compact\n",
    "print(\"multiply_by_10, with lambda:\", jax.tree.map(lambda x: 10*x,  dict1))\n",
    "\n",
    "def add(x,y):\n",
    "    return x+y\n",
    "print(\"add dict1 and 2          :\", jax.tree.map(add, dict1, dict2))\n",
    "\n",
    "\n",
    "def sub(x,y):\n",
    "    return x-y\n",
    "print(\"subtract dict1 and 2        :\", jax.tree.map(sub, dict1, dict2))\n",
    "print(\"subtract dict1 and 2, lambda:\", jax.tree.map(lambda x,y:x-y, dict1, dict2))\n"
   ]
  },
  {
   "cell_type": "markdown",
   "metadata": {},
   "source": [
    "To evaluate the model for some parameters and a set of inputs you do the following"
   ]
  },
  {
   "cell_type": "code",
   "execution_count": 75,
   "metadata": {
    "tags": []
   },
   "outputs": [
    {
     "name": "stdout",
     "output_type": "stream",
     "text": [
      "(4,)\n"
     ]
    }
   ],
   "source": [
    "# generate 4 random inputs\n",
    "inputs = hi.random_state(jax.random.key(1), (4,))\n",
    "\n",
    "log_psi = model.apply(parameters, inputs)\n",
    "# notice that logpsi has shape (4,) because we fed it 4 random configurations.\n",
    "print(log_psi.shape)"
   ]
  },
  {
   "cell_type": "markdown",
   "metadata": {
    "tags": []
   },
   "source": [
    "### 3.2. Your turn\n",
    "\n",
    "Remember that your function `model.apply` will evaluate `logpsi`, not the wavefunction itself. \n",
    "\n",
    "Write a function that takes as input the model and the parameters, and which returns the exponentiated wavefunction, properly normalised.\n"
   ]
  },
  {
   "cell_type": "code",
   "execution_count": 22,
   "metadata": {
    "tags": []
   },
   "outputs": [],
   "source": [
    "# TODO\n",
    "def to_array(model, parameters): # -> Array:\n",
    "    # begin by generating all configurations in the hilbert space.\n",
    "    # all_States returns a batch of configurations that is (hi.n_states, N) large.\n",
    "    all_configurations = hi.all_states()\n",
    "\n",
    "    # now evaluate the model, and convert to a normalised wavefunction.\n",
    "    \n",
    "    return ..."
   ]
  },
  {
   "cell_type": "markdown",
   "metadata": {},
   "source": [
    ":::{dropdown} Show solution\n",
    "```python\n",
    "def to_array(model, parameters):\n",
    "    # begin by generating all configurations in the hilbert space.\n",
    "    # all_States returns a batch of configurations that is (hi.n_states, N) large.\n",
    "    all_configurations = hi.all_states()\n",
    "\n",
    "    # now evaluate the model, and convert to a normalised wavefunction.\n",
    "    logpsi = model.apply(parameters, all_configurations)\n",
    "    psi = jnp.exp(logpsi)\n",
    "    psi = psi / jnp.linalg.norm(psi)\n",
    "    return psi\n",
    "```\n",
    ":::"
   ]
  },
  {
   "cell_type": "code",
   "execution_count": 77,
   "metadata": {
    "tags": []
   },
   "outputs": [],
   "source": [
    "# If you did it correctly, this test should pass\n",
    "\n",
    "assert to_array(model, parameters).shape == (hi.n_states, )\n",
    "assert np.all(to_array(model, parameters) > 0)\n",
    "np.testing.assert_allclose(np.linalg.norm(to_array(model, parameters)), 1.0)"
   ]
  },
  {
   "cell_type": "markdown",
   "metadata": {},
   "source": [
    "If you implemented everything correctly using `jnp.` operations and not `np.` operations, we might as well be able to jit-compile the function to gain a speed boost! \n",
    "Try the following"
   ]
  },
  {
   "cell_type": "code",
   "execution_count": 78,
   "metadata": {
    "tags": []
   },
   "outputs": [
    {
     "name": "stdout",
     "output_type": "stream",
     "text": [
      "13.4 ms ± 55.3 µs per loop (mean ± std. dev. of 7 runs, 100 loops each)\n"
     ]
    }
   ],
   "source": [
    "%timeit to_array(model, parameters)"
   ]
  },
  {
   "cell_type": "markdown",
   "metadata": {},
   "source": [
    "that's quite slow. Instead we can compile it by doing"
   ]
  },
  {
   "cell_type": "code",
   "execution_count": 79,
   "metadata": {
    "tags": []
   },
   "outputs": [
    {
     "data": {
      "text/plain": [
       "Array([0.0042355 , 0.00419265, 0.00419265, ..., 0.0036364 , 0.0036364 ,\n",
       "       0.00359962], dtype=float64)"
      ]
     },
     "execution_count": 79,
     "metadata": {},
     "output_type": "execute_result"
    }
   ],
   "source": [
    "# static_argnames must be used to tag any argument that is not a pytree or an array. In this case, the model.\n",
    "to_array_jit = jax.jit(to_array, static_argnames=\"model\")\n",
    "\n",
    "# run it once to compile it, before benchmarking\n",
    "to_array_jit(model, parameters)"
   ]
  },
  {
   "cell_type": "markdown",
   "metadata": {},
   "source": [
    "And it should already be a bit faster. Moreover, the speedup will be even larger when computing gradients or other complicated operations."
   ]
  },
  {
   "cell_type": "code",
   "execution_count": 80,
   "metadata": {
    "tags": []
   },
   "outputs": [
    {
     "name": "stdout",
     "output_type": "stream",
     "text": [
      "4.32 ms ± 108 µs per loop (mean ± std. dev. of 7 runs, 100 loops each)\n"
     ]
    }
   ],
   "source": [
    "%timeit to_array_jit(model, parameters)"
   ]
  },
  {
   "cell_type": "markdown",
   "metadata": {},
   "source": [
    "### 3.3 Energy\n",
    "Now, using that function, let's build another one that computes the energy of the mean field state for the given parameters! \n",
    "To do that, you can for example convert the hamiltonian to a sparse format and compute the energy"
   ]
  },
  {
   "cell_type": "code",
   "execution_count": 26,
   "metadata": {
    "tags": []
   },
   "outputs": [],
   "source": [
    "# todo\n",
    "def compute_energy(model, parameters, hamiltonian):\n",
    "    psi_gs = to_array(model, parameters)\n",
    "    ... # todo\n",
    "    return ..."
   ]
  },
  {
   "cell_type": "markdown",
   "metadata": {},
   "source": [
    ":::{dropdown} Show solution\n",
    "```python\n",
    "def compute_energy(model, parameters, hamiltonian_sparse):\n",
    "    psi_gs = to_array(model, parameters)\n",
    "    return psi_gs.conj().T@(hamiltonian_sparse@psi_gs)\n",
    "```\n",
    ":::"
   ]
  },
  {
   "cell_type": "code",
   "execution_count": 84,
   "metadata": {
    "tags": []
   },
   "outputs": [],
   "source": [
    "# if all is good, this should not error\n",
    "assert compute_energy(model, parameters, hamiltonian.to_sparse()).shape == ()\n",
    "assert compute_energy(model, parameters, hamiltonian.to_sparse()) < 0"
   ]
  },
  {
   "cell_type": "code",
   "execution_count": 85,
   "metadata": {
    "tags": []
   },
   "outputs": [],
   "source": [
    "# and like before, we can jit-compile it!\n",
    "compute_energy_jit = jax.jit(compute_energy, static_argnames=\"model\")\n",
    "\n",
    "# and we precompute the sparse-hamiltonian to avoid the overhead of re-computing them all the time\n",
    "hamiltonian_sparse = hamiltonian.to_sparse()\n",
    "hamiltonian_jax_sparse = hamiltonian_jax.to_sparse()"
   ]
  },
  {
   "cell_type": "markdown",
   "metadata": {},
   "source": [
    "Again, to show that jitting is useful, We can time the jitted and non-jitted versions."
   ]
  },
  {
   "cell_type": "code",
   "execution_count": 86,
   "metadata": {
    "tags": []
   },
   "outputs": [
    {
     "name": "stdout",
     "output_type": "stream",
     "text": [
      "13.8 ms ± 211 µs per loop (mean ± std. dev. of 7 runs, 100 loops each)\n",
      "10.7 ms ± 136 µs per loop (mean ± std. dev. of 7 runs, 100 loops each)\n"
     ]
    }
   ],
   "source": [
    "%timeit compute_energy(model, parameters, hamiltonian_sparse)\n",
    "%timeit compute_energy_jit(model, parameters, hamiltonian_jax_sparse)"
   ]
  },
  {
   "cell_type": "markdown",
   "metadata": {
    "tags": []
   },
   "source": [
    "### 3.4 Gradient of the energy\n",
    "\n",
    "As we used jax so far, we can easily compute the gradient of the energy by simply calling one function: `jax.grad(compute_energy, argnum=1)`, where argnum signals wrt which argument we want to compute the gradient (the 0 is the model, which is not actually an array so we cannot differentiate, the second is the parameters, so that's the one"
   ]
  },
  {
   "cell_type": "code",
   "execution_count": 87,
   "metadata": {
    "tags": []
   },
   "outputs": [],
   "source": [
    "from functools import partial\n",
    "\n",
    "# we use partial to directly jit this function. Jitting the top-most will jit everything inside it as well.\n",
    "@partial(jax.jit, static_argnames='model')\n",
    "def compute_energy_and_gradient(model, parameters, hamiltonian_sparse):\n",
    "    grad_fun = jax.value_and_grad(compute_energy, argnums=1)\n",
    "    return grad_fun(model, parameters, hamiltonian_sparse)"
   ]
  },
  {
   "cell_type": "code",
   "execution_count": 88,
   "metadata": {
    "tags": []
   },
   "outputs": [
    {
     "name": "stdout",
     "output_type": "stream",
     "text": [
      "{'params': {'lambda': Array([-0.40662741], dtype=float64)}}\n"
     ]
    }
   ],
   "source": [
    "energy, gradient = compute_energy_and_gradient(model, parameters, hamiltonian_jax_sparse)\n",
    "print(gradient)"
   ]
  },
  {
   "cell_type": "markdown",
   "metadata": {},
   "source": [
    "notice that we now have the same 'structure' as the parameters"
   ]
  },
  {
   "cell_type": "markdown",
   "metadata": {},
   "source": [
    "### 3.5 Optimise and look for the ground state"
   ]
  },
  {
   "cell_type": "markdown",
   "metadata": {},
   "source": [
    "Now write a little code to initialise the model, find the groundstate and plot the energy along the optimisation. \n",
    "\n",
    "Iterate for 100 iterations, and use `tqdm` to print a beautiful error bar. "
   ]
  },
  {
   "cell_type": "code",
   "execution_count": null,
   "metadata": {
    "tags": []
   },
   "outputs": [],
   "source": [
    "from tqdm import tqdm\n",
    "\n",
    "# initialise \n",
    "model = MF()\n",
    "parameters = model.init(jax.random.key(0), np.ones((hi.size, )))\n",
    "\n",
    "# logging: you can (if you want) use netket loggers to avoid writing a lot of boilerplate...\n",
    "# they accumulate data you throw at them\n",
    "logger = nk.logging.RuntimeLog()\n",
    "\n",
    "for i in tqdm(range(iterations)):\n",
    "    # compute energy and gradient\n",
    "    #...\n",
    "    \n",
    "    # update parameters. Try using a learning rate of 0.01\n",
    "    # to update the parameters, which are stored as a dictionary (or pytree)\n",
    "    # you can use jax.tree.map as shown above.\n",
    "    #...\n",
    "    \n",
    "    # log energy: the logger takes a step argument and a dictionary of variables to be logged\n",
    "    logger(step=i, item={'Energy' : energy})"
   ]
  },
  {
   "cell_type": "markdown",
   "metadata": {
    "tags": []
   },
   "source": [
    ":::{dropdown} Show solution\n",
    "```python\n",
    "# initialise \n",
    "model = MF()\n",
    "parameters = model.init(jax.random.key(0), np.ones((hi.size, )))\n",
    "\n",
    "# logging: you can (if you want) use netket loggers to avoid writing a lot of boilerplate...\n",
    "# they accumulate data you throw at them\n",
    "logger = nk.logging.RuntimeLog()\n",
    "\n",
    "for i in tqdm(range(100)):\n",
    "    # compute energy and gradient\n",
    "    energy, gradient = compute_energy_and_gradient(model, parameters, hamiltonian_jax_sparse)\n",
    "    \n",
    "    # update parameters\n",
    "    parameters = jax.tree.map(lambda x,y:x-0.01*y, parameters, gradient)\n",
    "    \n",
    "    # log energy: the logger takes a step argument and a dictionary of variables to be logged\n",
    "    logger(step=i, item={'Energy':energy})\n",
    "```\n",
    ":::"
   ]
  },
  {
   "cell_type": "code",
   "execution_count": 94,
   "metadata": {
    "tags": []
   },
   "outputs": [
    {
     "data": {
      "text/plain": [
       "[<matplotlib.lines.Line2D at 0x293900650>]"
      ]
     },
     "execution_count": 94,
     "metadata": {},
     "output_type": "execute_result"
    },
    {
     "data": {
      "image/png": "[encoded data removed]",
      "text/plain": [
       "<Figure size 640x480 with 1 Axes>"
      ]
     },
     "metadata": {},
     "output_type": "display_data"
    }
   ],
   "source": [
    "import matplotlib.pyplot as plt\n",
    "\n",
    "# to plot the data, access it!\n",
    "plt.plot(logger.data['Energy']['iters'], logger.data['Energy']['value'])"
   ]
  },
  {
   "cell_type": "markdown",
   "metadata": {
    "tags": []
   },
   "source": [
    "But actually a better plot would be the relative error in log-scale, because it allows us to better see what is going on at all scales and compare different runs.\n",
    "\n",
    "Try to do it yourself!"
   ]
  },
  {
   "cell_type": "code",
   "execution_count": 99,
   "metadata": {
    "mystnb": {
     "code_prompt_show": "Show solution"
    },
    "tags": [
     "hide-cell"
    ]
   },
   "outputs": [
    {
     "data": {
      "text/plain": [
       "[<matplotlib.lines.Line2D at 0x294a8e6d0>]"
      ]
     },
     "execution_count": 99,
     "metadata": {},
     "output_type": "execute_result"
    },
    {
     "data": {
      "image/png": "[encoded data removed]",
      "text/plain": [
       "<Figure size 640x480 with 1 Axes>"
      ]
     },
     "metadata": {},
     "output_type": "display_data"
    }
   ],
   "source": [
    "import matplotlib.pyplot as plt\n",
    "\n",
    "# to plot the data, access it!\n",
    "plt.semilogy(logger.data['Energy']['iters'], np.abs(logger.data['Energy']['value']- e_gs))"
   ]
  },
  {
   "cell_type": "markdown",
   "metadata": {},
   "source": [
    "### 3.6 Jastrow Ansatz\n",
    "\n",
    "Now try running the same caluclation as above, but by using a Jastrow ansatz instead of a mean Field ansatz. Write it using flax as before.\n",
    "\n",
    "$$ \\langle \\sigma^{z}_1,\\dots \\sigma^{z}_N| \\Psi_{\\mathrm{jas}} \\rangle = \\exp \\left( \\sum_{ij}\\sigma_i J_{ij}\\sigma_j\\right),$$\n"
   ]
  },
  {
   "cell_type": "code",
   "execution_count": null,
   "metadata": {
    "tags": []
   },
   "outputs": [],
   "source": [
    "# A Flax model must be a class subclassing `nn.Module`\n",
    "class Jastrow(nn.Module):\n",
    "    \n",
    "    # The most compact way to define the model is this.\n",
    "    # The __call__(self, input_x) function should take as \n",
    "    # input a batch of states input_x.shape = (n_samples, N)\n",
    "    # and should return a vector of n_samples log-amplitudes\n",
    "    @nn.compact\n",
    "    def __call__(self, input_x):\n",
    "        \n",
    "        n_sites = input_x.shape[-1]\n",
    "        \n",
    "        # A tensor of variational parameters is defined by calling\n",
    "        # the method `self.param` where the arguments will be:\n",
    "        # - arbitrary name used to refer to this set of parameters\n",
    "        # - an initializer used to provide the initial values. \n",
    "        # - The shape of the tensor\n",
    "        # - The dtype of the tensor.\n",
    "        # Define the two variational parameters J1 and J2\n",
    "        J = self.param(\n",
    "            \"J\", nn.initializers.normal(), (n_sites,n_sites), float\n",
    "        )\n",
    "        # ensure same data types\n",
    "        dtype = jax.numpy.promote_types(J.dtype, input_x.dtype)\n",
    "        J = J.astype(dtype)\n",
    "        input_x = input_x.astype(dtype)\n",
    "        \n",
    "        # note that J_ij is not symmetric. So we symmetrize it by hand\n",
    "        J_symm = J.T + J\n",
    "        \n",
    "        # TODO compute the result \n",
    "        res = # use vectorised operations. Make sure they work with arbitrary shapes of dimensions.\n",
    "        # look into jnp.einsum.\n",
    "\n",
    "        return res"
   ]
  },
  {
   "cell_type": "markdown",
   "metadata": {
    "tags": []
   },
   "source": [
    ":::{dropdown} Show solution\n",
    "```python\n",
    "class Jastrow(nn.Module):\n",
    "    @nn.compact\n",
    "    def __call__(self, x):\n",
    "        n_sites = x.shape[-1]\n",
    "        J = self.param(\n",
    "            \"J\", nn.initializers.normal(), (n_sites,n_sites), float\n",
    "        )\n",
    "        J_symm = J.T + J\n",
    "        return jnp.einsum(\"...i,ij,...j\", x, J_symm, x)\n",
    "```\n",
    ":::"
   ]
  },
  {
   "cell_type": "code",
   "execution_count": 103,
   "metadata": {
    "tags": []
   },
   "outputs": [],
   "source": [
    "# if the code above is correct, this should run\n",
    "model_jastrow = Jastrow()\n",
    "\n",
    "one_sample = hi.random_state(jax.random.key(0))\n",
    "batch_samples = hi.random_state(jax.random.key(0), (5,))\n",
    "multibatch_samples = hi.random_state(jax.random.key(0), (5,4,))\n",
    "\n",
    "parameters_jastrow = model_jastrow.init(jax.random.key(0), one_sample)\n",
    "assert parameters_jastrow['params']['J'].shape == (hi.size, hi.size)\n",
    "assert model_jastrow.apply(parameters_jastrow, one_sample).shape == ()\n",
    "assert model_jastrow.apply(parameters_jastrow, batch_samples).shape == batch_samples.shape[:-1]\n",
    "assert model_jastrow.apply(parameters_jastrow, multibatch_samples).shape == multibatch_samples.shape[:-1]"
   ]
  },
  {
   "cell_type": "markdown",
   "metadata": {},
   "source": [
    "**And now rerun the same analysis as before but with this ansatz*"
   ]
  },
  {
   "cell_type": "markdown",
   "metadata": {},
   "source": [
    "## 4. Monte Carlo complications "
   ]
  },
  {
   "cell_type": "markdown",
   "metadata": {},
   "source": [
    "Until now we did everything by summing over the whole hilbert space, but for larger problems that won't be possible. So let's look into MC sampling."
   ]
  },
  {
   "cell_type": "markdown",
   "metadata": {
    "tags": []
   },
   "source": [
    "### 4.1 Generating samples\n",
    "\n",
    "For this tutorial, we won't look into the nitty gritty details of sampling, but instead rely on a set of samplers already written for us. Let's consider a simple MCMC sampler that propose new states by flipping individual spins"
   ]
  },
  {
   "cell_type": "code",
   "execution_count": 104,
   "metadata": {
    "tags": []
   },
   "outputs": [],
   "source": [
    "sampler = nk.sampler.MetropolisSampler(\n",
    "                        hi,                            # the hilbert space to be sampled\n",
    "                        nk.sampler.rules.LocalRule(),  # the transition rule\n",
    "                        n_chains = 20)"
   ]
  },
  {
   "cell_type": "markdown",
   "metadata": {},
   "source": [
    "And the samplers are used as follows:\n",
    " - First you initialise the 'sampler state' that contains the mutable state and rng of the sampler\n",
    " - Every time you change the parameters you reset it\n",
    " - to generate new samples you call .sample_chain."
   ]
  },
  {
   "cell_type": "code",
   "execution_count": 105,
   "metadata": {
    "tags": []
   },
   "outputs": [
    {
     "name": "stdout",
     "output_type": "stream",
     "text": [
      "(20, 100, 16)\n"
     ]
    }
   ],
   "source": [
    "sampler_state = sampler.init_state(model, parameters, seed=1)\n",
    "sampler_state = sampler.reset(model, parameters, sampler_state)\n",
    "samples, sampler_state = sampler.sample(model, parameters, state=sampler_state, chain_length=100)\n",
    "\n",
    "print(samples.shape)\n",
    "# those are the three dimensions: 20 chains, 100 length per chain and 16 spins per sample.\n",
    "# Note: chains are sometimes refereed to as walkers\n",
    "# Note: the chain length is actually the length of the returned samples. In reality, the sampler generates \n",
    "# chains of length `chain_length * sampler.sweep_size` and returns you 1 sample every   sampler.sweep_size"
   ]
  },
  {
   "cell_type": "markdown",
   "metadata": {},
   "source": [
    "To generate more samples, simply call `sampler.sample` again or with a different `chain_length`.\n",
    "If you change the parameters, you should call `sampler.reset`."
   ]
  },
  {
   "cell_type": "markdown",
   "metadata": {
    "tags": []
   },
   "source": [
    "### 4.2 Computing the Energy"
   ]
  },
  {
   "cell_type": "markdown",
   "metadata": {},
   "source": [
    "We want to compute the energy as an expectation value, therefore as\n",
    "\n",
    "$$\n",
    "   E = \\sum_i^{N_s} \\frac{E_\\text{loc}(\\sigma_i)}{N_s}\n",
    "$$\n",
    "\n",
    "where $\\sigma_i$ are the samples and Eloc is\n",
    "\n",
    "$$\n",
    "  E_\\text{loc}(\\sigma) = \\frac{\\langle \\sigma |H|\\psi\\rangle}{\\langle \\sigma |\\psi\\rangle} = \\sum_\\eta \\langle\\sigma|H|\\eta\\rangle \\frac{\\psi(\\eta)}{\\psi(\\sigma)}\n",
    "$$\n",
    "\n",
    "but the sum in principle is over exponentially many entries. Instead we can do the following\n",
    "\n",
    "$$\n",
    "  E_\\text{loc}(\\sigma) = \\sum_\\eta \\langle\\sigma|H|\\eta\\rangle \\frac{\\psi(\\eta)}{\\psi(\\sigma)} = \\sum_{\\eta\\,\\, \\text{s.t.} \\,\\,\\langle\\sigma|H|\\eta\\rangle \\neq 0} \\langle\\sigma|H|\\eta\\rangle \\frac{\\psi(\\eta)}{\\psi(\\sigma)} \n",
    "$$\n"
   ]
  },
  {
   "cell_type": "markdown",
   "metadata": {},
   "source": [
    "Those entries can be extracted through our 'special' operators. "
   ]
  },
  {
   "cell_type": "code",
   "execution_count": 106,
   "metadata": {
    "tags": []
   },
   "outputs": [],
   "source": [
    "# given sigma\n",
    "sigma = hi.random_state(jax.random.key(1))\n",
    "\n",
    "eta, H_sigmaeta = hamiltonian_jax.get_conn_padded(sigma)"
   ]
  },
  {
   "cell_type": "code",
   "execution_count": 107,
   "metadata": {
    "tags": []
   },
   "outputs": [
    {
     "name": "stdout",
     "output_type": "stream",
     "text": [
      "(16,)\n",
      "(17, 16)\n",
      "(17,)\n"
     ]
    }
   ],
   "source": [
    "# so for 1 sample sigma\n",
    "print(sigma.shape)\n",
    "\n",
    "# we have 17 connected samples eta, each composed by 16 spins\n",
    "print(eta.shape)\n",
    "# and 17 matrix elements\n",
    "print(H_sigmaeta.shape)"
   ]
  },
  {
   "cell_type": "markdown",
   "metadata": {},
   "source": [
    "This also applies for batches of configurations"
   ]
  },
  {
   "cell_type": "code",
   "execution_count": 108,
   "metadata": {
    "tags": []
   },
   "outputs": [
    {
     "name": "stdout",
     "output_type": "stream",
     "text": [
      "(4, 5, 16)\n",
      "(4, 5, 17, 16)\n",
      "(4, 5, 17)\n"
     ]
    }
   ],
   "source": [
    "# given sigma\n",
    "sigma = hi.random_state(jax.random.key(1), (4,5))\n",
    "\n",
    "eta, H_sigmaeta = hamiltonian_jax.get_conn_padded(sigma)\n",
    "\n",
    "# so for each of the (4,5) samples sigma each of 16 spins\n",
    "print(sigma.shape)\n",
    "\n",
    "# we have 17 connected samples eta, each composed by 16 spins, in a tensor of shape (4,5,17,16)\n",
    "print(eta.shape)\n",
    "# and 17 matrix elements\n",
    "print(H_sigmaeta.shape)"
   ]
  },
  {
   "cell_type": "markdown",
   "metadata": {
    "tags": []
   },
   "source": [
    "_TODO_: Now use this `get_conn_padded` to write a function that computes the local energy given a model and a set parameters\n",
    "\n",
    "$$\n",
    "  E_\\text{loc}(\\sigma) = \\sum_\\eta \\langle\\sigma|H|\\eta\\rangle \\frac{\\psi(\\eta)}{\\psi(\\sigma)} = \\sum_{\\eta\\,\\, \\text{s.t.} \\,\\,\\langle\\sigma|H|\\eta\\rangle \\neq 0} \\langle\\sigma|H|\\eta\\rangle \\exp[\\log\\psi(\\eta) - \\log\\psi(\\sigma)] \n",
    "$$\n"
   ]
  },
  {
   "cell_type": "code",
   "execution_count": 109,
   "metadata": {},
   "outputs": [],
   "source": [
    "def compute_local_energies(model, parameters, hamiltonian_jax, sigma):\n",
    "    eta, H_sigmaeta = hamiltonian_jax.get_conn_padded(sigma)\n",
    "    \n",
    "    logpsi_sigma = ...\n",
    "    logpsi_eta = ...\n",
    "    \n",
    "    # to match their dimensions and broadcast, jnp.expand_dims(logpsi_sigma, -1) might help\n",
    "    ...\n",
    "    \n",
    "    return res"
   ]
  },
  {
   "cell_type": "markdown",
   "metadata": {
    "tags": []
   },
   "source": [
    ":::{dropdown} Show solution\n",
    "```python\n",
    "# todelete\n",
    "def compute_local_energies(model, parameters, hamiltonian_jax, sigma):\n",
    "    eta, H_sigmaeta = hamiltonian_jax.get_conn_padded(sigma)\n",
    "    \n",
    "    logpsi_sigma = model.apply(parameters, sigma)\n",
    "    logpsi_eta = model.apply(parameters, eta)\n",
    "    logpsi_sigma = jnp.expand_dims(logpsi_sigma, -1) \n",
    "    \n",
    "    res = jnp.sum(H_sigmaeta * jnp.exp(logpsi_eta - logpsi_sigma), axis=-1)\n",
    "    \n",
    "    return res\n",
    "```\n",
    ":::"
   ]
  },
  {
   "cell_type": "code",
   "execution_count": 112,
   "metadata": {
    "tags": []
   },
   "outputs": [],
   "source": [
    "# if you wrote it correctly, you should get to work the following tests\n",
    "assert compute_local_energies(model, parameters, hamiltonian_jax, samples[0]).shape == samples.shape[1:-1]\n",
    "assert compute_local_energies(model, parameters, hamiltonian_jax, samples).shape == samples.shape[:-1]"
   ]
  },
  {
   "cell_type": "code",
   "execution_count": 113,
   "metadata": {
    "tags": []
   },
   "outputs": [
    {
     "data": {
      "text/plain": [
       "Array([[-20., -16., -12., -20., -12.],\n",
       "       [-16., -12., -16., -16., -12.],\n",
       "       [-16., -16., -12., -20., -24.],\n",
       "       [-16., -20., -24., -16., -12.]], dtype=float64)"
      ]
     },
     "execution_count": 113,
     "metadata": {},
     "output_type": "execute_result"
    }
   ],
   "source": [
    "# and if you did not do crazy things, this should also jit compile\n",
    "jax.jit(compute_local_energies, static_argnames='model')(model, parameters, hamiltonian_jax, sigma)"
   ]
  },
  {
   "cell_type": "code",
   "execution_count": null,
   "metadata": {},
   "outputs": [],
   "source": []
  },
  {
   "cell_type": "markdown",
   "metadata": {
    "tags": []
   },
   "source": [
    "### 4.3 Sampling the energy\n",
    "\n",
    "So now write a function that computes the energy and estimates its error. I remind you that the error is given by \n",
    "\n",
    "$$\n",
    "    \\epsilon_E = \\sqrt{\\frac{\\mathbb{V}\\text{ar}(E_\\text{loc})}{N_\\text{samples}}}\n",
    "$$"
   ]
  },
  {
   "cell_type": "code",
   "execution_count": 114,
   "metadata": {
    "tags": []
   },
   "outputs": [],
   "source": [
    "@partial(jax.jit, static_argnames='model')\n",
    "def estimate_energy(model, parameters, hamiltonian_jax, sigma):\n",
    "    E_loc = compute_local_energies(model, parameters, hamiltonian_jax, sigma)\n",
    "    \n",
    "    E_average = ...\n",
    "    E_variance = ...\n",
    "    E_error = ...\n",
    "    \n",
    "    # we return a netket Stats object that wraps all statistical information related to this mean value.\n",
    "    return nk.stats.Stats(mean=E_average, error_of_mean=E_error, variance=E_variance)"
   ]
  },
  {
   "cell_type": "markdown",
   "metadata": {
    "tags": []
   },
   "source": [
    ":::{dropdown} Show solution\n",
    "```python\n",
    "@partial(jax.jit, static_argnames='model')\n",
    "def estimate_energy(model, parameters, hamiltonian_jax, sigma):\n",
    "    E_loc = compute_local_energies(model, parameters, hamiltonian_jax, sigma)\n",
    "    \n",
    "    E_average = jnp.mean(E_loc)\n",
    "    E_variance = jnp.var(E_loc)\n",
    "    E_error = jnp.sqrt(E_variance / E_loc.size)\n",
    "    \n",
    "    # we return a netket Stats object that wraps all statistical information related to this mean value.\n",
    "    return nk.stats.Stats(mean=E_average, error_of_mean=E_error, variance=E_variance)\n",
    "```\n",
    ":::"
   ]
  },
  {
   "cell_type": "code",
   "execution_count": 120,
   "metadata": {
    "tags": []
   },
   "outputs": [
    {
     "name": "stdout",
     "output_type": "stream",
     "text": [
      "-16.00 ± 0.13 [σ²=31.31]\n"
     ]
    }
   ],
   "source": [
    "# this should run correctly\n",
    "isinstance(estimate_energy(model, parameters, hamiltonian_jax, samples), nk.stats.Stats)\n",
    "print(estimate_energy(model, parameters, hamiltonian_jax, samples))"
   ]
  },
  {
   "cell_type": "markdown",
   "metadata": {},
   "source": [
    "we can also check that by increasing the number of samples, we get a good prediction within the standard error of the 'full summation' calculations"
   ]
  },
  {
   "cell_type": "code",
   "execution_count": 121,
   "metadata": {
    "tags": []
   },
   "outputs": [
    {
     "name": "stdout",
     "output_type": "stream",
     "text": [
      "exact:  -15.999999999999408\n",
      "Estimate:  -15.979 ± 0.018 [σ²=31.965]\n"
     ]
    }
   ],
   "source": [
    "samples_many, sampler_state = sampler.sample(model, parameters, state=sampler_state, chain_length=5000)\n",
    "\n",
    "print(\"exact: \", compute_energy(model, parameters, hamiltonian_jax))\n",
    "print(\"Estimate: \", estimate_energy(model, parameters, hamiltonian_jax, samples_many))\n"
   ]
  },
  {
   "cell_type": "code",
   "execution_count": null,
   "metadata": {},
   "outputs": [],
   "source": []
  },
  {
   "cell_type": "markdown",
   "metadata": {
    "tags": []
   },
   "source": [
    "### 4.4 Sampling the gradient of the energy \n",
    "\n",
    "We have seen during the class that the gradient of the energy can be estimated according to the formula\n",
    "\n",
    "$$\n",
    "    \\nabla_k E = \\mathbb{E}_{\\sigma\\sim|\\psi(\\sigma)|^2} \\left[ (\\nabla_k \\log\\psi(\\sigma))^\\star \\left( E_\\text{loc}(\\sigma) - \\langle E \\rangle\\right)\\right] \\approx \\frac{1}{N_s}\\sum_i^{N_s} (\\nabla_k \\log\\psi(\\sigma_i))^\\star \\left( E_\\text{loc}(\\sigma_i) - \\langle E \\rangle\\right)\n",
    "$$\n",
    "\n",
    "Where $\\langle E \\rangle$ can be estimated as $\\langle E \\rangle \\approx \\frac{1}{N_s}\\sum_i E_\\text{loc}(\\sigma_i)$\n",
    "\n",
    "Now, for a second, think of $\\nabla_k \\log\\psi(\\sigma_i)$ as the _JACOBIAN_ of the function $\\log\\psi_\\sigma : \\mathbb{R}^{N_\\text{pars}} \\rightarrow \\mathbb{R}^{N_\\text{samples}}$, and think for a moment of $E_\\text{loc}(\\sigma_i)$ as a vector of size $\\mathbb{R}^{N_\\text{samples}}$"
   ]
  },
  {
   "cell_type": "code",
   "execution_count": 123,
   "metadata": {
    "tags": []
   },
   "outputs": [
    {
     "name": "stdout",
     "output_type": "stream",
     "text": [
      "N_samples is equal to:  (2000,)\n"
     ]
    }
   ],
   "source": [
    "# reshape samples in a vector of size (N_pars x N)\n",
    "sigma_vector = samples.reshape(-1, hi.size)\n",
    "\n",
    "# lets see that function logpsi_sigma\n",
    "logpsi_sigma_fun = lambda pars : model_jastrow.apply(parameters_jastrow, sigma_vector)\n",
    "\n",
    "# input to the function are only the parameters, output is a vector of size n samples\n",
    "print(\"N_samples is equal to: \", logpsi_sigma_fun(parameters_jastrow).shape)"
   ]
  },
  {
   "cell_type": "markdown",
   "metadata": {},
   "source": [
    "So we can compute the jacobian of this function!"
   ]
  },
  {
   "cell_type": "code",
   "execution_count": 124,
   "metadata": {
    "tags": []
   },
   "outputs": [
    {
     "name": "stdout",
     "output_type": "stream",
     "text": [
      "The parameters of jastrow have shape:\n",
      " {'params': {'J': (16, 16)}}\n",
      "The jacobian of jastrow have shape:\n",
      " {'params': {'J': (2000, 16, 16)}}\n"
     ]
    }
   ],
   "source": [
    "jacobian = jax.jacrev(logpsi_sigma_fun)(parameters_jastrow)\n",
    "\n",
    "#\n",
    "print(\"The parameters of jastrow have shape:\\n\" , jax.tree.map(lambda x: x.shape, parameters_jastrow))\n",
    "\n",
    "print(\"The jacobian of jastrow have shape:\\n\" , jax.tree.map(lambda x: x.shape, jacobian))"
   ]
  },
  {
   "cell_type": "markdown",
   "metadata": {},
   "source": [
    "Now implement a function that computes the jacobian-vector product in order to estimate the gradient of the energy. You can either do this vector-Jacobian-transpose product manually by using `jax.jacrev` and `jax.tree.map`, but you can also have a look at `jax.vjp` which does it automatically for you."
   ]
  },
  {
   "cell_type": "code",
   "execution_count": null,
   "metadata": {},
   "outputs": [],
   "source": [
    "## TODO\n",
    "\n",
    "# @partial(jax.jit, static_argnames='model')\n",
    "def estimate_energy_and_gradient(model, parameters, hamiltonian_jax, sigma):\n",
    "    # reshape the samples to a vector of samples with no extra batch dimensions\n",
    "    sigma = sigma.reshape(-1, sigma.shape[-1])\n",
    "    \n",
    "    E_loc = compute_local_energies(model, parameters, hamiltonian_jax, sigma)\n",
    "    \n",
    "    # comptue the gradient ...\n",
    "    # first define the function to be differentiated\n",
    "    logpsi_sigma_fun = lambda pars : model_jastrow.apply(parameters_jastrow, sigma_vector)\n",
    "    ...\n",
    "    # use jacrev with jax.tree.map, or even better, jax.vjp\n",
    "    E_grad = ...\n",
    "    \n",
    "    # compute the energy as well\n",
    "    E_average = ...\n",
    "    E_variance = ...\n",
    "    E_error = ...\n",
    "    E = nk.stats.Stats(mean=E_average, error_of_mean=E_error, variance=E_variance)\n",
    "    \n",
    "    return E, E_grad"
   ]
  },
  {
   "cell_type": "markdown",
   "metadata": {
    "tags": []
   },
   "source": [
    ":::{dropdown} Show solution\n",
    "```python\n",
    "@partial(jax.jit, static_argnames='model')\n",
    "def estimate_energy_and_gradient(model, parameters, hamiltonian_jax, sigma):\n",
    "    # reshape the samples to a vector of samples with no extra batch dimensions\n",
    "    sigma = sigma.reshape(-1, sigma.shape[-1])\n",
    "    \n",
    "    E_loc = compute_local_energies(model, parameters, hamiltonian_jax, sigma)\n",
    "    \n",
    "    # compute the energy as well\n",
    "    E_average = jnp.mean(E_loc)\n",
    "    E_variance = jnp.var(E_loc)\n",
    "    E_error = jnp.sqrt(E_variance/E_loc.size)\n",
    "    E = nk.stats.Stats(mean=E_average, error_of_mean=E_error, variance=E_variance)\n",
    "\n",
    "    # comptue the gradient ...\n",
    "    # first define the function to be differentiated\n",
    "    logpsi_sigma_fun = lambda pars : model.apply(pars, sigma)\n",
    "\n",
    "    # use jacrev with jax.tree.map, or even better, jax.vjp\n",
    "    _, vjpfun = jax.vjp(logpsi_sigma_fun, parameters)\n",
    "    E_grad = vjpfun((E_loc - E_average)/E_loc.size)\n",
    "\n",
    "    return E, E_grad[0]\n",
    "```\n",
    ":::"
   ]
  },
  {
   "cell_type": "markdown",
   "metadata": {},
   "source": [
    "If you are a fast person, Try to implement this function both usin `jax.jacrev` and `jax.vjp` and try to see which one is faster. You might need to benchmark it for different Neural Networks..."
   ]
  },
  {
   "cell_type": "code",
   "execution_count": null,
   "metadata": {},
   "outputs": [],
   "source": []
  },
  {
   "cell_type": "markdown",
   "metadata": {
    "tags": []
   },
   "source": [
    "### 4.5: Let's get down to business\n",
    "\n",
    "Now let's wrap everything up and let's use this code to compute the ground state with an SGD optimisation using the mean field and jastrow ansatz"
   ]
  },
  {
   "cell_type": "code",
   "execution_count": 128,
   "metadata": {
    "tags": []
   },
   "outputs": [
    {
     "name": "stderr",
     "output_type": "stream",
     "text": [
      "100%|█████████████████████████████████████████████████████████████████████████████████████████████████████████████████████████████████| 300/300 [00:02<00:00, 129.40it/s]\n"
     ]
    }
   ],
   "source": [
    "from tqdm import tqdm\n",
    "\n",
    "# settings \n",
    "model = MF()\n",
    "sampler = nk.sampler.MetropolisSampler(\n",
    "                        hi,                            # the hilbert space to be sampled\n",
    "                        nk.sampler.rules.LocalRule(),  # the transition rule\n",
    "                        n_chains = 20)\n",
    "n_iters = 300\n",
    "chain_length = 1000//sampler.n_chains\n",
    "\n",
    "# initialise\n",
    "parameters = model.init(jax.random.key(0), np.ones((hi.size, )))\n",
    "sampler_state = sampler.init_state(model, parameters, seed=1)\n",
    "\n",
    "# logging: you can (if you want) use netket loggers to avoid writing a lot of boilerplate...\n",
    "# they accumulate data you throw at them\n",
    "logger = nk.logging.RuntimeLog()\n",
    "\n",
    "for i in tqdm(range(n_iters)):\n",
    "    # sample\n",
    "    sampler_state = sampler.reset(model, parameters, state=sampler_state)\n",
    "    samples, sampler_state = sampler.sample(model, parameters, state=sampler_state, chain_length=chain_length)\n",
    "    \n",
    "    # compute energy and gradient\n",
    "    E, E_grad = estimate_energy_and_gradient(model, parameters, hamiltonian_jax, samples)\n",
    "    \n",
    "    # update parameters. Try using a learning rate of 0.01\n",
    "    # ... implement it!\n",
    "    \n",
    "    # log energy: the logger takes a step argument and a dictionary of variables to be logged\n",
    "    logger(step=i, item={'Energy' : E})"
   ]
  },
  {
   "cell_type": "markdown",
   "metadata": {
    "tags": []
   },
   "source": [
    ":::{dropdown} Show solution\n",
    "```python\n",
    "from tqdm import tqdm\n",
    "\n",
    "# settings \n",
    "model = Jastrow()\n",
    "sampler = nk.sampler.MetropolisSampler(\n",
    "                        hi,                            # the hilbert space to be sampled\n",
    "                        nk.sampler.rules.LocalRule(),  # the transition rule\n",
    "                        n_chains = 20)\n",
    "n_iters = 300\n",
    "chain_length = 1000//sampler.n_chains\n",
    "\n",
    "# initialise\n",
    "parameters = model.init(jax.random.key(0), np.ones((hi.size, )))\n",
    "sampler_state = sampler.init_state(model, parameters, seed=1)\n",
    "\n",
    "# logging: you can (if you want) use netket loggers to avoid writing a lot of boilerplate...\n",
    "# they accumulate data you throw at them\n",
    "logger = nk.logging.RuntimeLog()\n",
    "\n",
    "for i in tqdm(range(n_iters)):\n",
    "    # sample\n",
    "    sampler_state = sampler.reset(model, parameters, state=sampler_state)\n",
    "    samples, sampler_state = sampler.sample(model, parameters, state=sampler_state, chain_length=chain_length)\n",
    "    \n",
    "    # compute energy and gradient\n",
    "    E, E_grad = estimate_energy_and_gradient(model, parameters, hamiltonian_jax, samples)\n",
    "    \n",
    "    # update parameters. Try using a learning rate of 0.01\n",
    "    parameters = jax.tree.map(lambda x,y: x-0.005*y, parameters, E_grad)\n",
    "    \n",
    "    # log energy: the logger takes a step argument and a dictionary of variables to be logged\n",
    "    logger(step=i, item={'Energy':E})\n",
    "```\n",
    ":::"
   ]
  },
  {
   "cell_type": "code",
   "execution_count": 132,
   "metadata": {},
   "outputs": [
    {
     "data": {
      "text/plain": [
       "[<matplotlib.lines.Line2D at 0x2ca1fe8d0>]"
      ]
     },
     "execution_count": 132,
     "metadata": {},
     "output_type": "execute_result"
    },
    {
     "data": {
      "image/png": "[encoded data removed]",
      "text/plain": [
       "<Figure size 640x480 with 1 Axes>"
      ]
     },
     "metadata": {},
     "output_type": "display_data"
    }
   ],
   "source": [
    "# to plot the data, access it!\n",
    "plt.plot(logger.data['Energy']['iters'], logger.data['Energy']['Mean'])"
   ]
  },
  {
   "cell_type": "markdown",
   "metadata": {},
   "source": [
    "## 5 : Future things to try\n",
    "\n",
    "### 5.1 : Try to implement a FeedForward network\n",
    "\n",
    "Try to use flax to implement a simple Feed Forward Neural Network with 1 or 2 layers and becnhmark it. Look at the documentation and try using some `nn.Dense` layers together with some activation functions of your choice. Try going for something like a 2 layers Dense with `relu` activation function and a final pooling operation."
   ]
  },
  {
   "cell_type": "markdown",
   "metadata": {},
   "source": [
    "### 5.2: Try better optimisers\n",
    "\n",
    "There is a library, [optax](https://optax.readthedocs.io/en/latest/), that implements several optimisers. \n",
    "Try to use adam or other optimisers.\n",
    "The way you use them is as follows:"
   ]
  },
  {
   "cell_type": "code",
   "execution_count": null,
   "metadata": {
    "tags": []
   },
   "outputs": [],
   "source": [
    "import optax\n",
    "\n",
    "# define\n",
    "optimizer = optax.adam(learning_rate=0.01)\n",
    "\n",
    "# initialise\n",
    "parameters = model.init(...)\n",
    "optimizer_state = optimizer.init(parameters)\n",
    "\n",
    "for i in range(n_iters):\n",
    "    E, E_grad = estimate_energy_and_grad(..., parameters, ...)\n",
    "    \n",
    "    updates, optimizer_state = optimizer.update(E_grad, optimizer_state, parameters)\n",
    "    parameters = optax.apply_updates(parameters, updates)\n"
   ]
  },
  {
   "cell_type": "markdown",
   "metadata": {},
   "source": [
    "### 5.3: Sky's the limit\n",
    "\n",
    "What you've seen so far gives you the tools to quickly get started in running VMC calculations, without having to worry about sampling (which is a bit tricky to implement) and operators (which are very tricky to implement).\n",
    "\n",
    "You can use this as a starting point to implement stochastic reconfiguration, the dynamics, and much more!"
   ]
  },
  {
   "cell_type": "code",
   "execution_count": null,
   "metadata": {},
   "outputs": [],
   "source": []
  }
 ],
 "metadata": {
  "kernelspec": {
   "display_name": "Python (Netket development)",
   "language": "python",
   "name": "dev-netket"
  },
  "language_info": {
   "codemirror_mode": {
    "name": "ipython",
    "version": 3
   },
   "file_extension": ".py",
   "mimetype": "text/x-python",
   "name": "python",
   "nbconvert_exporter": "python",
   "pygments_lexer": "ipython3",
   "version": "3.11.2"
  }
 },
 "nbformat": 4,
 "nbformat_minor": 4
}
