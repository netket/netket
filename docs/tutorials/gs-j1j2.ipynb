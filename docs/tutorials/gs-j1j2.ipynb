{
 "cells": [
  {
   "cell_type": "markdown",
   "metadata": {},
   "source": [
    "# Ground-State: J1-J2 model\n",
    "\n",
    "In this tutorial we will use NetKet to obtain the ground state of the J1-J2 model in one-dimension with periodic boundary conditions, using a Neural Network variational wave-function. The Hamiltonian of the model is given by:\n",
    "\n",
    "$$ H = \\sum_{i=1}^{L} J_{1}\\vec{\\sigma}_{i} \\cdot \\vec{\\sigma}_{i+1} + J_{2} \\vec{\\sigma}_{i} \\cdot \\vec{\\sigma}_{i+2} $$\n",
    "\n",
    "where the sum is over sites of the 1-D chain. Here $\\vec{\\sigma}=(\\sigma^x,\\sigma^y,\\sigma^z)$ is the vector of Pauli matrices. \n",
    "\n",
    "We will also explore some useful functionalities provided by the package.\n",
    "\n",
    "## Objectives:\n",
    "    1. Defining custom Hamiltonians\n",
    "    2. Defining the machine (variational ansatz)\n",
    "    3. Variational Monte Carlo Optimisation\n",
    "    4. Measuring observables\n",
    "    5. Data Visualisation\n",
    "    6. Sanity Check: Exact Diagonalisation\n",
    "    \n",
    "Let's start."
   ]
  },
  {
   "cell_type": "code",
   "execution_count": 1,
   "metadata": {},
   "outputs": [],
   "source": [
    "# ensure we run on the CPU\n",
    "import os\n",
    "os.environ[\"JAX_PLATFORM_NAME\"] = \"cpu\"\n",
    "\n",
    "# Import netket library\n",
    "import netket as nk\n",
    "\n",
    "# Helper libraries\n",
    "import numpy as np\n",
    "import matplotlib.pyplot as plt"
   ]
  },
  {
   "cell_type": "markdown",
   "metadata": {},
   "source": [
    "## 1) Defining a Custom Hamiltonian\n",
    "\n",
    "The first thing to do is to define the graph (lattice) on which to specify the Hamiltonian. Here we would like to build a one-dimensional graph with both nearest and next nearest neighbour bonds. The graph is created in the ``nk.graph.CustomGraph`` class. To initialise the class we simply provide a list of edges in the ``[[site_i, site_j, edge_color], ...]``"
   ]
  },
  {
   "cell_type": "code",
   "execution_count": 2,
   "metadata": {},
   "outputs": [],
   "source": [
    "#Couplings J1 and J2\n",
    "J = [1, 0.2]\n",
    "L = 14"
   ]
  },
  {
   "cell_type": "code",
   "execution_count": 3,
   "metadata": {},
   "outputs": [],
   "source": [
    "# Define custom graph\n",
    "edge_colors = []\n",
    "for i in range(L):\n",
    "    edge_colors.append([i, (i+1)%L, 1])\n",
    "    edge_colors.append([i, (i+2)%L, 2])\n",
    "\n",
    "# Define the netket graph object\n",
    "g = nk.graph.Graph(edges=edge_colors)"
   ]
  },
  {
   "cell_type": "markdown",
   "metadata": {},
   "source": [
    "We specify a different ``color`` for each type of bond so as to define a different operator for each of them.\n",
    "Next, we define the relevant bond operators."
   ]
  },
  {
   "cell_type": "code",
   "execution_count": 4,
   "metadata": {},
   "outputs": [],
   "source": [
    "#Sigma^z*Sigma^z interactions\n",
    "sigmaz = [[1, 0], [0, -1]]\n",
    "mszsz = (np.kron(sigmaz, sigmaz))\n",
    "\n",
    "#Exchange interactions\n",
    "exchange = np.asarray([[0, 0, 0, 0], [0, 0, 2, 0], [0, 2, 0, 0], [0, 0, 0, 0]])\n",
    "\n",
    "bond_operator = [\n",
    "    (J[0] * mszsz).tolist(),\n",
    "    (J[1] * mszsz).tolist(),\n",
    "    (-J[0] * exchange).tolist(),  \n",
    "    (J[1] * exchange).tolist(),\n",
    "]\n",
    "\n",
    "bond_color = [1, 2, 1, 2]"
   ]
  },
  {
   "cell_type": "markdown",
   "metadata": {},
   "source": [
    "**Side Remark**: Notice the minus sign in front of the exchange. This is simply a basis rotation corresponding to the Marshall sign rule (as an exercise, change the sign of this exchange and observe that the exact diagonalization results in Section 6 do not change). The goal of this basis rotation is to speed up the convergence of the Monte Carlo simulations of the wave-function (by providing a good variational sign structure to start with), but in principle the converged results should be identical in both bases. Note further that this sign change is useful at low frustration (such as here $J_2=0.2$), but may actually be not optimal at stronger frustration. As a bonus exercise, repeat the calculation with $J_2=0.8$, and see which basis (*i.e.* which sign in front of the exchange) leads to faster convergence."
   ]
  },
  {
   "cell_type": "markdown",
   "metadata": {},
   "source": [
    "Before defining the Hamiltonian, we also need to specify the Hilbert space. For our case, this would be the chain spin-half degrees of freedom."
   ]
  },
  {
   "cell_type": "code",
   "execution_count": 5,
   "metadata": {},
   "outputs": [],
   "source": [
    "# Spin based Hilbert Space\n",
    "hi = nk.hilbert.Spin(s=0.5, total_sz=0.0, N=g.n_nodes)"
   ]
  },
  {
   "cell_type": "markdown",
   "metadata": {},
   "source": [
    "Note that we impose here the total magnetization to be zero (it turns out to be the correct magnetization for the ground-state). As an exercise, check that the energy of the lowest state in other magnetization sectors is larger.\n",
    "\n",
    "Next, we define the custom graph Hamiltonian using the ``nk.operator.GraphOperator`` class, by providing the hilbert space ``hi``, the bond operators ``bondops=bond_operator`` and the corresponding bond color ``bondops_colors=bond_color``. The information about the graph (bonds and bond colors) are contained within the ``nk.hilbert.Spin`` object ``hi``."
   ]
  },
  {
   "cell_type": "code",
   "execution_count": 6,
   "metadata": {},
   "outputs": [],
   "source": [
    "# Custom Hamiltonian operator\n",
    "op = nk.operator.GraphOperator(hi, graph=g, bond_ops=bond_operator, bond_ops_colors=bond_color)"
   ]
  },
  {
   "cell_type": "markdown",
   "metadata": {},
   "source": [
    "## 2) Defining the Machine\n",
    "\n",
    "For this tutorial, we shall use the most common type of neural network: fully connected feedforward neural network ``nk.machine.FFNN``. Other types of neural networks available will be discussed in other tutorials."
   ]
  },
  {
   "cell_type": "code",
   "execution_count": 7,
   "metadata": {},
   "outputs": [],
   "source": [
    "import netket.nn as nknn\n",
    "import flax.linen as nn\n",
    "\n",
    "import jax.numpy as jnp\n",
    "\n",
    "class FFNN(nn.Module):\n",
    "    @nn.compact\n",
    "    def __call__(self, x):\n",
    "        x = nn.Dense(features=2*x.shape[-1], \n",
    "                     use_bias=True, \n",
    "                     param_dtype=np.complex128, \n",
    "                     kernel_init=nn.initializers.normal(stddev=0.01), \n",
    "                     bias_init=nn.initializers.normal(stddev=0.01)\n",
    "                    )(x)\n",
    "        x = nknn.log_cosh(x)\n",
    "        x = jnp.sum(x, axis=-1)\n",
    "        return x\n",
    "        \n",
    "model = FFNN()"
   ]
  },
  {
   "cell_type": "markdown",
   "metadata": {},
   "source": [
    "## 3) Variational Monte Carlo Optimisation\n",
    "\n",
    "We have now set up our model (Hamiltonian, Graph, Hilbert Space) and can proceed to optimise the variational ansatz we chose, namely the ``ffnn`` machine.\n",
    "\n",
    "To setup the variational Monte Carlo optimisation tool, we have to provide a sampler ``nk.sampler`` and an optimizer ``nk.optimizer``."
   ]
  },
  {
   "cell_type": "code",
   "execution_count": 8,
   "metadata": {},
   "outputs": [],
   "source": [
    "# We shall use an exchange Sampler which preserves the global magnetization (as this is a conserved quantity in the model)\n",
    "sa = nk.sampler.MetropolisExchange(hilbert=hi, graph=g, d_max = 2)\n",
    "\n",
    "# Construct the variational state\n",
    "vs = nk.vqs.MCState(sa, model, n_samples=1008)\n",
    "\n",
    "# We choose a basic, albeit important, Optimizer: the Stochastic Gradient Descent\n",
    "opt = nk.optimizer.Sgd(learning_rate=0.01)\n",
    "\n",
    "# Stochastic Reconfiguration\n",
    "sr = nk.optimizer.SR(diag_shift=0.01)\n",
    "\n",
    "# We can then specify a Variational Monte Carlo object, using the Hamiltonian, sampler and optimizers chosen.\n",
    "# Note that we also specify the method to learn the parameters of the wave-function: here we choose the efficient\n",
    "# Stochastic reconfiguration (Sr), here in an iterative setup\n",
    "gs = nk.VMC(hamiltonian=op, optimizer=opt, variational_state=vs, preconditioner=sr)"
   ]
  },
  {
   "cell_type": "markdown",
   "metadata": {},
   "source": [
    "## 4) Measuring Observables\n",
    "\n",
    "Before running the optimization, it can be helpful to add some observables to keep track off during the optimization. For our purpose, let us measure the antiferromagnetic structure factor, defined as:\n",
    "\n",
    "$$ \\frac{1}{L} \\sum_{ij} \\langle \\hat{\\sigma}_{i}^z \\cdot \\hat{\\sigma}_{j}^z\\rangle e^{i\\pi(i-j)}$$."
   ]
  },
  {
   "cell_type": "code",
   "execution_count": 9,
   "metadata": {},
   "outputs": [],
   "source": [
    "# We need to specify the local operators as a matrix acting on a local Hilbert space \n",
    "sf = []\n",
    "sites = []\n",
    "structure_factor = nk.operator.LocalOperator(hi, dtype=complex)\n",
    "for i in range(0, L):\n",
    "    for j in range(0, L):\n",
    "        structure_factor += (nk.operator.spin.sigmaz(hi, i)*nk.operator.spin.sigmaz(hi, j))*((-1)**(i-j))/L\n"
   ]
  },
  {
   "cell_type": "markdown",
   "metadata": {},
   "source": [
    "Once again, notice that we had to multiply the exchange operator (matrix) by some factor. This is to account for the Marshall basis rotation we made in our model."
   ]
  },
  {
   "cell_type": "markdown",
   "metadata": {},
   "source": [
    "We can now optimize our variational ansatz. The optimization data for each iteration will be stored in a log file, which contains the following information:\n",
    "1. Mean, variance and uncertainty in the Energy $ \\langle \\hat{H} \\rangle $\n",
    "2. Mean, variance and uncertainty in the Energy Variance, $ \\langle\\hat{H}^{2}\\rangle-\\langle \\hat{H}\\rangle^{2}$.\n",
    "3. Acceptance rates of the sampler\n",
    "4. Mean, variance and uncertainty of observables (if specified)\n",
    "\n",
    "Now let's learn the ground-state!"
   ]
  },
  {
   "cell_type": "code",
   "execution_count": 10,
   "metadata": {},
   "outputs": [
    {
     "name": "stderr",
     "output_type": "stream",
     "text": [
      "100%|██████████| 600/600 [01:40<00:00,  5.99it/s, Energy=-23.0641-0.0055j ± 0.0045 [σ²=0.0207, R̂=0.9965]]\n"
     ]
    },
    {
     "data": {
      "text/plain": [
       "(JsonLog('test', mode=write, autoflush_cost=0.005)\n",
       "   Runtime cost:\n",
       "   \tLog:    0.3097798824310303\n",
       "   \tParams: 0.0022630691528320312,)"
      ]
     },
     "execution_count": 10,
     "metadata": {},
     "output_type": "execute_result"
    }
   ],
   "source": [
    "# Run the optimization protocol\n",
    "gs.run(out='test', n_iter=600, obs={'Structure Factor': structure_factor})"
   ]
  },
  {
   "cell_type": "markdown",
   "metadata": {},
   "source": [
    "## 5) Data Visualisation\n",
    "\n",
    "Now that we have optimized our machine to find the ground state of the $J_1-J_2$ model, let's look at what we have.\n",
    "The relevant data are stored in the \".log\" file while the optimized parameters are in the \".wf\" file. The files are all in json format.\n",
    "\n",
    "We shall extract the energy as well as specified observables (antiferromagnetic structure factor in our case) from the \".log\" file."
   ]
  },
  {
   "cell_type": "code",
   "execution_count": 11,
   "metadata": {},
   "outputs": [],
   "source": [
    "# Load the data from the .log file\n",
    "import json\n",
    "\n",
    "data=json.load(open(\"test.log\"))\n",
    "\n",
    "iters = data['Energy']['iters']\n",
    "energy=data['Energy']['Mean']['real']\n",
    "sf=data['Structure Factor']['Mean']['real']"
   ]
  },
  {
   "cell_type": "code",
   "execution_count": null,
   "metadata": {},
   "outputs": [],
   "source": []
  },
  {
   "cell_type": "code",
   "execution_count": 12,
   "metadata": {},
   "outputs": [
    {
     "data": {
      "image/png": "[encoded data removed]",
      "text/plain": [
       "<Figure size 432x288 with 2 Axes>"
      ]
     },
     "metadata": {
      "needs_background": "light"
     },
     "output_type": "display_data"
    }
   ],
   "source": [
    "fig, ax1 = plt.subplots()\n",
    "ax1.plot(iters, energy, color='blue', label='Energy')\n",
    "ax1.set_ylabel('Energy')\n",
    "ax1.set_xlabel('Iteration')\n",
    "ax2 = ax1.twinx() \n",
    "ax2.plot(iters, np.array(sf), color='green', label='Structure Factor')\n",
    "ax2.set_ylabel('Structure Factor')\n",
    "ax1.legend(loc=2)\n",
    "ax2.legend(loc=1)\n",
    "plt.show()"
   ]
  },
  {
   "cell_type": "markdown",
   "metadata": {},
   "source": [
    "Let's also compute the average of those quantities (energy and neel order) over the last 50 iterations where the optimization seems to have converged."
   ]
  },
  {
   "cell_type": "code",
   "execution_count": 13,
   "metadata": {},
   "outputs": [
    {
     "name": "stdout",
     "output_type": "stream",
     "text": [
      "Structure factor = 3.797(0.039)\n",
      "Energy = -23.062(0.001)\n"
     ]
    }
   ],
   "source": [
    "print(r\"Structure factor = {0:.3f}({1:.3f})\".format(np.mean(sf[-50:]),\n",
    "                                              np.std(np.array(sf[-50:]))/np.sqrt(50)))\n",
    "print(r\"Energy = {0:.3f}({1:.3f})\".format(np.mean(energy[-50:]), np.std(energy[-50:])/(np.sqrt(50))))"
   ]
  },
  {
   "cell_type": "markdown",
   "metadata": {},
   "source": [
    "## 6) Sanity Check: Exact Diagonalisation\n",
    "\n",
    "Now that we have obtained some results using VMC, it is a good time to check the quality of our results (at least for small system sizes). For this purpose, Netket provides exact diagonalisation tools. "
   ]
  },
  {
   "cell_type": "code",
   "execution_count": 14,
   "metadata": {},
   "outputs": [],
   "source": [
    "E_gs, ket_gs = nk.exact.lanczos_ed(op, compute_eigenvectors=True)\n",
    "structure_factor_gs = (ket_gs.T.conj()@structure_factor.to_linear_operator()@ket_gs).real[0,0]"
   ]
  },
  {
   "cell_type": "markdown",
   "metadata": {},
   "source": [
    "Here we have specified that we want the corresponding eigenvector (in order to compute observables). "
   ]
  },
  {
   "cell_type": "code",
   "execution_count": 15,
   "metadata": {},
   "outputs": [
    {
     "name": "stdout",
     "output_type": "stream",
     "text": [
      "Exact Ground-state Structure Factor: 3.803\n",
      "Exact ground state energy = -23.064\n"
     ]
    }
   ],
   "source": [
    "print(\"Exact Ground-state Structure Factor: {0:.3f}\".format(structure_factor_gs))\n",
    "print(\"Exact ground state energy = {0:.3f}\".format(E_gs[0]))"
   ]
  },
  {
   "cell_type": "markdown",
   "metadata": {},
   "source": [
    "So we see that the both energy and the structure factor we obtained is in agreement with the value obtained via exact diagonalisation."
   ]
  }
 ],
 "metadata": {
  "kernelspec": {
   "display_name": "Python (Netket development)",
   "language": "python",
   "name": "dev-netket"
  },
  "language_info": {
   "codemirror_mode": {
    "name": "ipython",
    "version": 3
   },
   "file_extension": ".py",
   "mimetype": "text/x-python",
   "name": "python",
   "nbconvert_exporter": "python",
   "pygments_lexer": "ipython3",
   "version": "3.8.12"
  }
 },
 "nbformat": 4,
 "nbformat_minor": 4
}
