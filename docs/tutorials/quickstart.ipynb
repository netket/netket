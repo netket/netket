{
 "cells": [
  {
   "cell_type": "code",
   "execution_count": null,
   "id": "afb804b0-34c3-441f-bc12-9fdffe9e811d",
   "metadata": {},
   "outputs": [],
   "source": [
    "# Quickstart\n",
    "\n",
    "This shows how to quickly get started with NetKet. \n",
    "It"
   ]
  }
 ],
 "metadata": {
  "kernelspec": {
   "display_name": "Python (Netket development)",
   "language": "python",
   "name": "dev-netket"
  },
  "language_info": {
   "codemirror_mode": {
    "name": "ipython",
    "version": 3
   },
   "file_extension": ".py",
   "mimetype": "text/x-python",
   "name": "python",
   "nbconvert_exporter": "python",
   "pygments_lexer": "ipython3",
   "version": "3.8.12"
  }
 },
 "nbformat": 4,
 "nbformat_minor": 5
}
