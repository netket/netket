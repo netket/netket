{
 "cells": [
  {
   "cell_type": "markdown",
   "id": "bcc1a161",
   "metadata": {},
   "source": [
    "# Ground-State: Bosons in a 3D Harmonic trap\n",
    "\n",
    "Gabriel Pescia (EPFL-CQSL)\n",
    "\n",
    "13 September, 2023"
   ]
  },
  {
   "cell_type": "markdown",
   "id": "ae721781-2989-46c5-a92b-ca528b145e6c",
   "metadata": {},
   "source": [
    "In this Tutorial we will explore the capabilities of NetKet to study the ground-state of bosonic many-body quantum systems in continuous space. As a first step we will consider an easy problem of non-interacting harmonic oscillators in free, three dimensional space, to introduce and explain the moving parts needed to perform a VMC optimization. Subsequently a more challenging example of interacting bosons in one dimensions with periodic boundary conditions will be studied. \n",
    "\n",
    "Specifically, we will study the following two Hamiltonians: \n",
    "\n",
    "$$ \n",
    "\n",
    "\\mathcal{H}= -\\frac{\\hbar^2}{2m}\\sum_i \\nabla_{\\mathbf{x}_i}^2 + \\frac{1}{2} m \\omega^2 \\sum_i |\\mathbf{x}_i|^2\n",
    "\n",
    "$$\n",
    "\n",
    "and \n",
    "\n",
    "$$ \n",
    "\n",
    "\\mathcal{H}= -\\frac{\\hbar^2}{2m}\\sum_i \\nabla_{\\mathbf{x}_i}^2 + \\epsilon \\sum_{i<j} \\exp\\left[-\\frac{1}{2}|\\mathbf{r}_{ij}|^2\\right]\n",
    "\n",
    "$$\n",
    "\n",
    ",where the first term represents the kinetic energy contribution of particles of mass $m$, and the second term is the potential (interaction) energy ( $ \\mathbf{r}_{ij} = \\mathbf{x}_i-\\mathbf{x}_j $ ). In the following we set $m = \\omega = \\hbar = \\frac{\\epsilon}{2} =1$."
   ]
  },
  {
   "cell_type": "markdown",
   "id": "ee2e7463-5f8b-416e-9383-6f95bd3c4098",
   "metadata": {
    "tags": []
   },
   "source": [
    ":::{note}\n",
    "If you are executing this notebook on **Colab**, you will need to install NetKet. \n",
    "You can do so by uncommenting and running the following cell.\n",
    "\n",
    "Keep in mind that this notebook was designed for NetKet version `3.9.1`, which requires Python >=3.8. If you do not have access to a recent version of Python we strongly recomend to run this notebook on google Colab.\n",
    ":::"
   ]
  },
  {
   "cell_type": "code",
   "execution_count": 3,
   "id": "43e97750",
   "metadata": {
    "tags": []
   },
   "outputs": [],
   "source": [
    "# %pip install --upgrade netket>=3.9.1"
   ]
  },
  {
   "cell_type": "markdown",
   "id": "3fb82509-cbdf-4e50-bf52-1c66afbc9fb5",
   "metadata": {},
   "source": [
    "Please verify that you are running on the correct version of NetKet. If the installation installed an older version of NetKet, it might be because your Python version is too old. \n",
    "In that case, you will need to upgrade python or use Colab.\n",
    "\n",
    "It might also be that in the future NetKet changes. This notebook was authored for the following version of NetKet:"
   ]
  },
  {
   "cell_type": "code",
   "execution_count": 2,
   "id": "5a4c83c9",
   "metadata": {
    "tags": []
   },
   "outputs": [
    {
     "name": "stdout",
     "output_type": "stream",
     "text": [
      "Python version (requires >=3.9) 3.11.2\n",
      "NetKet version (requires >=3.9.1) 3.9.3.dev19+g5b6e1f0e7\n"
     ]
    }
   ],
   "source": [
    "import platform\n",
    "import netket as nk\n",
    "\n",
    "print(\"Python version (requires >=3.9)\", platform.python_version())\n",
    "print(\"NetKet version (requires >=3.9.1)\", nk.__version__)"
   ]
  },
  {
   "cell_type": "markdown",
   "id": "d8b7effe",
   "metadata": {},
   "source": [
    "## 1. Defining The Hilbert Space and Sampler\n",
    "\n",
    "The first ingredient in defining our problem in NetKet, consists of defining the Hilbert Space to study. \n",
    "For continuous space systems, the Hilbert space takes information about the number of particles, the size of the system and the type of boundary conditions: open or periodic. The dimensionality of space is inferred from the size of the system.\n",
    "The species of particles (bosonic or fermionic) is not relevant for the Hilbert space but only in defining the variational Ansatz (symmetric or antisymmetric).\n",
    "In the following the Hilbert space for $N=10$ particles in open (infinite) space is defined."
   ]
  },
  {
   "cell_type": "code",
   "execution_count": 4,
   "id": "65e5273d",
   "metadata": {
    "tags": []
   },
   "outputs": [],
   "source": [
    "import jax.numpy as jnp\n",
    "N = 10\n",
    "\n",
    "# 10 particles in 3D space without periodic boundary conditions. \n",
    "# The length of the L-tuple indicates the spatial dimension of space.\n",
    "hi = nk.hilbert.Particle(N=N, L=(jnp.inf, jnp.inf, jnp.inf), pbc=False)\n",
    "\n",
    "# You can also use the shorter notation to build this kind of setups\n",
    "hi = nk.hilbert.Particle(N=N, D=3)"
   ]
  },
  {
   "cell_type": "markdown",
   "id": "fa84f3e3-5a80-4d9e-91d0-6b13e3924839",
   "metadata": {},
   "source": [
    "We can now generate random configurations in the Hilbert space, we just defined. For the above specifications the random state will consists of a vector of $N*d = 10*3$ numbers ($d$ number of spatial dimensions), representing the 10 3D positions of the particles under consideration."
   ]
  },
  {
   "cell_type": "code",
   "execution_count": 9,
   "id": "4b2bf39c-ae7f-4cb0-b141-093c448138e5",
   "metadata": {
    "tags": []
   },
   "outputs": [
    {
     "data": {
      "text/plain": [
       "Array([[-0.28371066,  0.9368162 , -1.0050073 ],\n",
       "       [ 1.4165013 ,  1.0543301 ,  0.9108127 ],\n",
       "       [-0.42656708,  0.986188  , -0.5575324 ],\n",
       "       [ 0.01532502, -2.078568  ,  0.5548371 ],\n",
       "       [ 0.91423655,  0.5744596 ,  0.7227863 ],\n",
       "       [ 0.12106175, -0.3237354 ,  1.6234998 ],\n",
       "       [ 0.24500391, -1.3809781 , -0.6111237 ],\n",
       "       [ 0.1403725 ,  0.84100425, -1.0943578 ],\n",
       "       [-1.077502  , -1.1396457 , -0.593338  ],\n",
       "       [-0.15576515, -0.38321444, -1.1144515 ]], dtype=float32)"
      ]
     },
     "execution_count": 9,
     "metadata": {},
     "output_type": "execute_result"
    }
   ],
   "source": [
    "import jax\n",
    "states = hi.random_state(jax.random.key(0), 1)\n",
    "\n",
    "# You can always reshape those configurations to NxD matrix\n",
    "states.reshape(N, 3)"
   ]
  },
  {
   "cell_type": "markdown",
   "id": "67bdd81a-b602-47be-a584-1592c8b4c7db",
   "metadata": {},
   "source": [
    "Of course we are not particularily interested in random states of our Hilbert space, but we rather want to be able to sample from a probability distribution, defined in the Hilbert space. To do this, NetKet provides the so-called Metropolis-Hasting sampler. This sampler uses an initial state in the Hilbert space (e.g. a random state) and produces a new state according to a transtition rule. The new state is accepted (e.g. becomes the initial state for another update according to the transition rule) if its probability is high enough (the probability of the state is determined by the variational Ansatz, see later). While you can write your own transition rule, NetKet already implements a common transition rule, that often is sufficient to run a VMC optimization.\n",
    "The transition rule is given by adding normally distributed noise to the initial state:\n",
    "\n",
    "$$\n",
    "\n",
    "\\mathbf{X} = (\\mathbf{x}_1,...,\\mathbf{x}_N) \\mapsto \\mathbf{X} + \\mathbf{\\Delta} = (\\mathbf{x}_1 + \\mathbf{\\delta}_1,...,\\mathbf{x}_N +\\mathbf{\\delta}_N), \n",
    "\n",
    "$$\n",
    "\n",
    "where $ \\mathbf{\\delta}_i \\sim \\mathcal{N}(0,\\sigma^2) $ and $ \\sigma $ is chosen by the user, dependent on the system under consideration.\n",
    "To decorrelate samples, the sampler provides functionality to insert more substeps of the above rule (e.g. add Gaussian noise multiple times). You can also specify how many parallel chains of the above rule you want to run. In the following, we initialize the sampler, with $ \\sigma=0.1 $, 16 parallel chains, with 32 substeps of the transition rule."
   ]
  },
  {
   "cell_type": "code",
   "execution_count": 23,
   "id": "46cbd4f6-fd75-4886-a5e5-833a2479e9c3",
   "metadata": {
    "tags": []
   },
   "outputs": [],
   "source": [
    "sa = nk.sampler.MetropolisGaussian(hi, sigma=0.1, n_chains=16, sweep_size=32)"
   ]
  },
  {
   "cell_type": "markdown",
   "id": "6ec6a212-501a-46a0-8308-75261b191735",
   "metadata": {},
   "source": [
    "## 2. Defining The Hamiltonian\n",
    "\n",
    "Now that the Hilbert space is defined, we also have to specify the Hamiltonian the particles are subject to. As written above we will start with a simple example of non-interacting particles, confined by a harmonic potential e.g. a collection of harmonic oscillators. \n",
    "A Hamiltonian in continuous space usually consists of two parts: kinetic and potential energy. \n",
    "The form of the kinetic energy is always the same and only depends on the mass of the particles. \n",
    "NetKet provides a full implementation of the the kinetic energy, which is simply the trace of the (weighted) Hessian taken with respect to all the input variables of the variational state.\n",
    "\n",
    "$$\n",
    "    E_{kin} = \\sum_{i=1}^N \\frac{1}{2m_i}\\frac{\\partial}{\\partial \\mathbf{x}_i} \\cdot \\frac{\\partial}{\\partial \\mathbf{x}_i} = \\sum_{i=1}^N \\sum_{j=1}^D \\frac{1}{2m_i}\\frac{\\partial^2}{\\partial x_{ij}^2}\n",
    "$$\n",
    "\n",
    "In the following we initialize the kinetic energy operator for particles of masses $ m=1 $ (one could also provide a tuple of different masses for each particle).\n"
   ]
  },
  {
   "cell_type": "code",
   "execution_count": 24,
   "id": "af038a91-76dd-401b-b1af-4ada588de369",
   "metadata": {
    "tags": []
   },
   "outputs": [],
   "source": [
    "ekin = nk.operator.KineticEnergy(hi, mass=1.0)"
   ]
  },
  {
   "cell_type": "markdown",
   "id": "59025d8c-dede-496f-b2f0-6ad63966be1d",
   "metadata": {},
   "source": [
    "The potential energy part changes when changing from one system to another and therefore needs to be implemented from scratch. In NetKet this amounts to writing a function that takes a single sample $ \\mathbf{X} $ and outputs a single number representing the potential energy of the given configuration. For a harmonic confinement we have: \n",
    "\n",
    "$$\n",
    "\n",
    "\\mathbf{X} \\mapsto \\frac{1}{2}\\sum_i |\\mathbf{x}_i|^2\n",
    "\n",
    "$$\n",
    "\n",
    "or in code:"
   ]
  },
  {
   "cell_type": "code",
   "execution_count": 25,
   "id": "fca27abf-6920-4ec6-b014-30d9363b8215",
   "metadata": {
    "tags": []
   },
   "outputs": [],
   "source": [
    "def v(x):\n",
    "    return 0.5 * jnp.linalg.norm(x) ** 2"
   ]
  },
  {
   "cell_type": "markdown",
   "id": "0ea6a83f-6766-4449-8462-6ec218764aaf",
   "metadata": {},
   "source": [
    "To use this function as an operator, NetKet provides a potential energy operator:"
   ]
  },
  {
   "cell_type": "code",
   "execution_count": 26,
   "id": "46782f67-cde8-448c-bafe-f59c4d15f784",
   "metadata": {
    "tags": []
   },
   "outputs": [],
   "source": [
    "pot = nk.operator.PotentialEnergy(hi, v)"
   ]
  },
  {
   "cell_type": "markdown",
   "id": "1d3eedb3-40f3-4620-b8fa-fc8884d2750f",
   "metadata": {},
   "source": [
    "All left to do to define the complete Hamiltonian, is combine the kinetic and potential energy operators into a single operator object:"
   ]
  },
  {
   "cell_type": "code",
   "execution_count": 27,
   "id": "59723a64-37d4-40a5-9c0e-71ccbd969e7e",
   "metadata": {
    "tags": []
   },
   "outputs": [],
   "source": [
    "ha = ekin + pot"
   ]
  },
  {
   "cell_type": "markdown",
   "id": "8e51cc79",
   "metadata": {},
   "source": [
    "## 3. Exact Ansatz\n",
    "\n",
    "The most important thing for every VMC simulation is the variational Ansatz to the problem. If the Ansatz is capable of representing the true ground-state, the VMC results will be significantly better compared to a poorly chosen Ansatz that cannot represent the ground-state. \n",
    "For the case of non-interacting harmonic oscillators we know exactly what the many-body ground-state looks like:\n",
    "\n",
    "$$\n",
    "\n",
    "\\psi(\\mathbf{X}) = \\prod_i \\exp\\left[-\\frac{1}{2} |\\mathbf{x}_i|^2\\right].\n",
    "\n",
    "$$\n",
    "\n",
    "with associated probability distribution $P(\\mathbf{X}) = \\prod_i \\exp\\left[-|\\mathbf{x}_i|^2\\right]$.\n",
    "To provide some first experience with NetKet in continuous space, we first choose a variational parameterization that can exactly represent the above state:\n",
    "\n",
    "$$\n",
    "\n",
    "\\psi(\\mathbf{X}) = \\exp\\left[-\\frac{1}{2} \\mathbf{X}^T\\Sigma^{-1}\\mathbf{X}\\right].\n",
    "\n",
    "$$\n",
    "\n",
    "which is the ground-state for $ \\Sigma^{-1} = \\mathbb{I} $.\n",
    "\n",
    "The Model can be defined using one of the several *functional* jax frameworks such as Jax/Stax, Flax or Haiku. \n",
    "NetKet includes several pre-built models and layers built with [Flax](https://github.com/google/flax), including the above multivariate Gaussian Ansatz. For completeness the model definition is copied below (to make sure that $ \\Sigma^{-1} $ is a proper covariance matrix (positive definite), we parameterize it as $ \\Sigma^{-1} = T T^T $):"
   ]
  },
  {
   "cell_type": "code",
   "execution_count": 28,
   "id": "967e1611",
   "metadata": {
    "tags": []
   },
   "outputs": [],
   "source": [
    "import flax.linen as nn\n",
    "import jax.numpy as jnp\n",
    "\n",
    "from flax.linen.dtypes import promote_dtype\n",
    "from flax.linen.initializers import normal\n",
    "\n",
    "from netket.utils.types import DType, Array, NNInitFunc\n",
    "\n",
    "class Gaussian(nn.Module):\n",
    "    r\"\"\"\n",
    "    Multivariate Gaussian function with mean 0 and parametrised covariance matrix\n",
    "    :math:`\\Sigma_{ij}`.\n",
    "\n",
    "    The wavefunction is given by the formula: :math:`\\Psi(x) = \\exp(\\sum_{ij} x_i \\Sigma_{ij} x_j)`.\n",
    "    The (positive definite) :math:`\\Sigma_{ij} = AA^T` matrix is stored as\n",
    "    non-positive definite matrix A.\n",
    "    \"\"\"\n",
    "\n",
    "    param_dtype: DType = jnp.float64\n",
    "    \"\"\"The dtype of the weights.\"\"\"\n",
    "    kernel_init: NNInitFunc = normal(stddev=1.0)\n",
    "    \"\"\"Initializer for the weights.\"\"\"\n",
    "\n",
    "    @nn.compact\n",
    "    def __call__(self, x_in: Array):\n",
    "        nv = x_in.shape[-1]\n",
    "\n",
    "        kernel = self.param(\"kernel\", self.kernel_init, (nv, nv), self.param_dtype)\n",
    "        kernel = jnp.dot(kernel.T, kernel)\n",
    "\n",
    "        kernel, x_in = promote_dtype(kernel, x_in, dtype=None)\n",
    "        y = -0.5 * jnp.einsum(\"...i,ij,...j\", x_in, kernel, x_in)\n",
    "\n",
    "        return y"
   ]
  },
  {
   "cell_type": "markdown",
   "id": "c1ccb969-487e-43e6-ac87-50cde68c68e1",
   "metadata": {},
   "source": [
    "The model above gives instructions on how to initialize the variational parameters and evaluate the model. To use it in the context of the VMC optimization, NetKet provides the Monte-Carlo-sampled Variational State `netket.vqs.MCState`, which requires a sampler and a model from which to sample from. We also have to provide the number of samples from which expectation values of operators are computed, at each iteration of the VMC optimization.\n",
    "In the following we construct the variational state from the multivariate Gaussian Ansatz above, using the Gaussian sampler to sample from it and we choose a total of 10000 samples per iteration."
   ]
  },
  {
   "cell_type": "code",
   "execution_count": 29,
   "id": "c2cb0ac3-bc4c-4743-adec-03bb4e2d7c55",
   "metadata": {
    "tags": []
   },
   "outputs": [],
   "source": [
    "# Create an instance of the model. \n",
    "# Notice that this does not create the parameters.\n",
    "Gauss = Gaussian()\n",
    "\n",
    "# Construct the variational state using the model and the sampler above.\n",
    "# n_samples specifies how many samples should be used to compute expectation\n",
    "# values.\n",
    "vstate = nk.vqs.MCState(sa, Gauss, n_samples=10**4, n_discard_per_chain=100)"
   ]
  },
  {
   "cell_type": "markdown",
   "id": "75f68957-2ea1-4405-b742-7ae5eb009c35",
   "metadata": {},
   "source": [
    "You can play around with the variational state: for example, you can compute expectation values yourself or inspect it's parameters"
   ]
  },
  {
   "cell_type": "code",
   "execution_count": 30,
   "id": "578fae25-6b39-41c1-a25e-51de791b7aa3",
   "metadata": {
    "tags": []
   },
   "outputs": [
    {
     "data": {
      "text/plain": [
       "<matplotlib.colorbar.Colorbar at 0x292272310>"
      ]
     },
     "execution_count": 30,
     "metadata": {},
     "output_type": "execute_result"
    },
    {
     "data": {
      "image/png": "[encoded data removed]",
      "text/plain": [
       "<Figure size 640x480 with 2 Axes>"
      ]
     },
     "metadata": {},
     "output_type": "display_data"
    }
   ],
   "source": [
    "import matplotlib.pyplot as plt\n",
    "\n",
    "# you can inspect the parameters which form a N*dxN*d matrix\n",
    "plt.imshow(vstate.parameters['kernel'])\n",
    "plt.colorbar()"
   ]
  },
  {
   "cell_type": "code",
   "execution_count": 31,
   "id": "0ea20c03-dcfa-4cda-8f2f-b1d86a95872b",
   "metadata": {
    "tags": []
   },
   "outputs": [
    {
     "name": "stdout",
     "output_type": "stream",
     "text": [
      "224.3 ± 3.0 [σ²=6335.5, R̂=1.0140, τ=4.8<7.7]\n"
     ]
    }
   ],
   "source": [
    "# Expectation value: notice that it also provides an error estimate.\n",
    "E = vstate.expect(ha)\n",
    "print(E)"
   ]
  },
  {
   "cell_type": "code",
   "execution_count": 32,
   "id": "df25e787-deb1-4c3c-a6a8-5150948a6f3f",
   "metadata": {
    "tags": []
   },
   "outputs": [
    {
     "name": "stdout",
     "output_type": "stream",
     "text": [
      "Mean                  : 224.29303411736558\n",
      "Error                 : 2.993838569508533\n",
      "Variance              : 6335.51307955252\n",
      "Convergence indicator : 1.0139749951247647\n",
      "Correlation time      : 4.842703153579063\n"
     ]
    }
   ],
   "source": [
    "# the energy (expectation value) is a structure with a lot of fields:\n",
    "print(\"Mean                  :\", E.mean)\n",
    "print(\"Error                 :\", E.error_of_mean)\n",
    "print(\"Variance              :\", E.variance)\n",
    "print(\"Convergence indicator :\", E.R_hat)\n",
    "print(\"Correlation time      :\", E.tau_corr)\n",
    "\n"
   ]
  },
  {
   "cell_type": "markdown",
   "id": "1b5b6302",
   "metadata": {
    "tags": []
   },
   "source": [
    "## 4. Variational Monte Carlo"
   ]
  },
  {
   "cell_type": "markdown",
   "id": "8ab77267-892e-48d2-97e2-eee6c8eae796",
   "metadata": {},
   "source": [
    "We will now try to optimise the covariance matrix $ \\Sigma^{-1} $ in order to best approximate the ground state of the hamiltonian, which has a ground-state energy of $ \\frac{1}{2}N*d=15 $.\n",
    "\n",
    "At first, we'll try to do this by ourself by writing the training loop, but then we'll switch to using a pre-made\n",
    "solution provided by netket for simplicity."
   ]
  },
  {
   "cell_type": "markdown",
   "id": "a10ade91-7ad7-4a8c-997d-e4ee9098b2d7",
   "metadata": {},
   "source": [
    "### 4. Use NetKet's optimisation driver \n",
    "\n",
    "The optimisation (or training) loop must do a very simple thing: at every iteration it must compute the energy and it’s gradient, then multiply the gradient by a certain learning rate and lastly it must update the parameters with this rescaled gradient.\n",
    "\n",
    "We use NetKet's default VMC optimisation loop for that"
   ]
  },
  {
   "cell_type": "code",
   "execution_count": 34,
   "id": "4572b5c5",
   "metadata": {
    "tags": []
   },
   "outputs": [
    {
     "name": "stdout",
     "output_type": "stream",
     "text": [
      "No output specified (out=[apath|nk.logging.JsonLogger(...)]).Running the optimization but not saving the output.\n"
     ]
    },
    {
     "name": "stderr",
     "output_type": "stream",
     "text": [
      "100%|████████████████████████████████████████████████████████████████| 150/150 [01:02<00:00,  2.38it/s, Energy=14.999980 ± 0.000031 [σ²=0.000002, R̂=1.0068, τ=6.1<16.5]]\n"
     ]
    },
    {
     "name": "stdout",
     "output_type": "stream",
     "text": [
      "Optimized energy and relative error:  15.000037 ± 0.000034 [σ²=0.000002, R̂=1.0075, τ=4.1<6.2] 2.472227511537047e-06\n"
     ]
    }
   ],
   "source": [
    "# First we reset the parameters to run the optimisation again\n",
    "vstate.init_parameters(normal(stddev=1.0))\n",
    "\n",
    "# Then we create an optimiser from the standard library.\n",
    "# You can also use optax.\n",
    "optimizer = nk.optimizer.Sgd(learning_rate=0.05)\n",
    "\n",
    "# build the optimisation driver\n",
    "gs = nk.driver.VMC(ha, optimizer, variational_state=vstate)\n",
    "\n",
    "# run the driver for 150 iterations. This will display a progress bar\n",
    "# by default.\n",
    "log = nk.logging.RuntimeLog()\n",
    "gs.run(n_iter=150, out=log)\n",
    "\n",
    "energy=vstate.expect(ha)\n",
    "error = jnp.abs(energy.mean-15.)/15.\n",
    "print(\"Optimized energy and relative error: \",energy,error)"
   ]
  },
  {
   "cell_type": "code",
   "execution_count": 35,
   "id": "4f4b1a2d-fcbf-4248-ae18-d0f527ac67e5",
   "metadata": {
    "tags": []
   },
   "outputs": [
    {
     "data": {
      "text/plain": [
       "<matplotlib.colorbar.Colorbar at 0x29ad11090>"
      ]
     },
     "execution_count": 35,
     "metadata": {},
     "output_type": "execute_result"
    },
    {
     "data": {
      "image/png": "[encoded data removed]",
      "text/plain": [
       "<Figure size 640x480 with 2 Axes>"
      ]
     },
     "metadata": {},
     "output_type": "display_data"
    }
   ],
   "source": [
    "# we can again inspect the parameter:\n",
    "kernel = vstate.parameters['kernel']\n",
    "plt.imshow(jnp.dot(kernel.T, kernel))\n",
    "plt.colorbar()"
   ]
  },
  {
   "cell_type": "markdown",
   "id": "d216a4d6",
   "metadata": {},
   "source": [
    "## 5. Neural-Network Quantum State \n",
    "\n",
    "Rarely do we know the functional form of the ground state wave-function. We therefore have to resort to highly flexible variational Ansaetze, capable of representing many different many-body states. We can for example use neural networks as universal function approximators. \n",
    "In the following, we use a neural network architecture called \"DeepSets\" to solve the more interesting case of bosons interacting via a repulsive Gaussian interaction:\n",
    "\n",
    "$$\n",
    "\n",
    "\\epsilon  \\sum_{i<j} \\exp\\left[-|\\mathbf{r}_{ij}|^2\\right].\n",
    "\n",
    "$$\n",
    "\n",
    "We study the bulk of the system by confining it into a box of length $L$ with periodic boundary conditions. In this extended system we define the particle density as $ D = N/L^d $ and we study the case $ D=1 $ for $ N=20 $ particles in $ d=1 $ dimensions with $ \\epsilon = 2 $. To account for the periodicity we use the minimum image convention when evaluating the potential energy of the system. For more information see: \n",
    "\n",
    "The DeepSets architecture we use is defined as:\n",
    "\n",
    "$$\n",
    "\n",
    "\\mathrm{DS}(\\mathbf{X}) = \\rho\\left[\\sum_{i,j} \\phi \\left( \\mathbf{y}_{ij}\\right) \\right]\n",
    "\n",
    "$$\n",
    "\n",
    "where the functions $ \\phi $ and $ \\rho $ are parameterized by simple feed-forward neural network with a GeLu activation function with one hidden layer.  \n",
    "To account for periodicity we choose as input $ \\mathbf{y}_{ij} = (\\sin(\\frac{2\\pi}{L} \\mathbf{r}_{ij}),  \\cos(\\frac{2\\pi}{L} \\mathbf{r}_{ij})) $.\n",
    "\n",
    "See [PRR _4_, 023138 (2022)](https://journals.aps.org/prresearch/pdf/10.1103/PhysRevResearch.4.023138) for more information."
   ]
  },
  {
   "cell_type": "markdown",
   "id": "021f6753-b90d-41e6-947e-44f6037972cc",
   "metadata": {},
   "source": [
    "First we define the Hilbert space, sampler and hamiltonian:"
   ]
  },
  {
   "cell_type": "code",
   "execution_count": 36,
   "id": "11b9e993-5d02-45d6-a982-9faf9583c4ce",
   "metadata": {
    "tags": []
   },
   "outputs": [],
   "source": [
    "def minimum_distance(x, N, sdim):\n",
    "   \"\"\"Computes distances between particles using minimum image convention\"\"\"\n",
    "   x = x.reshape(-1, N, sdim)\n",
    "   idx = jnp.triu_indices(N, 1)\n",
    "   distances = (-x[..., None, :, :] + x[..., :, None, :])[..., idx[0], idx[1], :]\n",
    "   # minimum image convention \n",
    "   distances = jnp.remainder(distances + L / 2.0, L) - L / 2.0\n",
    "   return jnp.linalg.norm(distances, axis=-1)\n",
    "\n",
    "\n",
    "def potential(x, N, epsilon, sdim):\n",
    "   dis = minimum_distance(x, N, sdim)\n",
    "   return epsilon * jnp.sum((jnp.exp(-(dis)**2)))\n",
    "\n",
    "\n",
    "N = 20\n",
    "D = 1.\n",
    "dim = 1\n",
    "epsilon = 2.\n",
    "L = (N / D)**(1/dim)\n",
    "\n",
    "\n",
    "hilb = nk.hilbert.Particle(N=N, L=(L,), pbc=True)\n",
    "sa = nk.sampler.MetropolisGaussian(hilbert=hilb, sigma=0.4, n_chains=16, sweep_size=10)\n",
    "\n",
    "\n",
    "ekin = nk.operator.KineticEnergy(hilb, mass=1.0)\n",
    "pot = nk.operator.PotentialEnergy(hilb, lambda x: potential(x, N, epsilon, dim))\n",
    "ha = ekin + pot"
   ]
  },
  {
   "cell_type": "code",
   "execution_count": 37,
   "id": "2b5c30e7",
   "metadata": {
    "tags": []
   },
   "outputs": [],
   "source": [
    "class DS(nn.Module):\n",
    "    \n",
    "    # You can define attributes at the module-level\n",
    "    # with a default. This allows you to easily change\n",
    "    # some hyper-parameter without redefining the whole \n",
    "    # flax module.\n",
    "    L: float\n",
    "    N: int\n",
    "    sdim: int\n",
    "    hidden_units : int = 8\n",
    "      \n",
    "    @nn.compact\n",
    "    def __call__(self, x):\n",
    "        x = x.reshape(-1,self.N, self.sdim)\n",
    "        xij = x[...,None,:] - x[...,None,:,:]\n",
    "        yij = jnp.concatenate((jnp.sin(2*jnp.pi/self.L * xij), jnp.cos(2*jnp.pi/self.L * xij)), axis=-1)\n",
    "        \n",
    "        ### PHI\n",
    "        # here we construct the first dense layer using a\n",
    "        # pre-built implementation in flax.\n",
    "        # features is the number of output nodes\n",
    "        y = nn.Dense(features=self.hidden_units)(yij)\n",
    "        # the non-linearity is a simple GeLu\n",
    "        y = nn.gelu(y)\n",
    "        # we apply the dense layer to the input\n",
    "        y = nn.Dense(features=self.hidden_units)(y)\n",
    "        # we sum over i,j\n",
    "        y = jnp.sum(y, axis=(-3,-2))\n",
    "        \n",
    "        ### RHO\n",
    "        # the function rho has a single output\n",
    "        y = nn.Dense(features=self.hidden_units)(y)\n",
    "        y = nn.gelu(y)\n",
    "        y = nn.Dense(features=1)(y)\n",
    "        return y.squeeze()\n",
    "    \n",
    "model = DS(L=L, N=N, sdim=dim)\n",
    "\n",
    "# choose number of samples that is divided by the number of chains\n",
    "vstate = nk.vqs.MCState(sa, model, n_samples=1008, n_discard_per_chain=16)"
   ]
  },
  {
   "cell_type": "markdown",
   "id": "f29016f4",
   "metadata": {},
   "source": [
    "We then proceed to the optimization as before. "
   ]
  },
  {
   "cell_type": "code",
   "execution_count": 38,
   "id": "279c052e",
   "metadata": {
    "tags": []
   },
   "outputs": [
    {
     "name": "stderr",
     "output_type": "stream",
     "text": [
      "100%|██████████████████████████████████████████████████████████████████████████| 200/200 [05:26<00:00,  1.63s/it, Energy=24.761 ± 0.010 [σ²=0.071, R̂=1.0164, τ=1.0<2.8]]\n"
     ]
    },
    {
     "name": "stdout",
     "output_type": "stream",
     "text": [
      "Optimized energy and relative error:  24.7473 ± 0.0068 [σ²=0.0593, R̂=1.0105, τ=1.0<3.8] 0.00021342567086893218\n"
     ]
    }
   ],
   "source": [
    "optimizer = nk.optimizer.Sgd(learning_rate=0.02)\n",
    "\n",
    "# Notice the use, again of Stochastic Reconfiguration, which considerably improves the optimisation\n",
    "gs = nk.driver.VMC(ha, optimizer, variational_state=vstate,preconditioner=nk.optimizer.SR(diag_shift=0.05))\n",
    "\n",
    "# Store the energy along the simulation in a RuntimeLogger, which is kept in memory.\n",
    "# You could also use a JsonLog to save it to a file.\n",
    "log=nk.logging.RuntimeLog()\n",
    "gs.run(n_iter=200,out=log)\n",
    "\n",
    "ds_energy=vstate.expect(ha)\n",
    "error=abs((ds_energy.mean-24.742)/24.742)\n",
    "print(\"Optimized energy and relative error: \",ds_energy,error)"
   ]
  },
  {
   "cell_type": "markdown",
   "id": "68f501c7",
   "metadata": {},
   "source": [
    "## 6. Measuring Other Properties\n",
    "\n",
    "Once the model has been optimized, we can of start to measure other observables than the energy as well. An interesting quantity could for example be the radial distribution function, which is related to the structure factor measured in scattering experiments. It is defined as:\n",
    "\n",
    "$$\n",
    "\n",
    "g(r) = C \\langle \\sum_{i<j} \\delta(r-r_{ij}) \\rangle\n",
    "\n",
    "$$\n",
    "\n",
    "where $ \\langle \\cdot \\rangle $ denotes the expectation value w.r.t. the probability distribution defined by the optimized wave-function. The constant $C$ is chosen such that $\\int \\mathrm{d}r g(r) = N*(N-1)$.\n",
    "\n",
    "To evaluate the above expression we need samples from the optimized wave-function:"
   ]
  },
  {
   "cell_type": "code",
   "execution_count": 39,
   "id": "200d636f-a8e8-4b74-90d9-c38b956d788e",
   "metadata": {
    "tags": []
   },
   "outputs": [],
   "source": [
    "samples = vstate.sample(chain_length=3*10**4)"
   ]
  },
  {
   "cell_type": "markdown",
   "id": "72986628-7bf3-4b52-b531-cfeedc772661",
   "metadata": {},
   "source": [
    "Then we compute the above observable by computing the distances $r_{ij}$ and computing a histogram of the result (the finer the histogram the closer we approximate the delta-distribution)."
   ]
  },
  {
   "cell_type": "code",
   "execution_count": 40,
   "id": "164f53f8-ab53-4b5f-99be-779186d49fd7",
   "metadata": {
    "tags": []
   },
   "outputs": [],
   "source": [
    "import numpy as np\n",
    "import jax\n",
    "\n",
    "def gr(samples, n_particles, sdim, L, bins=80):\n",
    "    dists = minimum_distance(samples, n_particles, sdim)\n",
    "    hist, bin_edges = np.histogram(dists.flatten(), bins=bins, range=(0,L/2))    \n",
    "    delta_r = bin_edges[1] - bin_edges[0]\n",
    "    centers = (bin_edges[1:] + bin_edges[:-1])/2\n",
    "\n",
    "    gC = hist / (dists.shape[0]*n_particles)\n",
    "\n",
    "    def get_jacobian():\n",
    "        if sdim == 1:\n",
    "            return np.ones_like(centers) \n",
    "        elif sdim == 2:\n",
    "            return 2*np.pi*centers\n",
    "        elif sdim == 3:\n",
    "            return 4*np.pi*centers**2\n",
    "        else:\n",
    "            raise NotImplementedError(f\"Jacobian factor not yet implemented for sdim={sdim}\")\n",
    "    \n",
    "    def get_volume():\n",
    "        return L**sdim\n",
    "    \n",
    "    def get_density():\n",
    "        return n_particles/get_volume()\n",
    "\n",
    "    gU = get_jacobian()*delta_r*get_density()\n",
    "\n",
    "    return centers, gC/gU"
   ]
  },
  {
   "cell_type": "code",
   "execution_count": 41,
   "id": "9add27da-af3c-406e-90f2-de46dad7261c",
   "metadata": {
    "tags": []
   },
   "outputs": [
    {
     "data": {
      "text/plain": [
       "([<matplotlib.lines.Line2D at 0x29c8fb410>],)"
      ]
     },
     "execution_count": 41,
     "metadata": {},
     "output_type": "execute_result"
    },
    {
     "data": {
      "image/png": "[encoded data removed]",
      "text/plain": [
       "<Figure size 640x480 with 1 Axes>"
      ]
     },
     "metadata": {},
     "output_type": "display_data"
    }
   ],
   "source": [
    "c, g = gr(samples, n_particles=N, sdim=dim, L=L)\n",
    "plt.plot(c, g);"
   ]
  },
  {
   "cell_type": "code",
   "execution_count": null,
   "id": "5e4afaed-0620-47a9-8692-94a72ca63e21",
   "metadata": {},
   "outputs": [],
   "source": []
  }
 ],
 "metadata": {
  "kernelspec": {
   "display_name": "Python (Netket development)",
   "language": "python",
   "name": "dev-netket"
  },
  "language_info": {
   "codemirror_mode": {
    "name": "ipython",
    "version": 3
   },
   "file_extension": ".py",
   "mimetype": "text/x-python",
   "name": "python",
   "nbconvert_exporter": "python",
   "pygments_lexer": "ipython3",
   "version": "3.11.2"
  }
 },
 "nbformat": 4,
 "nbformat_minor": 5
}
