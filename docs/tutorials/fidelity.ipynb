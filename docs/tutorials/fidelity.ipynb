{
 "cells": [
  {
   "cell_type": "markdown",
   "id": "e44a9d8d",
   "metadata": {},
   "source": [
    "# Infidelity Minimization with Stochastic Reconfiguration in NetKet\n",
    "\n",
    "Authors: Luca Gravina and Alessandro Sinibaldi, August 2025\n",
    "\n",
    "This tutorial demonstrates how to minimize the infidelity between a variational quantum state and a target state using NetKet.\n",
    "\n",
    "- Fidelity between two states $|\\psi\\rangle$ and $|\\phi\\rangle$ is $F = |\\langle \\psi | \\phi \\rangle|^2/\\langle \\psi | \\psi \\rangle \\langle \\phi | \\phi \\rangle$. The infidelity is $1 - F$ and is minimized when the two states coincide up to a global phase.\n",
    "- We will:\n",
    "  1) Define a lattice, Hilbert space, variational model $|\\psi(\\theta)\\rangle$, and Hamiltonian $H$.\n",
    "  2) Construct a target state $| \\psi_\\mathrm{target} \\rangle$ from exact diagonalization (ground state of $H$).\n",
    "  3) Optimize the variational parameters by minimizing infidelity $1 - |\\langle \\psi(\\theta) | \\psi_\\mathrm{target} \\rangle|^2/ \\langle \\psi(\\theta) | \\psi(\\theta) \\rangle \\langle \\psi_\\mathrm{target} | \\psi_\\mathrm{target} \\rangle$ using the driver `nk.experimental.driver.InfidelitySR` implementing infidelity minimization with Stochastic Reconfiguration (see [Sinibaldi et al.](https://quantum-journal.org/papers/q-2023-10-10-1131/) and [Gravina et al.](https://quantum-journal.org/papers/q-2025-07-22-1803/) for details).\n",
    "  We consider also the case where we learn $O | \\psi_\\mathrm{target} \\rangle$ for a given local operator $O$.\n",
    "  4) Monitor convergence via the infidelity curve and validate energies against exact results."
   ]
  },
  {
   "cell_type": "markdown",
   "id": "26fd75f1",
   "metadata": {},
   "source": [
    "## Setup and imports\n",
    "\n",
    "We import the core NetKet library and experimental drivers, JAX/NumPy for array operations, and Matplotlib for plots."
   ]
  },
  {
   "cell_type": "code",
   "execution_count": null,
   "id": "e2dafbed",
   "metadata": {},
   "outputs": [],
   "source": [
    "import netket as nk\n",
    "import netket.experimental as nkx\n",
    "\n",
    "print(\"Notebook run with NetKet version:\", nk.__version__)\n",
    "\n",
    "import jax.numpy as jnp\n",
    "import numpy as np\n",
    "\n",
    "import matplotlib.pyplot as plt"
   ]
  },
  {
   "cell_type": "markdown",
   "id": "0f5181f0",
   "metadata": {},
   "source": [
    "## System, model definition and target state\n",
    "\n",
    "We set up the physical problem:\n",
    "- $L\\times L$ square lattice of spins-$\\tfrac{1}{2}$.\n",
    "- Variational ansatz: Restricted Boltzmann Machine with real parameters.\n",
    "- Transverse-field Ising Hamiltonian $H$."
   ]
  },
  {
   "cell_type": "code",
   "execution_count": null,
   "id": "3222a740",
   "metadata": {},
   "outputs": [],
   "source": [
    "L = 4\n",
    "g = nk.graph.Square(\n",
    "    length=L,\n",
    ")\n",
    "hi = nk.hilbert.Spin(0.5, N=g.n_nodes)\n",
    "\n",
    "ma = nk.models.RBM(alpha=3, param_dtype=jnp.float64)\n",
    "n_samples = 2**13\n",
    "\n",
    "H = nk.operator.Ising(hilbert=hi, graph=g, J=-1.0, h=3.04438)"
   ]
  },
  {
   "cell_type": "markdown",
   "id": "b2574f78",
   "metadata": {},
   "source": [
    "## Target and variational states\n",
    "\n",
    "- Compute the exact ground state $|\\psi_\\mathrm{target}\\rangle$ via Lanczos ED.\n",
    "- Build two MCState objects:\n",
    "  - `vs_target`: LogStateVector initialized with exact amplitudes to represent $|\\psi_\\mathrm{target}\\rangle$.\n",
    "  - `vs`: RBM variational state $|\\psi(\\theta)\\rangle$ to be optimized."
   ]
  },
  {
   "cell_type": "code",
   "execution_count": 3,
   "id": "bff82241",
   "metadata": {},
   "outputs": [],
   "source": [
    "sa = nk.sampler.MetropolisLocal(hilbert=hi, n_chains_per_rank=16)\n",
    "ma = nk.models.RBM(alpha=3, param_dtype=jnp.float64)\n",
    "\n",
    "e_gs, v_gs = nk.exact.lanczos_ed(H, compute_eigenvectors=True)\n",
    "\n",
    "vs_target = nk.vqs.MCState(\n",
    "    sampler=sa,\n",
    "    model=nk.models.LogStateVector(hi, param_dtype=jnp.float64),\n",
    "    n_samples=n_samples,\n",
    "    variables={\"params\": {\"logstate\": jnp.log(v_gs.astype(jnp.complex128)).squeeze()}},\n",
    ")\n",
    "\n",
    "vs = nk.vqs.MCState(\n",
    "    sampler=sa,\n",
    "    model=ma,\n",
    "    n_samples=n_samples,\n",
    ")"
   ]
  },
  {
   "cell_type": "markdown",
   "id": "64a67360",
   "metadata": {},
   "source": [
    "## Infidelity minimization (no operator)\n",
    "\n",
    "We now minimize the infidelity $1 - |\\langle \\psi(\\theta) | \\psi_\\mathrm{target} \\rangle|^2 / \\langle \\psi(\\theta) | \\psi(\\theta) \\rangle \\langle \\psi_\\mathrm{target} | \\psi_\\mathrm{target} \\rangle$ using Stochastic Reconfiguration (SR):\n",
    "- The SR metric preconditions parameter updates to approximate the natural gradient on the variational manifold.\n",
    "- The regularization (diagonal shift) $\\lambda_\\mathrm{SR}$ stabilizes the metric inversion.\n",
    "\n",
    "We run the driver for a fixed number of iterations and record the infidelity statistics."
   ]
  },
  {
   "cell_type": "code",
   "execution_count": null,
   "id": "fe7912d0",
   "metadata": {},
   "outputs": [],
   "source": [
    "optimizer = nk.optimizer.Sgd(learning_rate=5e-2)\n",
    "diag_shift = 1e-4\n",
    "\n",
    "logger = nk.logging.RuntimeLog()\n",
    "driver = nkx.driver.Infidelity_SR(\n",
    "    target_state=vs_target,\n",
    "    optimizer=optimizer,\n",
    "    diag_shift=diag_shift,\n",
    "    variational_state=vs,\n",
    "    operator=None,\n",
    ")\n",
    "driver.run(n_iter=100, out=logger)"
   ]
  },
  {
   "cell_type": "markdown",
   "id": "5d7de683",
   "metadata": {},
   "source": [
    "### Monitoring convergence\n",
    "\n",
    "We plot the infidelity versus iteration. A fast decay toward small values indicates $|\\psi(\\theta)\\rangle$ matches $|\\psi_\\mathrm{target}\\rangle$ up to a global phase."
   ]
  },
  {
   "cell_type": "code",
   "execution_count": 5,
   "id": "9d847840",
   "metadata": {},
   "outputs": [
    {
     "data": {
      "image/png": "[encoded data removed]",
      "text/plain": [
       "<Figure size 400x250 with 1 Axes>"
      ]
     },
     "metadata": {},
     "output_type": "display_data"
    }
   ],
   "source": [
    "infidelity = logger[\"Infidelity\"][\"Mean\"]\n",
    "error = logger[\"Infidelity\"][\"Sigma\"]\n",
    "\n",
    "fig, ax = plt.subplots(1, 1, figsize=(4, 2.5))\n",
    "ax.plot(range(len(infidelity)), infidelity, \"-\")\n",
    "ax.fill_between(\n",
    "    range(len(infidelity)), infidelity - error, infidelity + error, alpha=0.3\n",
    ")\n",
    "ax.set_yscale(\"log\")\n",
    "ax.set_xlabel(\"Iteration\")\n",
    "ax.set_ylabel(\"Infidelity\");"
   ]
  },
  {
   "cell_type": "markdown",
   "id": "b18c494f",
   "metadata": {},
   "source": [
    "### Energy validation (ground state)\n",
    "\n",
    "As a sanity check, we compute the energy of the learned variational state $E_\\mathrm{VMC} = \\langle \\psi(\\theta) | H | \\psi(\\theta) \\rangle$ and compare it to the exact ground-state energy $E_0$ from ED. Agreement within tolerance confirms successful state learning."
   ]
  },
  {
   "cell_type": "code",
   "execution_count": 6,
   "id": "22e3bbf5",
   "metadata": {},
   "outputs": [],
   "source": [
    "psi = vs.to_array()\n",
    "energy = psi.T @ H.to_sparse() @ psi\n",
    "\n",
    "np.testing.assert_allclose(energy, e_gs, rtol=1e-5)"
   ]
  },
  {
   "cell_type": "markdown",
   "id": "2743a936",
   "metadata": {},
   "source": [
    "## Infidelity minimization with an operator\n",
    "\n",
    "Sometimes we wish to match the state proportional to $O\\,|\\psi_\\mathrm{target}\\rangle$ for a physical operator $O$ (e.g., a transition operator). We define\n",
    "- $O = \\sum_i \\sigma_i^+$\n",
    "Then we repeat the optimization, now minimizing the infidelity to the normalized vector $\\dfrac{O\\,|\\psi_\\mathrm{target}\\rangle}{\\|O\\,|\\psi_\\mathrm{target}\\rangle\\|}$."
   ]
  },
  {
   "cell_type": "code",
   "execution_count": null,
   "id": "25cbefeb",
   "metadata": {},
   "outputs": [],
   "source": [
    "operator = sum([nk.operator.spin.sigmap(hi, i) for i in g.nodes()])\n",
    "\n",
    "optimizer = nk.optimizer.Sgd(learning_rate=5e-2)\n",
    "diag_shift = 1e-6\n",
    "\n",
    "logger = nk.logging.RuntimeLog()\n",
    "driver = nkx.driver.Infidelity_SR(\n",
    "    target_state=vs_target,\n",
    "    optimizer=optimizer,\n",
    "    diag_shift=diag_shift,\n",
    "    variational_state=vs,\n",
    "    operator=operator,\n",
    ")\n",
    "driver.run(n_iter=100, out=logger)"
   ]
  },
  {
   "cell_type": "code",
   "execution_count": 8,
   "id": "cdad32ee",
   "metadata": {},
   "outputs": [
    {
     "data": {
      "image/png": "[encoded data removed]",
      "text/plain": [
       "<Figure size 400x250 with 1 Axes>"
      ]
     },
     "metadata": {},
     "output_type": "display_data"
    }
   ],
   "source": [
    "infidelity = logger[\"Infidelity\"][\"Mean\"]\n",
    "error = logger[\"Infidelity\"][\"Sigma\"]\n",
    "\n",
    "fig, ax = plt.subplots(1, 1, figsize=(4, 2.5))\n",
    "ax.plot(range(len(infidelity)), infidelity, \"-\")\n",
    "ax.fill_between(\n",
    "    range(len(infidelity)), infidelity - error, infidelity + error, alpha=0.3\n",
    ")\n",
    "ax.set_yscale(\"log\")\n",
    "ax.set_xlabel(\"Iteration\")\n",
    "ax.set_ylabel(\"Infidelity\");"
   ]
  },
  {
   "cell_type": "markdown",
   "id": "9ac5a05b",
   "metadata": {},
   "source": [
    "### Energy validation (operator-transformed target)\n",
    "\n",
    "We construct the exact reference state $|\\psi_\\mathrm{ref}\\rangle \\propto O\\,|\\psi_\\mathrm{target}\\rangle$ and compare its energy $E_\\mathrm{ref} = \\langle \\psi_\\mathrm{ref} | H | \\psi_\\mathrm{ref} \\rangle$ to that of the trained variational state $E_\\mathrm{VMC} = \\langle \\psi(\\theta) | H | \\psi(\\theta) \\rangle$."
   ]
  },
  {
   "cell_type": "code",
   "execution_count": 9,
   "id": "e38ee625",
   "metadata": {},
   "outputs": [],
   "source": [
    "psi_target = operator.to_sparse() @ vs_target.to_array()\n",
    "psi_target = psi_target / np.linalg.norm(psi_target)\n",
    "\n",
    "energy_exact = psi_target.T @ H.to_sparse() @ psi_target\n",
    "\n",
    "psi = vs.to_array()\n",
    "energy_variational = psi.T @ H.to_sparse() @ psi\n",
    "\n",
    "np.testing.assert_allclose(energy_variational, energy_exact, rtol=1e-3)"
   ]
  }
 ],
 "metadata": {
  "kernelspec": {
   "display_name": "neuralimportancesampling",
   "language": "python",
   "name": "neuralimportancesampling"
  },
  "language_info": {
   "codemirror_mode": {
    "name": "ipython",
    "version": 3
   },
   "file_extension": ".py",
   "mimetype": "text/x-python",
   "name": "python",
   "nbconvert_exporter": "python",
   "pygments_lexer": "ipython3",
   "version": "3.12.1"
  }
 },
 "nbformat": 4,
 "nbformat_minor": 5
}
