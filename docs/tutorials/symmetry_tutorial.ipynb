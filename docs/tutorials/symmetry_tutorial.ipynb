{
 "cells": [
  {
   "cell_type": "markdown",
   "id": "9bd1e1ca",
   "metadata": {},
   "source": [
    "# Symmetries and VMC\n",
    "**Author: Louis Sharma**\n",
    "\n",
    "\n",
    "In this tutorial, we will learn how to use symmetries of quantum Hamiltonian to enhance the performance of a VMC calculation. More specifically, you will learn:\n",
    "\n",
    "\n",
    "* How to symmetrize a `vstate` with respect to lattice symmetries. \n",
    "* How to implement custom symmetries.\n",
    "\n",
    "\n",
    "## Heisenberg antiferromagnet\n",
    "We will consider the Heisenberg antiferromagnet on a 2d $L \\times L$ square lattice: \n",
    "\n",
    "$$\n",
    "\\hat H = J \\sum_{\\langle ij } \\hat{\\vec S}_i \\cdot \\hat{\\vec S}_j\n",
    "$$\n",
    "\n",
    "where $J>0$ is the antiferromagnetic exchange coupling, $\\langle ij \\rangle$ refers to pairs of first neighbor sites on the lattice and $\\vec{\\hat S}_i = \\frac 12 ( \\hat \\sigma_i^x, \\hat \\sigma_i^y, \\hat \\sigma_i^z)$ is the spin operator for site $i$.\n",
    "\n",
    "\n",
    "\n",
    "\n",
    "## Setting up the problem\n",
    "\n",
    "### Definining the lattice\n",
    "First, we need to define a square lattice. This is done using the ```netket.graph.Square``` class. For this tutorial, we will pick $L=4$.\n"
   ]
  },
  {
   "cell_type": "code",
   "execution_count": 1,
   "id": "dc7f7af9",
   "metadata": {},
   "outputs": [
    {
     "ename": "ModuleNotFoundError",
     "evalue": "No module named 'netket'",
     "output_type": "error",
     "traceback": [
      "\u001b[31m---------------------------------------------------------------------------\u001b[39m",
      "\u001b[31mModuleNotFoundError\u001b[39m                       Traceback (most recent call last)",
      "\u001b[36mCell\u001b[39m\u001b[36m \u001b[39m\u001b[32mIn[1]\u001b[39m\u001b[32m, line 2\u001b[39m\n\u001b[32m      1\u001b[39m \u001b[38;5;66;03m#import netket\u001b[39;00m\n\u001b[32m----> \u001b[39m\u001b[32m2\u001b[39m \u001b[38;5;28;01mimport\u001b[39;00m\u001b[38;5;250m \u001b[39m\u001b[34;01mnetket\u001b[39;00m\u001b[38;5;250m \u001b[39m\u001b[38;5;28;01mas\u001b[39;00m\u001b[38;5;250m \u001b[39m\u001b[34;01mnk\u001b[39;00m\n\u001b[32m      3\u001b[39m \u001b[38;5;28;01mimport\u001b[39;00m\u001b[38;5;250m \u001b[39m\u001b[34;01mjax\u001b[39;00m\n",
      "\u001b[31mModuleNotFoundError\u001b[39m: No module named 'netket'"
     ]
    }
   ],
   "source": [
    "#import netket\n",
    "import netket as nk\n",
    "import jax"
   ]
  },
  {
   "cell_type": "code",
   "execution_count": null,
   "id": "ca476c28",
   "metadata": {},
   "outputs": [],
   "source": [
    "seed = jax.random.PRNGKey(1234) # For reproducibility"
   ]
  },
  {
   "cell_type": "code",
   "execution_count": null,
   "id": "a31a30c3",
   "metadata": {},
   "outputs": [],
   "source": [
    "#define the square lattice\n",
    "square_lattice = nk.graph.Square(length=4, pbc=True) # 4x4 square lattice with periodic boundary conditions"
   ]
  },
  {
   "cell_type": "code",
   "execution_count": null,
   "id": "c7550eba",
   "metadata": {},
   "outputs": [],
   "source": [
    "square_lattice.draw()"
   ]
  },
  {
   "cell_type": "markdown",
   "id": "a1d89013",
   "metadata": {},
   "source": [
    "### Defining the Hilbert space\n",
    "Then, we need to define the Hilbert space on which this model is defined. The relevant class here is `netket.hilbert.Spin`"
   ]
  },
  {
   "cell_type": "code",
   "execution_count": null,
   "id": "d22ac8f4",
   "metadata": {},
   "outputs": [],
   "source": [
    "hilbert = nk.hilbert.Spin(s=0.5, N=square_lattice.n_nodes) #16 spin 1/2 particles \n",
    "import numpy as np"
   ]
  },
  {
   "cell_type": "code",
   "execution_count": null,
   "id": "d55c1203",
   "metadata": {},
   "outputs": [],
   "source": [
    "print('Number of local degrees of freedom: {}'.format(hilbert.size))\n",
    "print('Number of states: {}'.format(hilbert.n_states))"
   ]
  },
  {
   "cell_type": "markdown",
   "id": "8b5606c4",
   "metadata": {},
   "source": [
    "### Constructing the Hamiltonian\n",
    "Now we will construct the Hamiltonian of this system."
   ]
  },
  {
   "cell_type": "code",
   "execution_count": null,
   "id": "037626ec",
   "metadata": {},
   "outputs": [],
   "source": [
    "#import the fermionic creation and annihilation operators\n",
    "from netket.operator.spin import sigmax, sigmaz, sigmay"
   ]
  },
  {
   "cell_type": "code",
   "execution_count": null,
   "id": "4aefafbf",
   "metadata": {},
   "outputs": [],
   "source": [
    "H = 0.0+0.0j\n",
    "J = 1.0\n",
    "\n",
    "for i,j in square_lattice.edges():\n",
    "    H += J * sigmaz(hilbert=hilbert, site=i) * sigmaz(hilbert=hilbert, site=j)\n",
    "    H += J * sigmax(hilbert=hilbert, site=i) * sigmax(hilbert=hilbert, site=j)\n",
    "    H += J * sigmay(hilbert=hilbert, site=i) * sigmay(hilbert=hilbert, site=j)"
   ]
  },
  {
   "cell_type": "markdown",
   "id": "a5bfe51d",
   "metadata": {},
   "source": [
    "## Exact diagonalization (ED)\n",
    "\n",
    "Since $\\hat H$ is sparse and its dimension is not too big, we can perform ED to get the ground state energy."
   ]
  },
  {
   "cell_type": "code",
   "execution_count": null,
   "id": "77685555",
   "metadata": {},
   "outputs": [],
   "source": [
    "from scipy.sparse.linalg import eigsh"
   ]
  },
  {
   "cell_type": "code",
   "execution_count": null,
   "id": "a5ad30a7",
   "metadata": {},
   "outputs": [],
   "source": [
    "H_sp = H.to_sparse()\n",
    "evals, evecs = eigsh(H_sp, k=1, which='SA')  # 'SA' means smallest algebraic eigenvalue\n",
    "print(\"Ground state energy (exact diagonalization): \", evals[0])"
   ]
  },
  {
   "cell_type": "markdown",
   "id": "f900d372",
   "metadata": {},
   "source": [
    "## Symmetries\n",
    "The Hamiltonian commutes with the set of operators that correspond to a *representation* of the space group of the lattice. From representation theory, we know that we can use the irreducible representations (irreps) of the group to block diagonalize $\\hat H$ and restrict the search for the ground state to a particular irrep. \n",
    "\n",
    "\n",
    "The first step in doing this is to select the relevant group. \n",
    "\n",
    "Here, we will consider the translation group of the lattice. "
   ]
  },
  {
   "cell_type": "code",
   "execution_count": null,
   "id": "a2942260",
   "metadata": {},
   "outputs": [],
   "source": [
    "translation_group = square_lattice.translation_group()\n",
    "for g in translation_group: \n",
    "    print(g)"
   ]
  },
  {
   "cell_type": "markdown",
   "id": "11e8f8b2",
   "metadata": {},
   "source": [
    "The elements of `translation_group` correspond to permutations of the lattice sites. "
   ]
  },
  {
   "cell_type": "code",
   "execution_count": null,
   "id": "3d5d9c7c",
   "metadata": {},
   "outputs": [],
   "source": [
    "print(\"Permutation corresponding to a translation by R= [0,1]: \", translation_group[1].permutation_array)"
   ]
  },
  {
   "cell_type": "markdown",
   "id": "ff6616a8",
   "metadata": {},
   "source": [
    "We can also view the characters which classify different irreducible representations."
   ]
  },
  {
   "cell_type": "code",
   "execution_count": null,
   "id": "db25e7ba",
   "metadata": {},
   "outputs": [],
   "source": [
    "print(\"Second row of the character table:\", translation_group.character_table()[1])"
   ]
  },
  {
   "cell_type": "markdown",
   "id": "dfe2e687",
   "metadata": {},
   "source": [
    "As it turns out, the characters of the translation group can all be written in the form:\n",
    "\n",
    "$$\\chi_{\\vec k}(\\vec R) = e^{i \\vec k \\cdot \\vec R}$$\n",
    "\n",
    "where $\\chi_{\\vec k}(\\vec R)$ is the character corresponding to the translation by a lattice vector $\\vec R$ and $\\vec k$ is a vector in the first Brillouin zone.  \n",
    "\n",
    "In principle, the true ground state may be found at any value of $\\vec k$. However, due to symmetry, we can restrict our search for the ground state to the *irreducible Brillouin zone* (red triangle on the plot below). "
   ]
  },
  {
   "cell_type": "code",
   "execution_count": null,
   "id": "a49822e1",
   "metadata": {},
   "outputs": [],
   "source": [
    "import matplotlib.pyplot as plt\n",
    "kx = np.linspace(-np.pi, np.pi, 4+1, endpoint=True)\n",
    "ky = np.linspace(-np.pi, np.pi, 4+1, endpoint=True)\n",
    "\n",
    "Kx, Ky = np.meshgrid(kx, ky)\n",
    "plt.scatter(Kx.flatten(), Ky.flatten(), s=10, color='black')\n",
    "plt.plot([0,np.pi], [0, np.pi], color='r', lw=0.5)\n",
    "plt.plot([0,np.pi], [0, 0], color='r', lw=0.5)\n",
    "plt.plot([np.pi, np.pi], [0, np.pi], color='r', lw=0.5)\n",
    "plt.gca().set_aspect('equal', adjustable='box')\n",
    "plt.xlabel(r'$k_x$')\n",
    "plt.ylabel(r'$k_y$')\n",
    "plt.title('Brillouin zone of the square lattice')"
   ]
  },
  {
   "cell_type": "markdown",
   "id": "133286c9",
   "metadata": {},
   "source": [
    "The next step is to construct ```netket.operator``` objects from the group elements \n",
    "that can act on the states of the Hilbert space. This is known as a *representation*. For lattice symmetries, `netket` has built in methods\n",
    "to construct representations, which is done using the `Representation`class. "
   ]
  },
  {
   "cell_type": "code",
   "execution_count": null,
   "id": "fe6b4367",
   "metadata": {},
   "outputs": [],
   "source": [
    "translation_group_representation = square_lattice.translation_group_representation(hilbert=hilbert)"
   ]
  },
  {
   "cell_type": "markdown",
   "id": "19768d92",
   "metadata": {},
   "source": [
    "In `netket`, a `Representation` object can be constructed by specifying a dictionary whose values are the elements of the representation. In this example, the elements of the translation group may be represented by `PermutationOperator` objects. These encode how permutations of the lattice sites act on the local degrees of freedom of the Hilbert space. \n",
    "\n",
    "For more details on the mathematical foundations of permutation operators, see the [symmetry documentation](../advanced/symmetry.md).\n",
    "\n",
    "\n",
    "They are equipped with a `get_conn_padded` method, allowing them to act on states of the basis. \n",
    "\n",
    "In the next section, we will discuss in more detail how to construct `Representation` for custom groups."
   ]
  },
  {
   "cell_type": "markdown",
   "id": "ee4bedee",
   "metadata": {},
   "source": [
    "## VMC\n",
    "\n",
    "Within the VMC scheme, wavefunction amplitudes may be made symmetric with respect to a particular group $G$ and irrep $\\mu$ using the following projection formula:\n",
    "\n",
    "$$\\psi_\\mu(x) = \\frac{d_\\mu}{|G|} \\sum_{g \\in G} \\chi_\\mu^\\ast(g) \\psi( g^{-1}x)$$\n",
    "where $x$ is the encoding of a basis state, $d_\\mu$ is the dimension of the irrep, $|G|$ is the number of elements in the group, $\\chi_\\mu(g)$ is the character of the representation evaluated on element $g$ and $\\hat U_g$ is the representation of $g$ on the Hilbert space. Here $\\psi(g^{-1}x)$ is the *left action* of element $g$ on the state $x$. \n",
    "\n",
    "In the context of permutations and spin systems, we can view $g$ as a function from $\\{0,\\ldots, n-1\\} \\to \\{0, \\ldots, n-1\\}$ and $x$ as a function from $\\{0,\\ldots, n-1\\} \\to \\{0,1\\}$ such that the left action is the composition:\n",
    "\n",
    "\n",
    "$$\\psi(g^{-1}x) = \\psi(x \\circ g)$$ \n",
    "\n",
    "For more mathematical details on permutations and their representations, see the [symmetry documentation](../advanced/symmetry.md).\n",
    "\n",
    "In the following, we will compare the performance of an unsymmetrized ansatz versus a symmetrized one."
   ]
  },
  {
   "cell_type": "code",
   "execution_count": null,
   "id": "a713fa8d",
   "metadata": {},
   "outputs": [],
   "source": [
    "import netket.nn as nknn\n",
    "import flax.linen as nn\n",
    "\n",
    "import jax.numpy as jnp\n",
    "\n",
    "\n",
    "class FFNN(nn.Module):\n",
    "    @nn.compact\n",
    "    def __call__(self, x):\n",
    "        x = nn.Dense(\n",
    "            features=2 * x.shape[-1],\n",
    "            use_bias=True,\n",
    "            param_dtype=np.complex128,\n",
    "            kernel_init=nn.initializers.normal(stddev=0.01),\n",
    "            bias_init=nn.initializers.normal(stddev=0.01),\n",
    "        )(x)\n",
    "        x = nknn.log_cosh(x)\n",
    "        x = jnp.sum(x, axis=-1)\n",
    "        return x\n",
    "\n",
    "\n",
    "model = FFNN()"
   ]
  },
  {
   "cell_type": "code",
   "execution_count": null,
   "id": "b7fbcac3",
   "metadata": {},
   "outputs": [],
   "source": [
    "#model = nk.models.RBM(alpha=4) #define a restricted Boltzmann machine with hidden unit density alpha=2\n",
    "sampler = nk.sampler.MetropolisLocal(hilbert=hilbert) #Metropolis-Hastings local sampler\n",
    "optimizer = nk.optimizer.Sgd(learning_rate=5e-3) #stochastic gradient descent optimizer\n",
    "solver  = nk.optimizer.solver.cholesky\n",
    "preconditioner = nk.optimizer.SR(solver=solver, diag_shift=1e-6) #stochastic reconfiguration preconditioner"
   ]
  },
  {
   "cell_type": "code",
   "execution_count": null,
   "id": "43bf54ae",
   "metadata": {},
   "outputs": [],
   "source": [
    "#train the unsymmetrized model\n",
    "unsymmetrized_log = nk.logging.RuntimeLog()\n",
    "unsymmetrized_vstate = nk.vqs.MCState(sampler, model, n_samples = 512, seed=seed)\n",
    "unsymmetrized_log = nk.logging.RuntimeLog()\n",
    "driver = nk.VMC(H, optimizer, variational_state=unsymmetrized_vstate)\n",
    "driver.preconditioner = preconditioner\n",
    "driver.run(n_iter=300, out=unsymmetrized_log)\n"
   ]
  },
  {
   "cell_type": "markdown",
   "id": "d2b8655f",
   "metadata": {},
   "source": [
    "To construct a symmetry projected wavefunction in netket, we use `project` method of the `Representation` class. \n",
    "This method takes in a variational state as well as the integer correspond to the id of the irrep. \n",
    "It then implements the above equation"
   ]
  },
  {
   "cell_type": "code",
   "execution_count": null,
   "id": "9a587741",
   "metadata": {},
   "outputs": [],
   "source": [
    "vstate=nk.vqs.MCState(sampler, model, n_samples = 512, seed=seed) #reinitialize the variational state to symmetrize it\n",
    "symmetrize_vstate0 = translation_group_representation.project(state=vstate, character_index=0) #project on the trivial represention"
   ]
  },
  {
   "cell_type": "markdown",
   "id": "f021c945",
   "metadata": {},
   "source": [
    "Then we just run the optimization as usual!"
   ]
  },
  {
   "cell_type": "code",
   "execution_count": null,
   "id": "85188a72",
   "metadata": {},
   "outputs": [],
   "source": [
    "driver = nk.VMC(H, optimizer, variational_state=symmetrize_vstate0) \n",
    "driver.preconditioner = preconditioner\n",
    "driver.run(n_iter=300, out=nk.logging.RuntimeLog()) #takes a bit of time to run"
   ]
  },
  {
   "cell_type": "markdown",
   "id": "6cc6eea4",
   "metadata": {},
   "source": [
    "**Important**\n",
    "In general, the ground state is not necessarily in the trivial sector. In practice, all relevant sectors should be scanned to find which one is energetically favorable. \n",
    "In the case of the translation group, this means all the points in the irreducible Brillouin zone should be checked. \n",
    "\n",
    "We can now compare the performance of the two models. "
   ]
  },
  {
   "cell_type": "code",
   "execution_count": null,
   "id": "617d8f16",
   "metadata": {},
   "outputs": [],
   "source": [
    "def relative_error(approx, exact):\n",
    "    return np.abs((approx - exact) / exact)\n",
    "\n",
    "E_no_symm = float(unsymmetrized_vstate.expect(H).mean.real)\n",
    "E_symm = float(symmetrize_vstate0.expect(H).mean.real)\n",
    "\n",
    "print(\"Energy without symmetrization: {:.4f} Relative error without symmetrization: {:.4f} %\".format(E_no_symm, 100*relative_error(E_no_symm, evals[0])))\n",
    "print(\"Energy with symmetrization in the trivial irrep: {:.4f} Relative error with symmetrization in the trivial irrep: {:.4f} %\".format(E_symm, 100*relative_error(E_symm, evals[0])))   "
   ]
  },
  {
   "cell_type": "markdown",
   "id": "8d91ae00",
   "metadata": {},
   "source": [
    "## Implementing custom symmetries\n",
    "The Heisenberg Hamiltonian also commutes with the spin flip operator:\n",
    "\n",
    "$$\\hat \\sigma^x = \\bigotimes_i \\hat \\sigma_i^x$$\n",
    "\n",
    "The set of operators $\\hat I, \\hat \\sigma^x$ form a representation of the group $\\mathbb Z_2$\n",
    "\n",
    "In this part of the tutorial, we will see how to construct a representation of this group in `netket` on our spin Hilbert space.\n",
    "\n",
    "The `Representation` class needs two fundamental things to function:\n",
    "\n",
    "* A `FiniteGroup` object. This just the group. \n",
    "* A `dict` object mapping elements of the group to operators on the Hilbert space. \n",
    "\n",
    "The group $\\mathbb Z_2$ is just a set with 2 elements  $\\{e, g\\}$ with one rule: $g^2= e$. A simple example of a group that follows this blueprint is the symmetric group $\\mathcal S_2.$ This group can be implemented in `netket` using the `PermutationGroup` class. "
   ]
  },
  {
   "cell_type": "code",
   "execution_count": null,
   "id": "cd79c722",
   "metadata": {},
   "outputs": [],
   "source": [
    "from netket.utils.group import PermutationGroup, Permutation, Identity\n",
    "from netket.symmetry import Representation"
   ]
  },
  {
   "cell_type": "code",
   "execution_count": null,
   "id": "fc9ec34c",
   "metadata": {},
   "outputs": [],
   "source": [
    "e = np.array([0,1])\n",
    "g = np.array([1,0])\n",
    "group = PermutationGroup(elems=[Permutation(e, name='Identity()'), Permutation(g, name=\"SpinFlip()\")], degree = 2)"
   ]
  },
  {
   "cell_type": "markdown",
   "id": "cfc47e64",
   "metadata": {},
   "source": [
    "From this object, we can extract the characters, etc... "
   ]
  },
  {
   "cell_type": "code",
   "execution_count": null,
   "id": "cfc554fa",
   "metadata": {},
   "outputs": [],
   "source": [
    "group.character_table()\n"
   ]
  },
  {
   "cell_type": "markdown",
   "id": "80fa90bf",
   "metadata": {},
   "source": [
    "Next, we need to define the operators $\\hat I$ and $\\hat \\sigma^x$ which furnish the representation of our group on the spin Hilbert space"
   ]
  },
  {
   "cell_type": "code",
   "execution_count": null,
   "id": "81303831",
   "metadata": {},
   "outputs": [],
   "source": [
    "spin_flip = 1.0\n",
    "for i in range(square_lattice.n_nodes):\n",
    "    spin_flip *= sigmax(hilbert=hilbert, site=i)\n",
    "\n",
    "identity = nk.operator.spin.identity(hilbert=hilbert) #identity operator"
   ]
  },
  {
   "cell_type": "markdown",
   "id": "e2647d17",
   "metadata": {},
   "source": [
    "To check that this all works as expected, recall that the states of the computational basis of our spin $1/2$ system are encoded as `jax.Array` objects:\n",
    "\n",
    "* `array[i]` refers to the spin on the $i$th site. \n",
    "* ` array[i] = -1` for spin down or `+1`for spin up\n",
    "\n",
    "Therefore, we can generate a random state of the basis and apply our spin flip operator to it using the `get_conn_padded` method. \n",
    "The resulting array should send all $-1$ to $1$ and $1$ to $-1$ in the original array. "
   ]
  },
  {
   "cell_type": "code",
   "execution_count": null,
   "id": "328e752c",
   "metadata": {},
   "outputs": [],
   "source": [
    "state = hilbert.random_state(key=seed, size=1) #generate a random state of the basis\n",
    "new_state, matrix_element = spin_flip.get_conn_padded(state)\n",
    "print(\"Original state: \", state)\n",
    "print(\"State after spin flip: \", new_state)\n",
    "\n",
    "print(\"Sum of element-wise entries:\", new_state + state)"
   ]
  },
  {
   "cell_type": "markdown",
   "id": "a318d580",
   "metadata": {},
   "source": [
    "Now we create our dictionnary and pass it to instantiate a `Representation` object. Note that the keys of the dictionnary must be identical to the elements of the `group` argument. "
   ]
  },
  {
   "cell_type": "code",
   "execution_count": null,
   "id": "3a114417",
   "metadata": {},
   "outputs": [],
   "source": [
    "\n",
    "representation_dict = {Permutation(e, name='Identity()'): identity, Permutation(g, name=\"SpinFlip()\"): spin_flip}\n",
    "spin_flip_representation = Representation(group=group, representation_dict=representation_dict)"
   ]
  },
  {
   "cell_type": "markdown",
   "id": "f2e6d588",
   "metadata": {},
   "source": [
    "Now we can optimize a new vstate which is symmetric with respect to this group."
   ]
  },
  {
   "cell_type": "code",
   "execution_count": null,
   "id": "1036244b",
   "metadata": {},
   "outputs": [],
   "source": [
    "vstate=nk.vqs.MCState(sampler, model, n_samples = 512, seed=seed) #reinitialize the variational state to symmetrize it\n",
    "symmetrize_vstate_spin_flip = spin_flip_representation.project(state=vstate, character_index=0) #project on the trivial represention\n",
    "driver = nk.VMC(H, optimizer, variational_state=symmetrize_vstate_spin_flip)\n",
    "driver.preconditioner = preconditioner\n",
    "driver.run(n_iter=300, out=nk.logging.RuntimeLog())"
   ]
  },
  {
   "cell_type": "code",
   "execution_count": null,
   "id": "09c5e75f",
   "metadata": {},
   "outputs": [],
   "source": [
    "E_spin_flip = float(symmetrize_vstate_spin_flip.expect(H).mean.real)\n",
    "print(\"Energy with symmetrization in the trivial irrep of the spin flip group: {:.4f} Relative error with symmetrization in the trivial irrep of the spin flip group: {:.4f} %\".format(E_spin_flip, 100*relative_error(E_spin_flip, evals[0])))"
   ]
  },
  {
   "cell_type": "markdown",
   "id": "f14bc96a",
   "metadata": {},
   "source": [
    "## Combining representations\n",
    "When we have two commuting groups, $G_1$ and $G_2$ and two representations $\\hat U$ and $\\hat V$ on the same vector space $\\mathcal{H}$, \n",
    "we can define the following *product* representation $\\hat \\Gamma$ from $G_1 \\times G_2 \\to \\mathcal{H}$  such that $\\hat \\Gamma(g_1 g_2) = \\hat U_{g_1} \\hat V_{g_2}$\n",
    "As it turns out, characters of the irreps of $\\hat \\Gamma$, satisfy $\\chi_{\\mu, \\nu}(g_1 g_2) = \\chi_\\mu(g_1) \\chi_\\nu(g_2)$  where $\\chi_\\mu$ (resp. $\\chi_\\nu$) are the characters of the irreps of $\\hat U$ (resp. $\\hat V$)\n",
    "\n",
    "We can apply this to the translation group and the spin-flip group! \n",
    "Essentially, we can combine these two groups and classify the eigenstates by their momentum and their spin flip parity. \n",
    "To do this in `netket`, we first project the state onto an irrep of one group then do another projection onto the other group. "
   ]
  },
  {
   "cell_type": "code",
   "execution_count": null,
   "id": "c628ad21",
   "metadata": {},
   "outputs": [],
   "source": [
    "vstate=nk.vqs.MCState(sampler, model, n_samples = 512, seed=seed) #fresh vstate\n",
    "projector_T = translation_group_representation.projector(character_index=0) #projector on the trivial representation\n",
    "projector_S = spin_flip_representation.projector(character_index=0) #projector on the trivial representation"
   ]
  },
  {
   "cell_type": "markdown",
   "id": "d31b4334",
   "metadata": {},
   "source": [
    "## Extension to fermionic systems\n",
    "\n",
    "The concepts we've discussed so far naturally extend to fermionic systems, but there are two subtleties to bear in mind:\n",
    "\n",
    "* On top of \"spatial\" degrees of freedom, fermionic Hilbert spaces may have additional degrees of freedom, like spin. \n",
    "* Fermionic states are antisymmetric with respect to particle exchange. \n",
    "\n",
    "In `netket` fermionic Hilbert spaces are handled by the `netket.hilbert.SpinOrbitalFermions` class.\n",
    "Let's define a  spin $1/2$ fermion Hilbert space on the square lattice. "
   ]
  },
  {
   "cell_type": "code",
   "execution_count": null,
   "id": "529fe230",
   "metadata": {},
   "outputs": [],
   "source": [
    "fermion_hilbert = nk.hilbert.SpinOrbitalFermions(n_orbitals=square_lattice.n_nodes, s = 1/2, n_fermions_per_spin=(8,8)) #half-filling, zero spin\n",
    "print(\"Size of basis states: \", fermion_hilbert.size)"
   ]
  },
  {
   "cell_type": "code",
   "execution_count": null,
   "id": "a0ec039c",
   "metadata": {},
   "outputs": [],
   "source": []
  }
 ],
 "metadata": {
  "kernelspec": {
   "display_name": "netket",
   "language": "python",
   "name": "python3"
  },
  "language_info": {
   "codemirror_mode": {
    "name": "ipython",
    "version": 3
   },
   "file_extension": ".py",
   "mimetype": "text/x-python",
   "name": "python",
   "nbconvert_exporter": "python",
   "pygments_lexer": "ipython3",
   "version": "3.13.3"
  }
 },
 "nbformat": 4,
 "nbformat_minor": 5
}
