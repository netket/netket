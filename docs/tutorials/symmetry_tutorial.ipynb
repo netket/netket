{
 "cells": [
  {
   "cell_type": "markdown",
   "id": "9bd1e1ca",
   "metadata": {},
   "source": "# Symmetries and VMC\n**Author: Louis Sharma**\n\n\nIn this tutorial, we will learn how to use symmetries of quantum Hamiltonian to enhance the performance of a VMC calculation. More specifically, you will learn:\n\n\n* How to symmetrize a `vstate` with respect to lattice symmetries. \n* How to implement custom symmetries.\n\n\n## Heisenberg antiferromagnet\nWe will consider the Heisenberg antiferromagnet on a 2d $L \\times L$ square lattice: \n\n$$\n\\hat H = J \\sum_{⟨ij⟩} \\hat{\\vec S}_i \\cdot \\hat{\\vec S}_j\n$$\n\nwhere $J>0$ is the antiferromagnetic exchange coupling, $⟨ij⟩$ refers to pairs of first neighbor sites on the lattice and $\\vec{\\hat S}_i = \\frac 12 ( \\hat \\sigma_i^x, \\hat \\sigma_i^y, \\hat \\sigma_i^z)$ is the spin operator for site $i$.\n\n\n\n\n## Setting up the problem\n\n### Definining the lattice\nFirst, we need to define a square lattice. This is done using the {class}`~netket.graph.Square` class. For this tutorial, we will pick $L=4$."
  },
  {
   "cell_type": "code",
   "execution_count": 14,
   "id": "dc7f7af9",
   "metadata": {},
   "outputs": [],
   "source": [
    "import netket as nk\n",
    "import numpy as np\n",
    "import jax\n",
    "\n",
    "seed = jax.random.PRNGKey(1234) # For reproducibility"
   ]
  },
  {
   "cell_type": "code",
   "execution_count": null,
   "id": "a31a30c3",
   "metadata": {},
   "outputs": [],
   "source": "#define the square lattice\nsquare_lattice = nk.graph.Square(length=4, pbc=True) # 4x4 square lattice with periodic boundary conditions\nsquare_lattice.draw()"
  },
  {
   "cell_type": "markdown",
   "id": "a1d89013",
   "metadata": {},
   "source": "### Defining the Hilbert space\nThen, we need to define the Hilbert space on which this model is defined. The relevant class here is {class}`~netket.hilbert.Spin`"
  },
  {
   "cell_type": "code",
   "execution_count": 17,
   "id": "d22ac8f4",
   "metadata": {},
   "outputs": [
    {
     "name": "stdout",
     "output_type": "stream",
     "text": [
      "Number of local degrees of freedom: 16\n",
      "Number of states: 65536\n"
     ]
    }
   ],
   "source": [
    "hilbert = nk.hilbert.Spin(s=0.5, N=square_lattice.n_nodes) #16 spin 1/2 particles \n",
    "print('Number of local degrees of freedom: {}'.format(hilbert.size))\n",
    "print('Number of states: {}'.format(hilbert.n_states))\n"
   ]
  },
  {
   "cell_type": "markdown",
   "id": "8b5606c4",
   "metadata": {},
   "source": "### Constructing the Hamiltonian\nNow we will construct the Hamiltonian of this system.\n`netket` has built in Hamiltonians."
  },
  {
   "cell_type": "code",
   "execution_count": 19,
   "id": "037626ec",
   "metadata": {},
   "outputs": [],
   "source": [
    "H = nk.operator.Heisenberg(hilbert=hilbert, graph=square_lattice, J = 1.0, sign_rule=False)"
   ]
  },
  {
   "cell_type": "markdown",
   "id": "a5bfe51d",
   "metadata": {},
   "source": [
    "## Exact diagonalization (ED)\n",
    "\n",
    "Since $\\hat H$ is sparse and its dimension is not too big, we can perform ED to get the ground state energy."
   ]
  },
  {
   "cell_type": "code",
   "execution_count": 20,
   "id": "77685555",
   "metadata": {},
   "outputs": [],
   "source": [
    "from scipy.sparse.linalg import eigsh"
   ]
  },
  {
   "cell_type": "code",
   "execution_count": 21,
   "id": "a5ad30a7",
   "metadata": {},
   "outputs": [
    {
     "name": "stdout",
     "output_type": "stream",
     "text": [
      "Ground state energy (exact diagonalization):  -44.91393283371541\n"
     ]
    }
   ],
   "source": [
    "H_sp = H.to_sparse()\n",
    "evals, evecs = eigsh(H_sp, k=1, which='SA')  # 'SA' means smallest algebraic eigenvalue\n",
    "print(\"Ground state energy (exact diagonalization): \", evals[0])"
   ]
  },
  {
   "cell_type": "markdown",
   "id": "f900d372",
   "metadata": {},
   "source": [
    "## Symmetries\n",
    "The Hamiltonian commutes with the set of operators that correspond to a *representation* of the space group of the lattice. From representation theory, we know that we can use the irreducible representations (irreps) of the group to block diagonalize $\\hat H$ and restrict the search for the ground state to a particular irrep. \n",
    "\n",
    "\n",
    "The first step in doing this is to select the relevant group. \n",
    "\n",
    "Here, we will consider the translation group of the lattice. "
   ]
  },
  {
   "cell_type": "code",
   "execution_count": 22,
   "id": "a2942260",
   "metadata": {},
   "outputs": [
    {
     "name": "stdout",
     "output_type": "stream",
     "text": [
      "Id()\n",
      "Translation([0, 1])\n",
      "Translation([0, 2])\n",
      "Translation([0, 3])\n",
      "Translation([1, 0])\n",
      "Translation([1, 1])\n",
      "Translation([1, 2])\n",
      "Translation([1, 3])\n",
      "Translation([2, 0])\n",
      "Translation([2, 1])\n",
      "Translation([2, 2])\n",
      "Translation([2, 3])\n",
      "Translation([3, 0])\n",
      "Translation([3, 1])\n",
      "Translation([3, 2])\n",
      "Translation([3, 3])\n"
     ]
    }
   ],
   "source": [
    "translation_group = square_lattice.translation_group()\n",
    "for g in translation_group: \n",
    "    print(g)"
   ]
  },
  {
   "cell_type": "markdown",
   "id": "11e8f8b2",
   "metadata": {},
   "source": [
    "The elements of `translation_group` correspond to permutations of the lattice sites. "
   ]
  },
  {
   "cell_type": "code",
   "execution_count": 23,
   "id": "3d5d9c7c",
   "metadata": {},
   "outputs": [
    {
     "name": "stdout",
     "output_type": "stream",
     "text": [
      "Permutation corresponding to a translation by R= [0,1]:  [ 1  2  3  0  5  6  7  4  9 10 11  8 13 14 15 12]\n"
     ]
    }
   ],
   "source": [
    "print(\"Permutation corresponding to a translation by R= [0,1]: \", translation_group[1].permutation_array)"
   ]
  },
  {
   "cell_type": "markdown",
   "id": "ff6616a8",
   "metadata": {},
   "source": [
    "We can also view the characters which classify different irreducible representations."
   ]
  },
  {
   "cell_type": "code",
   "execution_count": 24,
   "id": "db25e7ba",
   "metadata": {},
   "outputs": [
    {
     "name": "stdout",
     "output_type": "stream",
     "text": [
      "Second row of the character table: [ 1.+0.j  1.+0.j  1.+0.j  1.+0.j  0.+1.j  0.+1.j  0.+1.j  0.+1.j -1.+0.j\n",
      " -1.+0.j -1.+0.j -1.+0.j  0.-1.j  0.-1.j  0.-1.j  0.-1.j]\n"
     ]
    }
   ],
   "source": [
    "print(\"Second row of the character table:\", translation_group.character_table()[1])"
   ]
  },
  {
   "cell_type": "markdown",
   "id": "dfe2e687",
   "metadata": {},
   "source": [
    "As it turns out, the characters of the translation group can all be written in the form:\n",
    "\n",
    "$$\\chi_{\\vec k}(\\vec R) = e^{i \\vec k \\cdot \\vec R}$$\n",
    "\n",
    "where $\\chi_{\\vec k}(\\vec R)$ is the character corresponding to the translation by a lattice vector $\\vec R$ and $\\vec k$ is a vector in the first Brillouin zone.  \n",
    "\n",
    "In principle, the true ground state may be found at any value of $\\vec k$. However, due to symmetry, we can restrict our search for the ground state to the *irreducible Brillouin zone* (red triangle on the plot below). "
   ]
  },
  {
   "cell_type": "code",
   "execution_count": 25,
   "id": "a49822e1",
   "metadata": {},
   "outputs": [
    {
     "data": {
      "text/plain": [
       "Text(0.5, 1.0, 'Brillouin zone of the square lattice')"
      ]
     },
     "execution_count": 25,
     "metadata": {},
     "output_type": "execute_result"
    },
    {
     "data": {
      "image/png": "[encoded data removed]",
      "text/plain": [
       "<Figure size 640x480 with 1 Axes>"
      ]
     },
     "metadata": {},
     "output_type": "display_data"
    }
   ],
   "source": [
    "import matplotlib.pyplot as plt\n",
    "kx = np.linspace(-np.pi, np.pi, 4+1, endpoint=True)\n",
    "ky = np.linspace(-np.pi, np.pi, 4+1, endpoint=True)\n",
    "\n",
    "Kx, Ky = np.meshgrid(kx, ky)\n",
    "plt.scatter(Kx.flatten(), Ky.flatten(), s=10, color='black')\n",
    "plt.plot([0,np.pi], [0, np.pi], color='r', lw=0.5)\n",
    "plt.plot([0,np.pi], [0, 0], color='r', lw=0.5)\n",
    "plt.plot([np.pi, np.pi], [0, np.pi], color='r', lw=0.5)\n",
    "plt.gca().set_aspect('equal', adjustable='box')\n",
    "plt.xlabel(r'$k_x$')\n",
    "plt.ylabel(r'$k_y$')\n",
    "plt.title('Brillouin zone of the square lattice')"
   ]
  },
  {
   "cell_type": "markdown",
   "id": "133286c9",
   "metadata": {},
   "source": "The next step is to construct `netket.operator` objects from the group elements \nthat can act on the states of the Hilbert space. This is known as a *representation*. For lattice symmetries, `netket` has built in methods\nto construct representations, which is done using the {class}`~netket.symmetry.Representation` class."
  },
  {
   "cell_type": "code",
   "execution_count": 27,
   "id": "fe6b4367",
   "metadata": {},
   "outputs": [],
   "source": [
    "translation_group_representation = square_lattice.translation_group_representation(hilbert=hilbert)"
   ]
  },
  {
   "cell_type": "markdown",
   "id": "19768d92",
   "metadata": {},
   "source": "In `netket`, a {class}`~netket.symmetry.Representation` object can be constructed by specifying a dictionary whose values are the elements of the representation. In this example, the elements of the translation group may be represented by {class}`~netket.operator.PermutationOperator` objects. These encode how permutations of the lattice sites act on the local degrees of freedom of the Hilbert space. \n\nFor more details on the mathematical foundations of permutation operators, see the [symmetry documentation](../advanced/symmetry.md).\n\n\nThey are equipped with a `get_conn_padded` method, allowing them to act on states of the basis. \n\nIn the next section, we will discuss in more detail how to construct {class}`~netket.symmetry.Representation` for custom groups."
  },
  {
   "cell_type": "markdown",
   "id": "ee4bedee",
   "metadata": {},
   "source": [
    "## VMC\n",
    "\n",
    "Within the VMC scheme, wavefunction amplitudes may be made symmetric with respect to a particular group $G$ and irrep $\\mu$ using the following projection formula:\n",
    "\n",
    "$$\\psi_\\mu(x) = \\frac{d_\\mu}{|G|} \\sum_{g \\in G} \\chi_\\mu^\\ast(g) \\psi( g^{-1}x)$$\n",
    "where $x$ is the encoding of a basis state, $d_\\mu$ is the dimension of the irrep, $|G|$ is the number of elements in the group, $\\chi_\\mu(g)$ is the character of the representation evaluated on element $g$ and $\\hat U_g$ is the representation of $g$ on the Hilbert space. Here $\\psi(g^{-1}x)$ is the *left action* of element $g$ on the state $x$. \n",
    "\n",
    "In the context of permutations and spin systems, we can view $g$ as a function from $\\{0,\\ldots, n-1\\} \\to \\{0, \\ldots, n-1\\}$ and $x$ as a function from $\\{0,\\ldots, n-1\\} \\to \\{0,1\\}$ such that the left action is the composition:\n",
    "\n",
    "\n",
    "$$\\psi(g^{-1}x) = \\psi(x \\circ g)$$ \n",
    "\n",
    "For more mathematical details on permutations and their representations, see the [symmetry documentation](../advanced/symmetry.md).\n",
    "\n",
    "In the following, we will compare the performance of an unsymmetrized ansatz versus a symmetrized one."
   ]
  },
  {
   "cell_type": "code",
   "execution_count": null,
   "id": "a713fa8d",
   "metadata": {},
   "outputs": [],
   "source": [
    "import netket.nn as nknn\n",
    "import flax.linen as nn\n",
    "import jax.numpy as jnp\n",
    "from netket.experimental.driver import VMC_SR\n",
    "\n",
    "\n",
    "class FFNN(nn.Module):\n",
    "    @nn.compact\n",
    "    def __call__(self, x):\n",
    "        x = nn.Dense(\n",
    "            features=2 * x.shape[-1],\n",
    "            use_bias=True,\n",
    "            param_dtype=np.complex128,\n",
    "            kernel_init=nn.initializers.normal(stddev=0.01),\n",
    "            bias_init=nn.initializers.normal(stddev=0.01),\n",
    "        )(x)\n",
    "        x = nknn.log_cosh(x)\n",
    "        x = jnp.sum(x, axis=-1)\n",
    "        return x"
   ]
  },
  {
   "cell_type": "code",
   "execution_count": 44,
   "id": "b7fbcac3",
   "metadata": {},
   "outputs": [],
   "source": [
    "model = FFNN()\n",
    "sampler = nk.sampler.MetropolisLocal(hilbert=hilbert) #Metropolis-Hastings local sampler\n",
    "optimizer = nk.optimizer.Sgd(learning_rate=5e-3) #stochastic gradient descent optimizer\n",
    "solver  = nk.optimizer.solver.cholesky #linear solver for the SR equations\n",
    "diag_shift = 1e-6"
   ]
  },
  {
   "cell_type": "code",
   "execution_count": 45,
   "id": "43bf54ae",
   "metadata": {},
   "outputs": [
    {
     "name": "stdout",
     "output_type": "stream",
     "text": [
      "Automatic SR implementation choice:  NTK\n"
     ]
    },
    {
     "data": {
      "application/vnd.jupyter.widget-view+json": {
       "model_id": "22acd1656a384f32a2f953b13f6f49ed",
       "version_major": 2,
       "version_minor": 0
      },
      "text/plain": [
       "  0%|          | 0/300 [00:00<?, ?it/s]"
      ]
     },
     "metadata": {},
     "output_type": "display_data"
    },
    {
     "data": {
      "text/plain": [
       "(RuntimeLog():\n",
       "  keys = ['acceptance', 'Energy'],)"
      ]
     },
     "execution_count": 45,
     "metadata": {},
     "output_type": "execute_result"
    }
   ],
   "source": [
    "#train the unsymmetrized model\n",
    "unsymmetrized_log = nk.logging.RuntimeLog()\n",
    "unsymmetrized_vstate = nk.vqs.MCState(sampler, model, n_samples = 512, seed=seed)\n",
    "driver = VMC_SR(hamiltonian=H, optimizer=optimizer, linear_solver_fn=solver, variational_state=unsymmetrized_vstate, diag_shift=diag_shift)\n",
    "driver.run(n_iter=300, out=unsymmetrized_log)\n"
   ]
  },
  {
   "cell_type": "markdown",
   "id": "d2b8655f",
   "metadata": {},
   "source": "To construct a symmetry projected wavefunction in netket, we use `project` method of the {class}`~netket.symmetry.Representation` class. \nThis method takes in a variational state as well as the integer correspond to the id of the irrep. It converts a state $\\psi$ to the symmetrized one $\\psi_\\mu$ by implementing the projection described above."
  },
  {
   "cell_type": "code",
   "execution_count": 46,
   "id": "9a587741",
   "metadata": {},
   "outputs": [],
   "source": [
    "vstate=nk.vqs.MCState(sampler, model, n_samples = 512, seed=seed) #reinitialize the variational state to symmetrize it\n",
    "translation_symmetric_vstate = translation_group_representation.project(state=vstate, character_index=0) #project on the trivial represention"
   ]
  },
  {
   "cell_type": "markdown",
   "id": "f021c945",
   "metadata": {},
   "source": [
    "Then we just run the optimization as usual!"
   ]
  },
  {
   "cell_type": "code",
   "execution_count": 47,
   "id": "85188a72",
   "metadata": {},
   "outputs": [
    {
     "name": "stdout",
     "output_type": "stream",
     "text": [
      "Automatic SR implementation choice:  NTK\n"
     ]
    },
    {
     "data": {
      "application/vnd.jupyter.widget-view+json": {
       "model_id": "fbf09ec5b4464c648380ea5a9fcb4300",
       "version_major": 2,
       "version_minor": 0
      },
      "text/plain": [
       "  0%|          | 0/300 [00:00<?, ?it/s]"
      ]
     },
     "metadata": {},
     "output_type": "display_data"
    },
    {
     "data": {
      "text/plain": [
       "(RuntimeLog():\n",
       "  keys = ['acceptance', 'Energy'],)"
      ]
     },
     "execution_count": 47,
     "metadata": {},
     "output_type": "execute_result"
    }
   ],
   "source": [
    "driver = VMC_SR(hamiltonian=H, optimizer=optimizer, linear_solver_fn=solver, variational_state=translation_symmetric_vstate, diag_shift=diag_shift)\n",
    "driver.run(n_iter=300, out=nk.logging.RuntimeLog()) #takes a bit of time to run"
   ]
  },
  {
   "cell_type": "markdown",
   "id": "6cc6eea4",
   "metadata": {},
   "source": [
    "**Important**\n",
    "In general, the ground state is not necessarily in the trivial sector. In practice, all relevant sectors should be scanned to find which one is energetically favorable. \n",
    "In the case of the translation group, this means all the points in the irreducible Brillouin zone should be checked. \n",
    "\n",
    "We can now compare the performance of the two models. "
   ]
  },
  {
   "cell_type": "code",
   "execution_count": 48,
   "id": "617d8f16",
   "metadata": {},
   "outputs": [
    {
     "name": "stdout",
     "output_type": "stream",
     "text": [
      "Energy without symmetrization: -36.8172 Relative error without symmetrization: 18.0273 %\n",
      "Energy with symmetrization in the trivial irrep: -44.7956 Relative error with symmetrization in the trivial irrep: 0.2636 %\n"
     ]
    }
   ],
   "source": [
    "def relative_error(approx, exact):\n",
    "    return np.abs((approx - exact) / exact)\n",
    "\n",
    "E_no_symm = float(unsymmetrized_vstate.expect(H).mean.real)\n",
    "E_symm = float(translation_symmetric_vstate.expect(H).mean.real)\n",
    "\n",
    "print(\"Energy without symmetrization: {:.4f} Relative error without symmetrization: {:.4f} %\".format(E_no_symm, 100*relative_error(E_no_symm, evals[0])))\n",
    "print(\"Energy with symmetrization in the trivial irrep: {:.4f} Relative error with symmetrization in the trivial irrep: {:.4f} %\".format(E_symm, 100*relative_error(E_symm, evals[0])))   "
   ]
  },
  {
   "cell_type": "markdown",
   "id": "8d91ae00",
   "metadata": {},
   "source": "## Implementing custom symmetries\nThe Heisenberg Hamiltonian also commutes with the spin flip operator:\n\n$$\\hat \\sigma^x = \\bigotimes_i \\hat \\sigma_i^x$$\n\nThe set of operators $\\hat I, \\hat \\sigma^x$ form a representation of the group $\\mathbb Z_2$\n\nIn this part of the tutorial, we will see how to construct a representation of this group in `netket` on our spin Hilbert space.\n\nThe {class}`~netket.symmetry.Representation` class needs two fundamental things to function:\n\n* A {class}`~netket.utils.group.FiniteGroup` object. This just the group. \n* A `dict` object mapping elements of the group to operators on the Hilbert space. \n\nThe group $\\mathbb Z_2$ is just a set with 2 elements  $\\{e, g\\}$ with one rule: $g^2= e$. A simple example of a group that follows this blueprint is the symmetric group $\\mathcal S_2.$ This group can be implemented in `netket` using the {class}`~netket.utils.group.PermutationGroup` class."
  },
  {
   "cell_type": "code",
   "execution_count": 50,
   "id": "cd79c722",
   "metadata": {},
   "outputs": [],
   "source": [
    "from netket.utils.group import PermutationGroup, Permutation\n",
    "from netket.symmetry import Representation"
   ]
  },
  {
   "cell_type": "code",
   "execution_count": 52,
   "id": "fc9ec34c",
   "metadata": {},
   "outputs": [],
   "source": [
    "e = np.array([0,1])\n",
    "g = np.array([1,0])\n",
    "group = PermutationGroup(elems=[Permutation(permutation_array=e, name='Identity()'), Permutation(permutation_array=g, name=\"SpinFlip()\")], degree = 2)"
   ]
  },
  {
   "cell_type": "markdown",
   "id": "cfc47e64",
   "metadata": {},
   "source": "In  `netket`, {class}`~netket.utils.group.Permutation` objects can be instantiated either by passing the permutation itself or the inverse permutation. To avoid potential confusions, this needs to be explicit. \n\nFrom the `group` variable, which is a {class}`~netket.utils.group.PermutationGroup` object, we can extract the characters, etc..."
  },
  {
   "cell_type": "code",
   "execution_count": 53,
   "id": "cfc554fa",
   "metadata": {},
   "outputs": [
    {
     "data": {
      "text/plain": [
       "array([[ 1.,  1.],\n",
       "       [ 1., -1.]])"
      ]
     },
     "execution_count": 53,
     "metadata": {},
     "output_type": "execute_result"
    }
   ],
   "source": [
    "group.character_table()\n"
   ]
  },
  {
   "cell_type": "markdown",
   "id": "80fa90bf",
   "metadata": {},
   "source": [
    "Next, we need to define the operators $\\hat I$ and $\\hat \\sigma^x$ which furnish the representation of our group on the spin Hilbert space"
   ]
  },
  {
   "cell_type": "code",
   "execution_count": null,
   "id": "85e36836",
   "metadata": {},
   "outputs": [],
   "source": "from netket.operator.spin import sigmax"
  },
  {
   "cell_type": "code",
   "execution_count": null,
   "id": "81303831",
   "metadata": {},
   "outputs": [],
   "source": "spin_flip = nk.operator.PauliStrings(hilbert, \"X\"*square_lattice.n_nodes)\n\nidentity = nk.operator.spin.identity(hilbert=hilbert) #identity operator"
  },
  {
   "cell_type": "markdown",
   "id": "e2647d17",
   "metadata": {},
   "source": [
    "To check that this all works as expected, recall that the states of the computational basis of our spin $1/2$ system are encoded as `jax.Array` objects:\n",
    "\n",
    "* `array[i]` refers to the spin on the $i$th site. \n",
    "* ` array[i] = -1` for spin down or `+1`for spin up\n",
    "\n",
    "Therefore, we can generate a random state of the basis and apply our spin flip operator to it using the `get_conn_padded` method. \n",
    "The resulting array should send all $-1$ to $1$ and $1$ to $-1$ in the original array. "
   ]
  },
  {
   "cell_type": "code",
   "execution_count": 56,
   "id": "328e752c",
   "metadata": {},
   "outputs": [
    {
     "name": "stdout",
     "output_type": "stream",
     "text": [
      "Original state:  [[ 1  1  1  1 -1 -1 -1 -1  1  1  1 -1 -1 -1 -1 -1]]\n",
      "State after spin flip:  [[[-1 -1 -1 -1  1  1  1  1 -1 -1 -1  1  1  1  1  1]]]\n",
      "Sum of element-wise entries: [[[0 0 0 0 0 0 0 0 0 0 0 0 0 0 0 0]]]\n"
     ]
    }
   ],
   "source": [
    "state = hilbert.random_state(key=seed, size=1) #generate a random state of the basis\n",
    "new_state, matrix_element = spin_flip.get_conn_padded(state)\n",
    "print(\"Original state: \", state)\n",
    "print(\"State after spin flip: \", new_state)\n",
    "\n",
    "print(\"Sum of element-wise entries:\", new_state + state)"
   ]
  },
  {
   "cell_type": "markdown",
   "id": "a318d580",
   "metadata": {},
   "source": "Now we create our dictionnary and pass it to instantiate a {class}`~netket.symmetry.Representation` object. Note that the keys of the dictionnary must be identical to the elements of the `group` argument."
  },
  {
   "cell_type": "code",
   "execution_count": 58,
   "id": "3a114417",
   "metadata": {},
   "outputs": [],
   "source": [
    "representation_dict = {group[0]: identity, group[1]: spin_flip}\n",
    "spin_flip_representation = Representation(group=group, representation_dict=representation_dict)"
   ]
  },
  {
   "cell_type": "markdown",
   "id": "f2e6d588",
   "metadata": {},
   "source": [
    "Now we can optimize a new vstate which is symmetric with respect to this group."
   ]
  },
  {
   "cell_type": "code",
   "execution_count": 62,
   "id": "1036244b",
   "metadata": {},
   "outputs": [
    {
     "name": "stdout",
     "output_type": "stream",
     "text": [
      "Automatic SR implementation choice:  NTK\n"
     ]
    },
    {
     "data": {
      "application/vnd.jupyter.widget-view+json": {
       "model_id": "58790ffeb9f74f459a475ff86bd2f0d1",
       "version_major": 2,
       "version_minor": 0
      },
      "text/plain": [
       "  0%|          | 0/300 [00:00<?, ?it/s]"
      ]
     },
     "metadata": {},
     "output_type": "display_data"
    },
    {
     "data": {
      "text/plain": [
       "(RuntimeLog():\n",
       "  keys = ['acceptance', 'Energy'],)"
      ]
     },
     "execution_count": 62,
     "metadata": {},
     "output_type": "execute_result"
    }
   ],
   "source": [
    "vstate=nk.vqs.MCState(sampler, model, n_samples = 512, seed=seed) #reinitialize the variational state to symmetrize it\n",
    "spin_flip_symmetric_vstate = spin_flip_representation.project(state=vstate, character_index=0) #project on the trivial represention\n",
    "\n",
    "driver = VMC_SR(hamiltonian=H, optimizer=optimizer, linear_solver_fn=solver, variational_state=spin_flip_symmetric_vstate, diag_shift=diag_shift)\n",
    "driver.run(n_iter=300, out=nk.logging.RuntimeLog())"
   ]
  },
  {
   "cell_type": "code",
   "execution_count": 64,
   "id": "09c5e75f",
   "metadata": {},
   "outputs": [
    {
     "name": "stdout",
     "output_type": "stream",
     "text": [
      "Energy with symmetrization in the trivial irrep of the spin flip group: -43.8069 Relative error with symmetrization in the trivial irrep of the spin flip group: 2.4648 %\n"
     ]
    }
   ],
   "source": [
    "E_spin_flip = float(spin_flip_symmetric_vstate.expect(H).mean.real)\n",
    "print(\"Energy with symmetrization in the trivial irrep of the spin flip group: {:.4f} Relative error with symmetrization in the trivial irrep of the spin flip group: {:.4f} %\".format(E_spin_flip, 100*relative_error(E_spin_flip, evals[0])))"
   ]
  },
  {
   "cell_type": "markdown",
   "id": "f14bc96a",
   "metadata": {},
   "source": [
    "## Combining representations\n",
    "When we have two commuting groups, $G_1$ and $G_2$ and two representations $\\hat U$ and $\\hat V$ on the same vector space $\\mathcal{H}$, \n",
    "we can define the following *product* representation $\\hat \\Gamma$ from $G_1 \\times G_2 \\to \\mathcal{H}$  such that $\\hat \\Gamma(g_1 g_2) = \\hat U_{g_1} \\hat V_{g_2}$\n",
    "As it turns out, characters of the irreps of $\\hat \\Gamma$, satisfy $\\chi_{\\mu, \\nu}(g_1 g_2) = \\chi_\\mu(g_1) \\chi_\\nu(g_2)$  where $\\chi_\\mu(g_1)$ (resp. $\\chi_\\nu(g_2)$) are the characters of the irreps of $\\hat U$ (resp. $\\hat V$) evaluated on element $g_1$ (resp. $g_2$). \n",
    "\n",
    "We can apply this to the translation group and the spin-flip group! \n",
    "Essentially, we can combine these two groups and classify the eigenstates by their momentum and their spin flip parity. \n",
    "To do this in `netket`, we first project the state onto an irrep of one group then do another projection onto the other group. "
   ]
  },
  {
   "cell_type": "code",
   "execution_count": 66,
   "id": "c628ad21",
   "metadata": {},
   "outputs": [],
   "source": [
    "vstate=nk.vqs.MCState(sampler, model, n_samples = 512, seed=seed) #fresh vstate\n",
    "projector_T = translation_group_representation.projector(character_index=0) #projector on the trivial representation\n",
    "projector_S = spin_flip_representation.projector(character_index=0) #projector on the trivial representation\n",
    "\n",
    "projector_ST = projector_S @ projector_T #combine the two projectors"
   ]
  },
  {
   "cell_type": "code",
   "execution_count": 67,
   "id": "32225356",
   "metadata": {},
   "outputs": [
    {
     "name": "stdout",
     "output_type": "stream",
     "text": [
      "Automatic SR implementation choice:  NTK\n"
     ]
    },
    {
     "data": {
      "application/vnd.jupyter.widget-view+json": {
       "model_id": "730b1444028b4dffb60263256bdcdff3",
       "version_major": 2,
       "version_minor": 0
      },
      "text/plain": [
       "  0%|          | 0/150 [00:00<?, ?it/s]"
      ]
     },
     "metadata": {},
     "output_type": "display_data"
    },
    {
     "data": {
      "text/plain": [
       "(RuntimeLog():\n",
       "  keys = ['acceptance', 'Energy'],)"
      ]
     },
     "execution_count": 67,
     "metadata": {},
     "output_type": "execute_result"
    }
   ],
   "source": [
    "from netket._src.vqs.transformed_vstate import apply_operator\n",
    "\n",
    "trans_and_spin_symmetric_vstate = apply_operator(projector_ST, vstate) #apply the combined projector to the vstate\n",
    "driver = VMC_SR(hamiltonian=H, optimizer=optimizer, linear_solver_fn=solver, variational_state=trans_and_spin_symmetric_vstate, diag_shift=diag_shift)\n",
    "driver.run(n_iter=150, out=nk.logging.RuntimeLog()) #150 steps since it will take longer to run"
   ]
  },
  {
   "cell_type": "code",
   "execution_count": 68,
   "id": "77df708f",
   "metadata": {},
   "outputs": [
    {
     "name": "stdout",
     "output_type": "stream",
     "text": [
      "Energy without symmetrization: -36.8172 Relative error: 18.0273 %\n",
      "Energy with symmetrization in the trivial irrep of the spin flip group: -43.8069 Relative error: 2.4648 %\n",
      "Energy with symmetrization in the trivial irrep of the translation group: -44.7956 Relative error: 0.2636 %\n",
      "Energy with symmetrization in the trivial irrep of the product group: -44.8142 Relative error: 0.2220 %\n"
     ]
    }
   ],
   "source": [
    "E_product = float(trans_and_spin_symmetric_vstate.expect(H).mean.real)\n",
    "\n",
    "\n",
    "print(\"Energy without symmetrization: {:.4f} Relative error: {:.4f} %\".format(E_no_symm, 100*relative_error(E_no_symm, evals[0])))\n",
    "print(\"Energy with symmetrization in the trivial irrep of the spin flip group: {:.4f} Relative error: {:.4f} %\".format(E_spin_flip, 100*relative_error(E_spin_flip, evals[0])))\n",
    "print(\"Energy with symmetrization in the trivial irrep of the translation group: {:.4f} Relative error: {:.4f} %\".format(E_symm, 100*relative_error(E_symm, evals[0])))   \n",
    "print(\"Energy with symmetrization in the trivial irrep of the product group: {:.4f} Relative error: {:.4f} %\".format(E_product, 100*relative_error(E_product, evals[0])))"
   ]
  },
  {
   "cell_type": "markdown",
   "id": "d31b4334",
   "metadata": {},
   "source": "## Extension to fermionic systems\n\nThe concepts we've discussed so far naturally extend to fermionic systems, but there are two subtleties to bear in mind:\n\n* On top of \"spatial\" degrees of freedom, fermionic Hilbert spaces may have additional degrees of freedom, like spin. \n* Fermionic states are antisymmetric with respect to particle exchange. \n\nIn `netket` fermionic Hilbert spaces are handled by the {class}`~netket.hilbert.SpinOrbitalFermions` class.\nLet's define a  spin $1/2$ fermion Hilbert space on the square lattice."
  },
  {
   "cell_type": "code",
   "execution_count": 69,
   "id": "529fe230",
   "metadata": {},
   "outputs": [
    {
     "name": "stdout",
     "output_type": "stream",
     "text": [
      "Size of basis states:  32\n"
     ]
    }
   ],
   "source": [
    "fermion_hilbert = nk.hilbert.SpinOrbitalFermions(n_orbitals=square_lattice.n_nodes, s = 1/2, n_fermions_per_spin=(8,8)) #half-filling, zero spin\n",
    "print(\"Size of basis states: \", fermion_hilbert.size)"
   ]
  },
  {
   "cell_type": "markdown",
   "id": "5f91a772",
   "metadata": {},
   "source": "So we need 32 occupation numbers to specify a state on the 16 site lattice. \n\nThis is because  {class}`~netket.hilbert.SpinOrbitalFermions`' factorization is such that the first `n_orbitals` entries correspond to the occupations of spin sector `0` and so on. \nTherefore, a permutation of physical sites must be extended to match `hilbert.size`. \n\nLet's do a quick example with the translation operator."
  },
  {
   "cell_type": "code",
   "execution_count": 70,
   "id": "a0ec039c",
   "metadata": {},
   "outputs": [
    {
     "name": "stdout",
     "output_type": "stream",
     "text": [
      "Extended permutation corresponding to a translation by R= [0,1]:  [ 1  2  3  0  5  6  7  4  9 10 11  8 13 14 15 12 17 18 19 16 21 22 23 20\n",
      " 25 26 27 24 29 30 31 28]\n"
     ]
    }
   ],
   "source": [
    "T1_perm = translation_group[1].permutation_array\n",
    "T1_perm_extended = np.concatenate([T1_perm, T1_perm + fermion_hilbert.n_orbitals]) #extend the permutation to the second spin sector\n",
    "print(\"Extended permutation corresponding to a translation by R= [0,1]: \", T1_perm_extended)"
   ]
  },
  {
   "cell_type": "markdown",
   "id": "eb40ea53",
   "metadata": {},
   "source": "As it turns out, the correct way to define the representation $\\hat U$ of a permutation group $G$ on a fermionic Hilbert space is by the following: for all $g\\in G$ and basis states $|n\\rangle$,\n\n$$\\hat U_g |n\\rangle  = \\xi_g(n) |n \\circ g^{-1} \\rangle $$\n\nwhere $\\xi_g(n)$ is the sign resulting from applying the permutation to the state $|n\\rangle$. This sign is ultimately a consequence of the anti-commutation relations obeyed by the fermionic operators. More details can be found in the [symmetry documentation](../advanced/symmetry.md).\n\n\nThe {class}`~netket.operator.PermutationOperatorFermion` class is a good tool to hand representations of permutation groups on fermionic spaces. This class works similarly to {class}`~netket.operator.PermutationOperator` but its  `get_conn_padded` method also computes the sign."
  },
  {
   "cell_type": "code",
   "execution_count": 71,
   "id": "88361d1e",
   "metadata": {},
   "outputs": [
    {
     "name": "stdout",
     "output_type": "stream",
     "text": [
      "Matrix elements:  [[ 1.]\n",
      " [-1.]\n",
      " [ 1.]\n",
      " [-1.]\n",
      " [-1.]]\n"
     ]
    }
   ],
   "source": [
    "from netket.operator.permutation import PermutationOperatorFermion\n",
    "\n",
    "T1_fermion_perm = Permutation(permutation_array=T1_perm_extended, name=\"T[0,1]\")\n",
    "T1_fermion_op = PermutationOperatorFermion(fermion_hilbert, T1_fermion_perm)\n",
    "\n",
    "#apply the operator to a batch of basis \n",
    "states = fermion_hilbert.random_state(key=seed, size=5)\n",
    "new_states, matrix_elements = T1_fermion_op.get_conn_padded(states)\n",
    "print(\"Matrix elements: \", matrix_elements)"
   ]
  },
  {
   "cell_type": "markdown",
   "id": "d43b2184",
   "metadata": {},
   "source": "As you can see, some of the matrix elements are $-1$. \n\n\nFortunately, for lattice permutation symmetries, `netket` can automatically construct {class}`~netket.symmetry.Representation` objects on fermionic spaces, \nwithout needing to manually extend the permutations. \n\nThis is done by passing a {class}`~netket.hilbert.SpinOrbitalFermions` Hilbert space into `lattice.mygroup_representation` where `mygroup` is one of `translation_group()`, `rotation_group()`, `point_group()` or `space_group()`."
  },
  {
   "cell_type": "code",
   "execution_count": 72,
   "id": "75f86a56",
   "metadata": {},
   "outputs": [
    {
     "name": "stdout",
     "output_type": "stream",
     "text": [
      "The matrix elements are the same!\n",
      "The new states are the same!\n"
     ]
    }
   ],
   "source": [
    "fermi_translation_group_rep = square_lattice.translation_group_representation(hilbert=fermion_hilbert)\n",
    "T01 = fermi_translation_group_rep.operators[1]\n",
    "\n",
    "states_2, matrix_elements_2 = T01.get_conn_padded(states)\n",
    "\n",
    "if np.all(matrix_elements == matrix_elements_2):\n",
    "    print(\"The matrix elements are the same!\")\n",
    "\n",
    "if np.all(new_states == states_2):\n",
    "    print(\"The new states are the same!\")"
   ]
  }
 ],
 "metadata": {
  "kernelspec": {
   "display_name": "netket",
   "language": "python",
   "name": "netket"
  },
  "language_info": {
   "codemirror_mode": {
    "name": "ipython",
    "version": 3
   },
   "file_extension": ".py",
   "mimetype": "text/x-python",
   "name": "python",
   "nbconvert_exporter": "python",
   "pygments_lexer": "ipython3",
   "version": "3.12.7"
  }
 },
 "nbformat": 4,
 "nbformat_minor": 5
}