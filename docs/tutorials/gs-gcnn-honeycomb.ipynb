{
 "cells": [
  {
   "cell_type": "markdown",
   "id": "74190a36",
   "metadata": {
    "id": "74190a36"
   },
   "source": [
    "# Symmetries: Honeycomb Heisenberg model\n",
    "\n",
    "The goal of this tutorial is to learn about group convolutional neural networks (G-CNNs), a useful tool for simulating lattices with high symmetry. \n",
    "The G-CNN is a generalization to the convolutional neural network (CNN) to non-abelian symmetry groups (groups that contain at least one pair of non-commuting elements). \n",
    "G-CNNs are a natural fit for lattices that have both point group and translational symmetries, as rotations, reflections and translations don't commute with one-another.\n",
    "G-CNN can be used to study both the ground-state and excited-states.\n",
    "\n",
    "In this tutorial we will learn the ground state of the antiferromagnetic Heisenberg model on  the honeycomb lattice. The Heisenberg Hamiltonian is defined as follows:\n",
    "\n",
    "$$ H = \\sum_{i,j \\in \\langle \\rangle} \\vec{\\sigma}_{i} \\cdot \\vec{\\sigma}_{j},$$\n",
    "\n",
    "where $\\vec{\\sigma}_{i}$ are Pauli matrices and $<>$ denotes nearest neighbor interactions. \n",
    "\n",
    "For this tutorial, many of the calculations will be much faster on a GPU. \n",
    "If you don't have access to a GPU, you can open a [Google Colab](https://colab.research.google.com/) notebook, and set runtime type to GPU. \n",
    "To launch this notebook on Colab simply press the rocket button on the top bar.\n",
    "\n",
    "This tutorial wil be split into two parts:\n",
    " - First I'll provide a brief introduction to G-CNNs and describe what advantages they bring. \n",
    " - Second, we'll use NetKet to find the ground state of the antiferromagnetic Heisenberg model on the honeycomb lattice. First we will simulate a lattice with $N=18$ sites in order to compare with exact diagonalization. Then we will simulate a lattice with $N=72$ sites. "
   ]
  },
  {
   "cell_type": "markdown",
   "id": "acf6606d",
   "metadata": {
    "id": "acf6606d"
   },
   "source": [
    "## G-CNNs are generalizations of CNNs to non-abelian groups\n",
    "\n",
    "The convolutional neural network (CNN) has revolutionized the field of computer vision. The CNN enforces translational invariance, which means that feeding a CNN translated copies of an image will produce the exact same output. This is important for recognizing objects, which may located differently in different images.\n",
    "\n",
    "The  hidden layers of a CNN contain a group of ${\\bf features}$, corresponding to translations of the image, where each feature is represented by a vector. At each layer, the CNN integrates over these features to produce a different set of features over the translation group:\n",
    "\n",
    "$$ C^i_{x,y} = \\sum_h {\\bf W}_{x'-x, y'-y} \\cdot {\\bf f}_{x,y} $$\n",
    "\n",
    "As you can see, the index of the filter W is based on the displacement between the input feature {x',y'} and the output feature {x, y}. This is known as an equivariant operation, as displacements in the input are propagated as displacements in the output (equivariance is actually bit more general, we'll get to that in a moment). In the last layer, the CNN averages over these different features, forcing the output to be invariant to the input. \n",
    "\n",
    "To generalize the CNN to the G-CNN, lets abstract away from the specifics of the convolution. Instead of indexing the features with translations, we will use elements from a general symmetry group which may contain non-commuting operations. In this case we must define a particular order of operations. For example, we could define an operation in the $p6m$ space group, as a translation, followed by a rotation and a reflection about the origin. Non-abelian groups still maintain associativity and a closed algebra. This is easy to see with lattice symmetry groups. If two successive symmetry operations leave the lattice unchanged, applying both must also leave the lattice unchanged and therefore be symmetry operation in the group. \n",
    "\n",
    "For G-convolutions, the building blocks of the G-CNN, this algebra is all we need. The G-convolution also indexes the filters by looking at the \"difference\" between group elements, however this time there is an orientation to it. The G-convolution is defined as follows: \n",
    "\n",
    "$$ C^i_g = \\sum_h {\\bf W}_{g^{-1} h} \\cdot {\\bf f}_h $$\n",
    "\n",
    "The filters are indexed by $g^{-1} h$, which describes the mapping from $g \\rightarrow h$ but not vice-versa. This causes the output to be an ${\\bf involution}$ of the input, meaning that the group elements are mapped to their respective inverses.\n",
    "\n",
    "G-convolutions are the most expressive linear transformation over a particular symmetry group. Therefore, if you want to define a linear-based model with a particular symmetry, G-CNNs maximize the number of parameters you can fit into a given memory profile. G-CNNs can be mapped down to other symmetry-averaged multi-layer linear models by masking filters (setting them to zero). On the Honeycomb lattice, the G-CNN (approximately) has a factor of 12 more parameters than a CNN averaged over $d_6$ and a factor of $12 N$ more parameters than a feedforward neural network averaged over $p6m$ (where N is the number of sites) under an identical memory constraint. \n",
    "\n",
    "If you'd like to learn more about G-CNNs, check out the [original paper](http://proceedings.mlr.press/v48/cohenc16.pdf) by Cohen ${\\it et \\ al.}$ or [this paper](https://arxiv.org/pdf/2104.05085.pdf) by Roth ${\\it et \\ al.}$ that applies G-CNNs to quantum many-body systems."
   ]
  },
  {
   "cell_type": "code",
   "execution_count": null,
   "id": "33bf8c3c-998a-4414-83b0-ef4d3d397ca4",
   "metadata": {},
   "outputs": [
    {
     "name": "stdout",
     "output_type": "stream",
     "text": [
      "\u001b[33mWARNING: You are using pip version 22.0.2; however, version 22.0.3 is available.\n",
      "You should consider upgrading via the '/home/filippovicentini/Documents/pythonenvs/utils-jupuyterlab/bin/python -m pip install --upgrade pip' command.\u001b[0m\u001b[33m\n",
      "\u001b[0mNote: you may need to restart the kernel to use updated packages.\n"
     ]
    }
   ],
   "source": [
    "%pip install --quiet netket"
   ]
  },
  {
   "cell_type": "code",
   "execution_count": null,
   "id": "4291e426",
   "metadata": {
    "id": "4291e426"
   },
   "outputs": [],
   "source": [
    "import netket as nk\n",
    "\n",
    "# Import Json, this will be needed to examine log files\n",
    "import json\n",
    "\n",
    "# Helper libraries\n",
    "import numpy as np\n",
    "import matplotlib.pyplot as plt"
   ]
  },
  {
   "cell_type": "markdown",
   "id": "f31538da",
   "metadata": {
    "id": "f31538da"
   },
   "source": [
    "## Defining the Hamiltonian\n",
    "\n",
    "We begin by defining the Hamiltonian as a list of lattice points. NetKet will automatically convert these points into a graph with nearest neighbor connections. The honeycomb lattice is a triangular lattice with two sites per unit cell."
   ]
  },
  {
   "cell_type": "code",
   "execution_count": null,
   "id": "863df491",
   "metadata": {
    "id": "863df491"
   },
   "outputs": [],
   "source": [
    "#Basis Vectors that define the positioning of the unit cell\n",
    "basis_vectors = [[0,1],[np.sqrt(3)/2,-1/2]]\n",
    "\n",
    "#Locations of atoms within the unit cell\n",
    "atom_positions = [[0,0],[np.sqrt(3)/6,1/2]]\n",
    "\n",
    "#Number of unit cells in each direction\n",
    "dimensions = [3,3]\n",
    "\n",
    "#Define the graph \n",
    "graph = nk.graph.Lattice(basis_vectors=basis_vectors, \n",
    "                         atoms_coord = atom_positions, \n",
    "                         extent = dimensions\n",
    "                        )"
   ]
  },
  {
   "cell_type": "markdown",
   "id": "07c7ee5f",
   "metadata": {
    "id": "07c7ee5f"
   },
   "source": [
    "Lets check to see if our graph looks as expected. Since we have two sites per unit cell, we should have $3 \\times 3 \\times 2 = 18$ sites. The coordination number of a hexagonal lattice is 3, so we should have $\\frac{18 \\times 3}{2} = 27$ edges. Finally we have p6m symmetry, which should give ue $3 \\times 3 \\times 12 = 108$ symmetry operations."
   ]
  },
  {
   "cell_type": "code",
   "execution_count": null,
   "id": "53035660",
   "metadata": {
    "colab": {
     "base_uri": "https://localhost:8080/"
    },
    "id": "53035660",
    "outputId": "7ab92adc-1828-421e-95a9-bffcca4f131c"
   },
   "outputs": [
    {
     "name": "stdout",
     "output_type": "stream",
     "text": [
      "18\n",
      "27\n",
      "216\n"
     ]
    }
   ],
   "source": [
    "#Use Netket to find symmetries of the graph\n",
    "symmetries = graph.automorphisms()\n",
    "\n",
    "#Check that graph info is correct\n",
    "print(graph.n_nodes)\n",
    "print(graph.n_edges)\n",
    "print(len(symmetries))"
   ]
  },
  {
   "cell_type": "markdown",
   "id": "6b381714",
   "metadata": {
    "id": "6b381714"
   },
   "source": [
    "Oops! It looks like we have twice as many symmetries elements as we thought. Luckily for us, the ground state is still symmetric with respect to this extra symmetry that is unique to the $3 \\times 3$ lattice. We use this graph to define our Hilbert space and Hamiltonian:"
   ]
  },
  {
   "cell_type": "code",
   "execution_count": null,
   "id": "072f0470",
   "metadata": {
    "id": "072f0470"
   },
   "outputs": [],
   "source": [
    "# Define the Hilbert space\n",
    "hi = nk.hilbert.Spin(s=1 / 2, N=graph.n_nodes, total_sz = 0)\n",
    "\n",
    "#Define the Hamiltonian\n",
    "ha = nk.operator.Heisenberg(hilbert=hi, graph=graph, sign_rule=True)"
   ]
  },
  {
   "cell_type": "markdown",
   "id": "053d242b",
   "metadata": {
    "id": "053d242b"
   },
   "source": [
    "Since the Hexagonal lattice is bipartite, we know the phases obey a Marshall-Peierls sign rule. Therefore, we can use a real valued NN and just learn the amplitudes of the wavefunction. \n",
    "\n",
    "For models with a more complicated phase structure, its often better to learn the phases in an equal-amplitude configuration before training the amplitudes as detailed in [this paper](https://journals.aps.org/prresearch/pdf/10.1103/PhysRevResearch.2.033075). This can be implemented by first optimizing the weights on a modified model that sets $Re[log(\\psi)] = 0$ \n",
    "\n",
    "We also optimize over states with total $S_z$ of zero since we know the ground state has spin 0.\n",
    "\n",
    "## Defining the GCNN\n",
    "\n",
    "We can define a GCNN with an arbitrary number of layers and specify the feature dimension of each layer accordingly:"
   ]
  },
  {
   "cell_type": "code",
   "execution_count": null,
   "id": "0ff16a8f",
   "metadata": {
    "id": "0ff16a8f"
   },
   "outputs": [],
   "source": [
    "#Feature dimensions of hidden layers, from first to last\n",
    "feature_dims = (8,8,8,8)\n",
    "\n",
    "#Number of layers\n",
    "num_layers = 4\n",
    "\n",
    "#Define the GCNN \n",
    "ma = nk.models.GCNN(symmetries = symmetries, layers = num_layers, features = feature_dims)"
   ]
  },
  {
   "cell_type": "markdown",
   "id": "81d91df2",
   "metadata": {
    "id": "81d91df2"
   },
   "source": [
    "This a G-CNN with four layers, where each hidden layer contains a feature vector of length 8 for each element in p6m. This means that each hidden state has $8 \\times 192 = 768$ nodes. This is a huge model! But since we're not symmetry-averaging, we only need to compute one wavefunction for each ${\\bf \\sigma}$. \n",
    "\n",
    "Feel free to try different shaped models. By default, the GCNN weights are initialized with variance scaling, which ensures that the activations will be unit-normal throughout the model at the start of training. Additionally, GCNN defaults to a SELU non-linearity, which moves the activations in the direction of unit-normal, even when they start to deviate. These features ensure that our model will behave well, even when we stack a large number of layers.   "
   ]
  },
  {
   "cell_type": "markdown",
   "id": "de96a27f",
   "metadata": {
    "id": "de96a27f"
   },
   "source": [
    "## Variational Monte Carlo\n",
    "\n",
    "In order to perform VMC we need to define a sampler and an optimizer. We sample using Metropolis-Hastings, which uses the exchange rule to propose new states. The exchange rule swaps the spin of two neighbouring sites, keeping the magnetization fixed (in this case, 0). We optimize using stochastic reconfiguration, which uses curvature information to find the best direction of descent."
   ]
  },
  {
   "cell_type": "code",
   "execution_count": null,
   "id": "698d79a0",
   "metadata": {
    "id": "698d79a0"
   },
   "outputs": [],
   "source": [
    "#Metropolis-Hastings with two spins flipped that are at most second nearest neighbors \n",
    "sa = nk.sampler.MetropolisExchange(hilbert = hi, graph=graph, d_max=2)\n",
    "\n",
    "#Stochastic reconfiguration   \n",
    "op = nk.optimizer.Sgd(learning_rate=1e-2)\n",
    "sr = nk.optimizer.SR(diag_shift=0.01)\n",
    "\n",
    "#Define a variational state so we can keep the parameters if we like\n",
    "vstate = nk.variational.MCState(sampler=sa, model=ma, n_samples=100)\n",
    "\n",
    "#Define a driver that performs VMC\n",
    "gs = nk.driver.VMC(ha, op, sr=sr, variational_state=vstate)"
   ]
  },
  {
   "cell_type": "markdown",
   "id": "1043dc35",
   "metadata": {
    "id": "1043dc35"
   },
   "source": [
    "Lets start by running for 100 iterations. This took about 15 seconds per iteration on my CPU and about 1 second per iteration on the Tesla P100 GPU (If you're using the free version of Colab you may get a Tesla K80 which is slightly slower). GPUs are fast! As you'll see later, the speedup is even more pronounced on larger lattices.  "
   ]
  },
  {
   "cell_type": "code",
   "execution_count": null,
   "id": "415609da",
   "metadata": {
    "colab": {
     "base_uri": "https://localhost:8080/"
    },
    "id": "415609da",
    "outputId": "f9900b67-e565-4c80-bb06-ef786da62689"
   },
   "outputs": [
    {
     "name": "stderr",
     "output_type": "stream",
     "text": [
      "100%|██████████| 100/100 [01:06<00:00,  1.51it/s, Energy=-40.471 ± 0.046 [σ²=0.238, R̂=0.9744]]\n"
     ]
    },
    {
     "data": {
      "text/plain": [
       "(<netket.logging.json_log.JsonLog at 0x7fea898371d0>,)"
      ]
     },
     "execution_count": 15,
     "metadata": {
      "tags": []
     },
     "output_type": "execute_result"
    }
   ],
   "source": [
    "#Run the optimization\n",
    "gs.run(n_iter=100, out='out')"
   ]
  },
  {
   "cell_type": "markdown",
   "id": "12c16d79",
   "metadata": {
    "id": "12c16d79"
   },
   "source": [
    "This should get us under 0.1% error. Lets see how the energy evolves as we train."
   ]
  },
  {
   "cell_type": "code",
   "execution_count": null,
   "id": "c4145a4d",
   "metadata": {
    "colab": {
     "base_uri": "https://localhost:8080/",
     "height": 296
    },
    "id": "c4145a4d",
    "outputId": "d8fbb71f-ec9f-4928-80d3-93c7a588415c"
   },
   "outputs": [
    {
     "data": {
      "text/plain": [
       "[<matplotlib.lines.Line2D at 0x7fe6a2426510>]"
      ]
     },
     "execution_count": 16,
     "metadata": {
      "tags": []
     },
     "output_type": "execute_result"
    },
    {
     "data": {
      "image/png": "[encoded data removed]",
      "text/plain": [
       "<Figure size 432x288 with 1 Axes>"
      ]
     },
     "metadata": {
      "needs_background": "light",
      "tags": []
     },
     "output_type": "display_data"
    }
   ],
   "source": [
    "#Get data from log and \n",
    "energy = []\n",
    "data=json.load(open(\"out.log\"))\n",
    "for en in data[\"Energy\"][\"Mean\"]:\n",
    "    energy.append(en)\n",
    "    \n",
    "#plot the energy during the optimization\n",
    "plt.xlabel(\"Number of Iterations\")\n",
    "plt.ylabel(\"Energy\")\n",
    "\n",
    "plt.plot(energy)"
   ]
  },
  {
   "cell_type": "markdown",
   "id": "4555e14d",
   "metadata": {
    "id": "4555e14d"
   },
   "source": [
    "Looks like the first 40 iterations did most of the work! In order to get a more precise estimate, we can run 100 more iterations with a larger batch size. This will take about 15 minutes on the GPU (If you're using a CPU, I suggest you skip this section). We access the batch size via the variational state. "
   ]
  },
  {
   "cell_type": "code",
   "execution_count": null,
   "id": "d0975d82",
   "metadata": {
    "colab": {
     "base_uri": "https://localhost:8080/"
    },
    "id": "d0975d82",
    "outputId": "597e9d9c-25de-4c27-dacd-df1b17522541"
   },
   "outputs": [
    {
     "name": "stderr",
     "output_type": "stream",
     "text": [
      "100%|██████████| 100/100 [10:43<00:00,  6.43s/it, Energy=-40.3884 ± 0.0045 [σ²=0.0207, R̂=1.0033]]\n"
     ]
    },
    {
     "data": {
      "text/plain": [
       "(<netket.logging.json_log.JsonLog at 0x7fe6a31f2d90>,)"
      ]
     },
     "execution_count": 17,
     "metadata": {
      "tags": []
     },
     "output_type": "execute_result"
    }
   ],
   "source": [
    "#Change batch size\n",
    "vstate.n_samples = 1000\n",
    "\n",
    "#Driver uses new batch size\n",
    "gs = nk.driver.VMC(ha, op, sr=sr, variational_state=vstate)\n",
    "\n",
    "#Run for 100 more iterations\n",
    "gs.run(n_iter = 100,out = 'out')"
   ]
  },
  {
   "cell_type": "markdown",
   "id": "2870a049",
   "metadata": {
    "id": "2870a049"
   },
   "source": [
    "You will notice that the variance continues to get even smaller, giving evidence that we are nearing an eigenstate.  "
   ]
  },
  {
   "cell_type": "markdown",
   "id": "6a39b900",
   "metadata": {
    "id": "6a39b900"
   },
   "source": [
    "## Checking with ED\n",
    "\n",
    "It seems likely that our ground state is correct, as we approached an eigenstate with low energy, but lets be safe and check our work. We can do Lanczos diagonalization for small lattices in NetKet.  "
   ]
  },
  {
   "cell_type": "code",
   "execution_count": null,
   "id": "bdae352f",
   "metadata": {
    "id": "bdae352f"
   },
   "outputs": [],
   "source": [
    "#Exact Diagonalization\n",
    "E_gs = nk.exact.lanczos_ed(ha, compute_eigenvectors=False)"
   ]
  },
  {
   "cell_type": "markdown",
   "id": "305f6db1",
   "metadata": {
    "id": "305f6db1"
   },
   "source": [
    "Lets compare the VMC energy with the ED energy, by taking average energy over the last $20$ iterations"
   ]
  },
  {
   "cell_type": "code",
   "execution_count": null,
   "id": "ae4f3061",
   "metadata": {
    "colab": {
     "base_uri": "https://localhost:8080/"
    },
    "id": "ae4f3061",
    "outputId": "6b991605-ba59-4a20-b7b1-c7694b57d0e9"
   },
   "outputs": [
    {
     "name": "stdout",
     "output_type": "stream",
     "text": [
      "-2.2437762156893766\n",
      "-2.243814630334411\n",
      "1.7120240021148795e-05\n"
     ]
    }
   ],
   "source": [
    "#Get data from larger batch size\n",
    "energy = []\n",
    "data=json.load(open(\"out.log\"))\n",
    "for en in data[\"Energy\"][\"Mean\"]:\n",
    "    energy.append(en)\n",
    "\n",
    "vmc_energy_18sites = np.mean(np.asarray(energy)[-20:])/18\n",
    "\n",
    "ED_energy_18sites = E_gs[0]/18\n",
    "\n",
    "print(vmc_energy_18sites)\n",
    "print(ED_energy_18sites)\n",
    "print((ED_energy_18sites- vmc_energy_18sites)/ED_energy_18sites)"
   ]
  },
  {
   "cell_type": "markdown",
   "id": "0241c966",
   "metadata": {
    "id": "0241c966"
   },
   "source": [
    "Looks like our model did a good job! If you just trained for the first 100 iterations the error should be less than $10^{-4}$ and if you trained with the larger batch size, the error should be close to $10^{-5}$"
   ]
  },
  {
   "cell_type": "markdown",
   "id": "ea3128c9",
   "metadata": {
    "id": "ea3128c9"
   },
   "source": [
    "## Simulating A Larger Lattice\n",
    "\n",
    "Lets see how the GCNN does on a larger lattice that cannot be simulated with exact diagonalization. We'll do a $6 \\times 6$ lattice which has $72$ sites. We need to redefine a few things:"
   ]
  },
  {
   "cell_type": "code",
   "execution_count": null,
   "id": "466e14c7",
   "metadata": {
    "colab": {
     "base_uri": "https://localhost:8080/"
    },
    "id": "466e14c7",
    "outputId": "85aee6d3-e9cd-4c93-9207-65717669400a"
   },
   "outputs": [
    {
     "name": "stdout",
     "output_type": "stream",
     "text": [
      "432\n"
     ]
    }
   ],
   "source": [
    "#Redefine bigger graph\n",
    "dimensions = [6,6]\n",
    "\n",
    "#Define the graph \n",
    "graph = nk.graph.Lattice(basis_vectors=basis_vectors, \n",
    "                         atoms_coord = atom_positions, \n",
    "                         extent = dimensions\n",
    "                        )\n",
    "# Redefine the Hilbert/Hamiltonian for larger lattice space\n",
    "hi = nk.hilbert.Spin(s=1 / 2, N=graph.n_nodes, total_sz = 0)\n",
    "ha = nk.operator.Heisenberg(hilbert=hi, graph=graph, sign_rule=True)\n",
    "\n",
    "# Compute the symmetries for the bigger graph \n",
    "symmetries = graph.automorphisms()\n",
    "print(len(symmetries))\n",
    "\n",
    "#Redefine everything on bigger graph\n",
    "ma = nk.models.GCNN(symmetries = symmetries, layers = num_layers, features = feature_dims)\n",
    "sa = nk.sampler.MetropolisExchange(hilbert = hi, graph=graph, d_max=2)\n",
    "vstate = nk.variational.MCState(sampler=sa, model=ma, n_samples=100, n_discard_per_chain=100)\n",
    "gs = nk.driver.VMC(ha, op, sr=sr, variational_state=vstate)"
   ]
  },
  {
   "cell_type": "markdown",
   "id": "4c736a85",
   "metadata": {
    "id": "4c736a85"
   },
   "source": [
    "Looks like we have no extra symmetries this time, since $6 \\times 6 \\times 12 = 432$. Let's run this model for 100 iterations. You will see that we quickly get close  to the ground state. This takes 15 minutes on a P100 GPU"
   ]
  },
  {
   "cell_type": "code",
   "execution_count": null,
   "id": "O04c-p7Yv7Bx",
   "metadata": {
    "colab": {
     "base_uri": "https://localhost:8080/"
    },
    "id": "O04c-p7Yv7Bx",
    "outputId": "18c8581f-602e-4140-f111-8023bd08998f"
   },
   "outputs": [
    {
     "name": "stderr",
     "output_type": "stream",
     "text": [
      "100%|██████████| 100/100 [14:53<00:00,  8.93s/it, Energy=-155.43 ± 0.53 [σ²=31.79, R̂=0.9946]]\n"
     ]
    }
   ],
   "source": [
    "energy = []\n",
    "variance = []\n",
    "\n",
    "gs.run(n_iter=100,out=\"out\")\n",
    "\n",
    "data = json.load(open(\"out.log\"))\n",
    "\n",
    "for en in data[\"Energy\"][\"Mean\"]:\n",
    "    energy.append(en)\n",
    "for var in data[\"Energy\"][\"Variance\"]:\n",
    "    variance.append(var)\n"
   ]
  },
  {
   "cell_type": "markdown",
   "id": "6DfCNu30xMy-",
   "metadata": {
    "id": "6DfCNu30xMy-"
   },
   "source": [
    "We can plot the energy and variance to see if we're approaching an eigenstate"
   ]
  },
  {
   "cell_type": "code",
   "execution_count": null,
   "id": "THwnPjzyw60t",
   "metadata": {
    "colab": {
     "base_uri": "https://localhost:8080/",
     "height": 297
    },
    "id": "THwnPjzyw60t",
    "outputId": "05723ad2-50f9-47d5-b859-990ffb20c3ce"
   },
   "outputs": [
    {
     "data": {
      "text/plain": [
       "[<matplotlib.lines.Line2D at 0x7f20e9c2b190>]"
      ]
     },
     "execution_count": 12,
     "metadata": {
      "tags": []
     },
     "output_type": "execute_result"
    },
    {
     "data": {
      "image/png": "[encoded data removed]",
      "text/plain": [
       "<Figure size 432x288 with 1 Axes>"
      ]
     },
     "metadata": {
      "needs_background": "light",
      "tags": []
     },
     "output_type": "display_data"
    }
   ],
   "source": [
    "plt.xlabel(\"Number of Iterations\")\n",
    "plt.ylabel(\"Energy\")\n",
    "plt.plot(energy)"
   ]
  },
  {
   "cell_type": "code",
   "execution_count": null,
   "id": "_mWuKCV3xkVv",
   "metadata": {
    "colab": {
     "base_uri": "https://localhost:8080/",
     "height": 297
    },
    "id": "_mWuKCV3xkVv",
    "outputId": "73cd6d59-7565-4665-f270-7c3d413d9059"
   },
   "outputs": [
    {
     "data": {
      "text/plain": [
       "[<matplotlib.lines.Line2D at 0x7f20e9702e90>]"
      ]
     },
     "execution_count": 13,
     "metadata": {
      "tags": []
     },
     "output_type": "execute_result"
    },
    {
     "data": {
      "image/png": "[encoded data removed]",
      "text/plain": [
       "<Figure size 432x288 with 1 Axes>"
      ]
     },
     "metadata": {
      "needs_background": "light",
      "tags": []
     },
     "output_type": "display_data"
    }
   ],
   "source": [
    "plt.xlabel(\"Number of Iterations\")\n",
    "plt.ylabel(\"Variance\")\n",
    "plt.plot(variance)"
   ]
  },
  {
   "cell_type": "markdown",
   "id": "k-bxulx_xjD8",
   "metadata": {
    "id": "k-bxulx_xjD8"
   },
   "source": [
    "It seems we are near an eigenstate. We can do a back-of-the-envelope calculation to see if this is a realistic ground state energy\n",
    "\n"
   ]
  },
  {
   "cell_type": "code",
   "execution_count": null,
   "id": "ZICy6iG9yR7_",
   "metadata": {
    "colab": {
     "base_uri": "https://localhost:8080/"
    },
    "id": "ZICy6iG9yR7_",
    "outputId": "db7f16a5-8dc5-4072-9bcf-8739cc2112f8"
   },
   "outputs": [
    {
     "name": "stdout",
     "output_type": "stream",
     "text": [
      "-2.243814630334411\n",
      "-2.158805247393738\n"
     ]
    }
   ],
   "source": [
    "print(ED_energy_18sites)\n",
    "print(energy[-1]/graph.n_nodes)"
   ]
  },
  {
   "cell_type": "markdown",
   "id": "TMOADxFoyi7Q",
   "metadata": {
    "id": "TMOADxFoyi7Q"
   },
   "source": [
    "The energy for the bigger lattice is slightly less negative (as is typical for Heisenberg models with PBC) but they are pretty similar. It's clear we are approaching the ground state"
   ]
  },
  {
   "cell_type": "markdown",
   "id": "CLQ6AlwTvZJG",
   "metadata": {
    "id": "CLQ6AlwTvZJG"
   },
   "source": [
    "We will benchmark how well our model is performing by tracking the relationship between the mean and variance of the energy over 400 more iterations. Then we will extrapolate this relationship to estimate the true ground state energy. This can tell us how our error evolves over time."
   ]
  },
  {
   "cell_type": "code",
   "execution_count": null,
   "id": "eeda94f6",
   "metadata": {
    "colab": {
     "base_uri": "https://localhost:8080/"
    },
    "id": "eeda94f6",
    "outputId": "966d7791-0b83-4d74-bd52-881cefc35416"
   },
   "outputs": [
    {
     "name": "stderr",
     "output_type": "stream",
     "text": [
      "100%|██████████| 20/20 [02:56<00:00,  8.81s/it, Energy=-157.22 ± 0.32 [σ²=11.34, R̂=0.9780]]"
     ]
    },
    {
     "name": "stdout",
     "output_type": "stream",
     "text": [
      "\n",
      "\n",
      "-156.9362404126101\n",
      "10.740704288189896\n"
     ]
    },
    {
     "name": "stderr",
     "output_type": "stream",
     "text": [
      "\n"
     ]
    }
   ],
   "source": [
    "intervals = 20\n",
    "\n",
    "en_estimates = []\n",
    "var_estimates = []\n",
    "\n",
    "for interval in range(intervals):\n",
    "    #run for 100 iterations\n",
    "    gs.run(n_iter=20,out='out')\n",
    "\n",
    "    #load data from iterations\n",
    "    data = json.load(open(\"out.log\"))\n",
    "\n",
    "    #append energies and variances to data\n",
    "    for en in data[\"Energy\"][\"Mean\"]:\n",
    "        energy.append(en)\n",
    "    for var in data[\"Energy\"][\"Variance\"]:\n",
    "        variance.append(var)\n",
    "\n",
    "    en_est = np.mean(energy[-20:])\n",
    "    var_est = np.mean(variance[-20:])\n",
    "    en_estimates.append(en_est)\n",
    "    var_estimates.append(var_est)\n",
    "\n",
    "    print('\\n')\n",
    "    print(en_est)\n",
    "    print(var_est)"
   ]
  },
  {
   "cell_type": "markdown",
   "id": "f59fbc87",
   "metadata": {
    "id": "f59fbc87"
   },
   "source": [
    "Lets plot the energy vs. variance and draw a line of best fit"
   ]
  },
  {
   "cell_type": "code",
   "execution_count": null,
   "id": "56763669",
   "metadata": {
    "colab": {
     "base_uri": "https://localhost:8080/",
     "height": 297
    },
    "id": "56763669",
    "outputId": "6e602837-1336-412e-9b4d-fcce368d28ec"
   },
   "outputs": [
    {
     "data": {
      "text/plain": [
       "[<matplotlib.lines.Line2D at 0x7f20e4704410>]"
      ]
     },
     "execution_count": 17,
     "metadata": {
      "tags": []
     },
     "output_type": "execute_result"
    },
    {
     "data": {
      "image/png": "[encoded data removed]",
      "text/plain": [
       "<Figure size 432x288 with 1 Axes>"
      ]
     },
     "metadata": {
      "needs_background": "light",
      "tags": []
     },
     "output_type": "display_data"
    }
   ],
   "source": [
    "plt.xlabel(\"Variance\")\n",
    "plt.ylabel(\"Energy\")\n",
    "plt.scatter(var_estimates,en_estimates)\n",
    "fit = np.polyfit(var_estimates,en_estimates,2)\n",
    "x = np.arange(100)*np.max(var_estimates)/100\n",
    "plt.plot(x,fit[2] + fit[1]*x + fit[0]*np.square(x))"
   ]
  },
  {
   "cell_type": "markdown",
   "id": "6pUW039uYnhW",
   "metadata": {
    "id": "6pUW039uYnhW"
   },
   "source": [
    "You can see that that the relationship between energy and variance is fairly well captured by a quadratic function. We can use this extrapolation to estimate the true ground state energy and the error in our wavefunction. Lets estimate the final energy of our Ansatz using our last 10,000 samples"
   ]
  },
  {
   "cell_type": "code",
   "execution_count": 20,
   "id": "1odflAb6ZWBH",
   "metadata": {
    "colab": {
     "base_uri": "https://localhost:8080/"
    },
    "id": "1odflAb6ZWBH",
    "outputId": "177c30e1-b048-492e-8bea-c54cc184b0aa"
   },
   "outputs": [
    {
     "name": "stdout",
     "output_type": "stream",
     "text": [
      "0.0012942848437390558\n"
     ]
    }
   ],
   "source": [
    "final_en = np.mean(en_estimates[-5:])\n",
    "extrapolated_est = fit[2]\n",
    "\n",
    "print((extrapolated_est-final_en)/extrapolated_est)"
   ]
  },
  {
   "cell_type": "markdown",
   "id": "f479b107",
   "metadata": {
    "id": "f479b107"
   },
   "source": [
    "If everything went well your error should be around .1%!\n",
    "\n",
    "This concludes the tutorial. Only an hour ago we knew nothing about the Heisenberg model on a Hexagonal lattice. Now we have an accurate approximation of the ground state wavefunction!"
   ]
  }
 ],
 "metadata": {
  "accelerator": "GPU",
  "colab": {
   "collapsed_sections": [],
   "name": "G-CNN Honeycomb.ipynb",
   "provenance": [],
   "toc_visible": true
  },
  "kernelspec": {
   "display_name": "Python 3",
   "language": "python",
   "name": "python3"
  },
  "language_info": {
   "codemirror_mode": {
    "name": "ipython",
    "version": 3
   },
   "file_extension": ".py",
   "mimetype": "text/x-python",
   "name": "python",
   "nbconvert_exporter": "python",
   "pygments_lexer": "ipython3",
   "version": "3.10.2"
  }
 },
 "nbformat": 4,
 "nbformat_minor": 5
}
